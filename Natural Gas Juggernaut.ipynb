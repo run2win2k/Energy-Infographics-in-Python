{
 "cells": [
  {
   "cell_type": "code",
   "execution_count": 1,
   "metadata": {},
   "outputs": [],
   "source": [
    "import pandas as pd\n",
    "import numpy as np\n",
    "from datetime import datetime\n",
    "import matplotlib.pyplot as plt"
   ]
  },
  {
   "cell_type": "code",
   "execution_count": 2,
   "metadata": {},
   "outputs": [],
   "source": [
    "#Table 6.3. New Utility Scale Generating Units by Operating Company, Plant, and Month, 2020\n",
    "#Table 6.4. Retired Utility Scale Generating Units by Operating Company, Plant, and Month, 2020\n",
    "\n",
    "#available at:https://www.eia.gov/electricity/monthly/"
   ]
  },
  {
   "cell_type": "code",
   "execution_count": 3,
   "metadata": {},
   "outputs": [],
   "source": [
    "newplant_list =  [\"Table_6_03_Oct_2020_raw.xlsx\",\\\n",
    "                  \"Table_6_03_Feb_2020_raw.xlsx\",\\\n",
    "                  \"Table_6_03_Feb_2019_raw.xlsx\",\\\n",
    "                  \"Table_6_03_Feb_2018_raw.xlsx\",\\\n",
    "                  \"Table_6_03_Feb_2017_raw.xlsx\",\\\n",
    "                  \"Table_6_03_Feb_2016_raw.xlsx\"]"
   ]
  },
  {
   "cell_type": "code",
   "execution_count": 4,
   "metadata": {},
   "outputs": [
    {
     "data": {
      "text/html": [
       "<div>\n",
       "<style scoped>\n",
       "    .dataframe tbody tr th:only-of-type {\n",
       "        vertical-align: middle;\n",
       "    }\n",
       "\n",
       "    .dataframe tbody tr th {\n",
       "        vertical-align: top;\n",
       "    }\n",
       "\n",
       "    .dataframe thead th {\n",
       "        text-align: right;\n",
       "    }\n",
       "</style>\n",
       "<table border=\"1\" class=\"dataframe\">\n",
       "  <thead>\n",
       "    <tr style=\"text-align: right;\">\n",
       "      <th></th>\n",
       "      <th>Year</th>\n",
       "      <th>Month</th>\n",
       "      <th>Entity ID</th>\n",
       "      <th>Entity Name</th>\n",
       "      <th>Plant Producer Type</th>\n",
       "      <th>Plant Name</th>\n",
       "      <th>Plant State</th>\n",
       "      <th>Plant ID</th>\n",
       "      <th>Generator ID</th>\n",
       "      <th>\\nNet Summer Capacity (MW)</th>\n",
       "      <th>Technology</th>\n",
       "      <th>Energy Source Code</th>\n",
       "      <th>Prime Mover Code</th>\n",
       "    </tr>\n",
       "  </thead>\n",
       "  <tbody>\n",
       "    <tr>\n",
       "      <th>0</th>\n",
       "      <td>2019</td>\n",
       "      <td>1.0</td>\n",
       "      <td>60571.0</td>\n",
       "      <td>AEP Onsite Partners</td>\n",
       "      <td>IPP</td>\n",
       "      <td>Trout Creek Solar</td>\n",
       "      <td>CO</td>\n",
       "      <td>62260.0</td>\n",
       "      <td>44901</td>\n",
       "      <td>2.0</td>\n",
       "      <td>Solar Photovoltaic</td>\n",
       "      <td>SUN</td>\n",
       "      <td>PV</td>\n",
       "    </tr>\n",
       "    <tr>\n",
       "      <th>1</th>\n",
       "      <td>2019</td>\n",
       "      <td>1.0</td>\n",
       "      <td>61482.0</td>\n",
       "      <td>AES ES GILBERT, LLC</td>\n",
       "      <td>IPP</td>\n",
       "      <td>AES ES GILBERT</td>\n",
       "      <td>AZ</td>\n",
       "      <td>61861.0</td>\n",
       "      <td>SRP</td>\n",
       "      <td>10.0</td>\n",
       "      <td>Batteries</td>\n",
       "      <td>MWH</td>\n",
       "      <td>BA</td>\n",
       "    </tr>\n",
       "    <tr>\n",
       "      <th>2</th>\n",
       "      <td>2019</td>\n",
       "      <td>1.0</td>\n",
       "      <td>60281.0</td>\n",
       "      <td>Altus Power America Management, LLC</td>\n",
       "      <td>IPP</td>\n",
       "      <td>Corcoran CSG</td>\n",
       "      <td>MN</td>\n",
       "      <td>61971.0</td>\n",
       "      <td>201</td>\n",
       "      <td>1.0</td>\n",
       "      <td>Solar Photovoltaic</td>\n",
       "      <td>SUN</td>\n",
       "      <td>PV</td>\n",
       "    </tr>\n",
       "    <tr>\n",
       "      <th>3</th>\n",
       "      <td>2019</td>\n",
       "      <td>1.0</td>\n",
       "      <td>60281.0</td>\n",
       "      <td>Altus Power America Management, LLC</td>\n",
       "      <td>IPP</td>\n",
       "      <td>Corcoran CSG</td>\n",
       "      <td>MN</td>\n",
       "      <td>61971.0</td>\n",
       "      <td>202</td>\n",
       "      <td>1.0</td>\n",
       "      <td>Solar Photovoltaic</td>\n",
       "      <td>SUN</td>\n",
       "      <td>PV</td>\n",
       "    </tr>\n",
       "    <tr>\n",
       "      <th>4</th>\n",
       "      <td>2019</td>\n",
       "      <td>1.0</td>\n",
       "      <td>60281.0</td>\n",
       "      <td>Altus Power America Management, LLC</td>\n",
       "      <td>IPP</td>\n",
       "      <td>Corcoran CSG</td>\n",
       "      <td>MN</td>\n",
       "      <td>61971.0</td>\n",
       "      <td>203</td>\n",
       "      <td>1.0</td>\n",
       "      <td>Solar Photovoltaic</td>\n",
       "      <td>SUN</td>\n",
       "      <td>PV</td>\n",
       "    </tr>\n",
       "  </tbody>\n",
       "</table>\n",
       "</div>"
      ],
      "text/plain": [
       "   Year  Month  Entity ID                          Entity Name  \\\n",
       "0  2019    1.0    60571.0                  AEP Onsite Partners   \n",
       "1  2019    1.0    61482.0                  AES ES GILBERT, LLC   \n",
       "2  2019    1.0    60281.0  Altus Power America Management, LLC   \n",
       "3  2019    1.0    60281.0  Altus Power America Management, LLC   \n",
       "4  2019    1.0    60281.0  Altus Power America Management, LLC   \n",
       "\n",
       "  Plant Producer Type         Plant Name Plant State  Plant ID Generator ID  \\\n",
       "0                 IPP  Trout Creek Solar          CO   62260.0        44901   \n",
       "1                 IPP     AES ES GILBERT          AZ   61861.0          SRP   \n",
       "2                 IPP       Corcoran CSG          MN   61971.0          201   \n",
       "3                 IPP       Corcoran CSG          MN   61971.0          202   \n",
       "4                 IPP       Corcoran CSG          MN   61971.0          203   \n",
       "\n",
       "   \\nNet Summer Capacity (MW)          Technology Energy Source Code  \\\n",
       "0                         2.0  Solar Photovoltaic                SUN   \n",
       "1                        10.0           Batteries                MWH   \n",
       "2                         1.0  Solar Photovoltaic                SUN   \n",
       "3                         1.0  Solar Photovoltaic                SUN   \n",
       "4                         1.0  Solar Photovoltaic                SUN   \n",
       "\n",
       "  Prime Mover Code  \n",
       "0               PV  \n",
       "1               BA  \n",
       "2               PV  \n",
       "3               PV  \n",
       "4               PV  "
      ]
     },
     "execution_count": 4,
     "metadata": {},
     "output_type": "execute_result"
    }
   ],
   "source": [
    "example = pd.read_excel(\"Table_6_03_Feb_2020_raw.xlsx\",skiprows=1)\n",
    "example.head()"
   ]
  },
  {
   "cell_type": "code",
   "execution_count": 5,
   "metadata": {},
   "outputs": [
    {
     "data": {
      "text/plain": [
       "array(['Solar Photovoltaic', 'Batteries', 'Onshore Wind Turbine',\n",
       "       'Natural Gas Internal Combustion Engine', 'Petroleum Liquids',\n",
       "       'Conventional Hydroelectric',\n",
       "       'Natural Gas Fired Combustion Turbine',\n",
       "       'Natural Gas Steam Turbine', 'Other Natural Gas',\n",
       "       'Natural Gas Fired Combined Cycle', 'Landfill Gas',\n",
       "       'Wood/Wood Waste Biomass', 'Other Waste Biomass', 'All Other', nan],\n",
       "      dtype=object)"
      ]
     },
     "execution_count": 5,
     "metadata": {},
     "output_type": "execute_result"
    }
   ],
   "source": [
    "example['Technology'].unique()"
   ]
  },
  {
   "cell_type": "code",
   "execution_count": 6,
   "metadata": {},
   "outputs": [
    {
     "data": {
      "text/plain": [
       "array(['SUN', 'MWH', 'WND', 'NG', 'DFO', 'WAT', 'LFG', 'WDS', 'OBG', 'WH',\n",
       "       'AB', nan], dtype=object)"
      ]
     },
     "execution_count": 6,
     "metadata": {},
     "output_type": "execute_result"
    }
   ],
   "source": [
    "example['Energy Source Code'].unique()"
   ]
  },
  {
   "cell_type": "markdown",
   "metadata": {},
   "source": [
    "Note: These are not all-encompassing lists of possible codes, these are just the codes corresponding to plant types \n",
    "in the example file.  For example, as no nuclear plants came online in 2019 (Feb 2020 file covers CY2019 data), no nuclear\n",
    "plants are present in this file and associated Technology/code (Nuclear, NUC) are not in these example lists.  Also note that natural gas plants span three different technologies, but all three technologies have the same source code (NG)."
   ]
  },
  {
   "cell_type": "code",
   "execution_count": 41,
   "metadata": {},
   "outputs": [],
   "source": [
    "shutdown_list =  [\"Table_6_04_Oct_2020_raw.xlsx\",\\\n",
    "                  \"Table_6_04_Feb_2020_raw.xlsx\",\\\n",
    "                  \"Table_6_04_Feb_2019_raw.xlsx\",\\\n",
    "                  \"Table_6_04_Feb_2018_raw.xlsx\",\\\n",
    "                  \"Table_6_04_Feb_2017_raw.xlsx\",\\\n",
    "                  \"Table_6_04_Feb_2016_raw.xlsx\"]"
   ]
  },
  {
   "cell_type": "code",
   "execution_count": 8,
   "metadata": {},
   "outputs": [
    {
     "data": {
      "text/plain": [
       "array(['Natural Gas Steam Turbine', 'Conventional Steam Coal',\n",
       "       'Geothermal', 'Natural Gas Fired Combined Cycle',\n",
       "       'Natural Gas Fired Combustion Turbine',\n",
       "       'Natural Gas Internal Combustion Engine',\n",
       "       'Wood/Wood Waste Biomass', 'Petroleum Liquids',\n",
       "       'Municipal Solid Waste', 'Nuclear', 'Conventional Hydroelectric',\n",
       "       'Other Waste Biomass', 'Landfill Gas', 'Solar Photovoltaic',\n",
       "       'Petroleum Coke', 'Onshore Wind Turbine', nan], dtype=object)"
      ]
     },
     "execution_count": 8,
     "metadata": {},
     "output_type": "execute_result"
    }
   ],
   "source": [
    "example2 = pd.read_excel(\"Table_6_04_Feb_2020_raw.xlsx\",skiprows=1)\n",
    "example2['Technology'].unique()"
   ]
  },
  {
   "cell_type": "code",
   "execution_count": 9,
   "metadata": {},
   "outputs": [],
   "source": [
    "###this function is to process numeric values encoded as string/objects in input files which may inclue space character\n",
    "\n",
    "def obj_convert(x):\n",
    "    try:\n",
    "        y = float(x)\n",
    "    except ValueError:\n",
    "        y = np.nan\n",
    "    return y"
   ]
  },
  {
   "cell_type": "code",
   "execution_count": 10,
   "metadata": {},
   "outputs": [],
   "source": [
    "f1= lambda x: datetime(int(x['Year']), int(x['Month']),15)"
   ]
  },
  {
   "cell_type": "code",
   "execution_count": 11,
   "metadata": {},
   "outputs": [],
   "source": [
    "def simple_process(file_list):\n",
    "    \n",
    "    col_names = ['Year','Month','Ent_ID','Owner','Owner_type','Plant Name','State','Plant_ID','Gen_ID','Capacity_MW',\\\n",
    "         'Technology','Energy Source Code','Prime Mover']\n",
    "    \n",
    "    use = ['Year','Month','Plant Name','State','Plant_ID','Gen_ID','Capacity_MW','Technology','Energy Source Code']\n",
    "    \n",
    "    load = pd.read_excel(file_list[0],skiprows=1,header=0, names=col_names,skipfooter=1)\n",
    "    carry = load[use]\n",
    "    del load\n",
    "    carry['Date'] = carry.apply(f1,axis=1)\n",
    "    carry['Capacity_MW'] = carry['Capacity_MW'].apply(obj_convert)\n",
    "    \n",
    "    for i in range(1, len(file_list)):\n",
    "        load = pd.read_excel(file_list[i],skiprows=1,header=0, names=col_names,skipfooter=1)\n",
    "        load = load[use]\n",
    "        load['Date'] = load.apply(f1,axis=1)\n",
    "        load['Capacity_MW'] = load['Capacity_MW'].apply(obj_convert)        \n",
    "        carry = pd.concat([carry,load])\n",
    "        del load\n",
    "\n",
    "    return carry"
   ]
  },
  {
   "cell_type": "code",
   "execution_count": 12,
   "metadata": {},
   "outputs": [
    {
     "data": {
      "text/html": [
       "<div>\n",
       "<style scoped>\n",
       "    .dataframe tbody tr th:only-of-type {\n",
       "        vertical-align: middle;\n",
       "    }\n",
       "\n",
       "    .dataframe tbody tr th {\n",
       "        vertical-align: top;\n",
       "    }\n",
       "\n",
       "    .dataframe thead th {\n",
       "        text-align: right;\n",
       "    }\n",
       "</style>\n",
       "<table border=\"1\" class=\"dataframe\">\n",
       "  <thead>\n",
       "    <tr style=\"text-align: right;\">\n",
       "      <th></th>\n",
       "      <th>Year</th>\n",
       "      <th>Month</th>\n",
       "      <th>Plant Name</th>\n",
       "      <th>State</th>\n",
       "      <th>Plant_ID</th>\n",
       "      <th>Gen_ID</th>\n",
       "      <th>Capacity_MW</th>\n",
       "      <th>Technology</th>\n",
       "      <th>Energy Source Code</th>\n",
       "      <th>Date</th>\n",
       "    </tr>\n",
       "  </thead>\n",
       "  <tbody>\n",
       "    <tr>\n",
       "      <th>10</th>\n",
       "      <td>2020</td>\n",
       "      <td>1</td>\n",
       "      <td>Asheville</td>\n",
       "      <td>NC</td>\n",
       "      <td>2706</td>\n",
       "      <td>CT7</td>\n",
       "      <td>153.0</td>\n",
       "      <td>Natural Gas Fired Combined Cycle</td>\n",
       "      <td>NG</td>\n",
       "      <td>2020-01-15</td>\n",
       "    </tr>\n",
       "    <tr>\n",
       "      <th>13</th>\n",
       "      <td>2020</td>\n",
       "      <td>1</td>\n",
       "      <td>Hinds Energy Facility</td>\n",
       "      <td>MS</td>\n",
       "      <td>55218</td>\n",
       "      <td>H04BS</td>\n",
       "      <td>36.4</td>\n",
       "      <td>Natural Gas Fired Combustion Turbine</td>\n",
       "      <td>NG</td>\n",
       "      <td>2020-01-15</td>\n",
       "    </tr>\n",
       "    <tr>\n",
       "      <th>30</th>\n",
       "      <td>2020</td>\n",
       "      <td>1</td>\n",
       "      <td>Power Island</td>\n",
       "      <td>TX</td>\n",
       "      <td>10154</td>\n",
       "      <td>GEN2</td>\n",
       "      <td>50.0</td>\n",
       "      <td>Natural Gas Fired Combustion Turbine</td>\n",
       "      <td>NG</td>\n",
       "      <td>2020-01-15</td>\n",
       "    </tr>\n",
       "    <tr>\n",
       "      <th>54</th>\n",
       "      <td>2020</td>\n",
       "      <td>1</td>\n",
       "      <td>H Wilson Sundt Generating Station</td>\n",
       "      <td>AZ</td>\n",
       "      <td>126</td>\n",
       "      <td>RIC10</td>\n",
       "      <td>18.2</td>\n",
       "      <td>Natural Gas Internal Combustion Engine</td>\n",
       "      <td>NG</td>\n",
       "      <td>2020-01-15</td>\n",
       "    </tr>\n",
       "    <tr>\n",
       "      <th>55</th>\n",
       "      <td>2020</td>\n",
       "      <td>1</td>\n",
       "      <td>H Wilson Sundt Generating Station</td>\n",
       "      <td>AZ</td>\n",
       "      <td>126</td>\n",
       "      <td>RIC6</td>\n",
       "      <td>18.2</td>\n",
       "      <td>Natural Gas Internal Combustion Engine</td>\n",
       "      <td>NG</td>\n",
       "      <td>2020-01-15</td>\n",
       "    </tr>\n",
       "  </tbody>\n",
       "</table>\n",
       "</div>"
      ],
      "text/plain": [
       "    Year  Month                         Plant Name State  Plant_ID Gen_ID  \\\n",
       "10  2020      1                          Asheville    NC      2706    CT7   \n",
       "13  2020      1              Hinds Energy Facility    MS     55218  H04BS   \n",
       "30  2020      1                       Power Island    TX     10154   GEN2   \n",
       "54  2020      1  H Wilson Sundt Generating Station    AZ       126  RIC10   \n",
       "55  2020      1  H Wilson Sundt Generating Station    AZ       126   RIC6   \n",
       "\n",
       "    Capacity_MW                              Technology Energy Source Code  \\\n",
       "10        153.0        Natural Gas Fired Combined Cycle                 NG   \n",
       "13         36.4    Natural Gas Fired Combustion Turbine                 NG   \n",
       "30         50.0    Natural Gas Fired Combustion Turbine                 NG   \n",
       "54         18.2  Natural Gas Internal Combustion Engine                 NG   \n",
       "55         18.2  Natural Gas Internal Combustion Engine                 NG   \n",
       "\n",
       "         Date  \n",
       "10 2020-01-15  \n",
       "13 2020-01-15  \n",
       "30 2020-01-15  \n",
       "54 2020-01-15  \n",
       "55 2020-01-15  "
      ]
     },
     "execution_count": 12,
     "metadata": {},
     "output_type": "execute_result"
    }
   ],
   "source": [
    "test = simple_process(newplant_list)\n",
    "allNG = test[test['Energy Source Code']=='NG']\n",
    "allNG.head(5)"
   ]
  },
  {
   "cell_type": "code",
   "execution_count": 13,
   "metadata": {},
   "outputs": [
    {
     "data": {
      "text/plain": [
       "Technology\n",
       "Natural Gas Fired Combined Cycle          46557.9\n",
       "Natural Gas Fired Combustion Turbine       9041.4\n",
       "Natural Gas Internal Combustion Engine     1913.5\n",
       "Natural Gas Steam Turbine                    87.7\n",
       "Other Natural Gas                            32.5\n",
       "Name: Capacity_MW, dtype: float64"
      ]
     },
     "execution_count": 13,
     "metadata": {},
     "output_type": "execute_result"
    }
   ],
   "source": [
    "allNG.groupby('Technology')['Capacity_MW'].sum()"
   ]
  },
  {
   "cell_type": "code",
   "execution_count": 14,
   "metadata": {},
   "outputs": [],
   "source": [
    "#to get consolidated multi-year lists of new plants, it is necessary to group by for each individual year.  This is\n",
    "#because a single plant may add new operating units in different years. Changes in operating units are the most\n",
    "#appropriate way to evaluate \"plant\" changes.\n",
    "\n",
    "\n",
    "def process_data_newplant(file_list, source_code):\n",
    "    agg_dict = {'Date':\"first\",'State':\"first\",'Plant_ID':\"first\",'Capacity_MW':\"sum\", \\\n",
    "            'Technology':\"first\",'Energy Source Code':\"first\"}\n",
    "    \n",
    "    col_names = ['Year','Month','Ent_ID','Owner','Owner_type','Plant Name','State','Plant_ID','Gen_ID','Capacity_MW',\\\n",
    "         'Technology','Energy Source Code','Prime Mover']\n",
    "    \n",
    "    use = ['Year','Month','Plant Name','State','Plant_ID','Capacity_MW','Technology','Energy Source Code']\n",
    "    \n",
    "    f1= lambda x: datetime(int(x['Year']), int(x['Month']),15)\n",
    "    \n",
    "    init = pd.read_excel(file_list[0],skiprows=1,header=0, names=col_names)\n",
    "    init = init[use]\n",
    "    carry = init[init['Energy Source Code']==source_code].copy()\n",
    "    del init   \n",
    "    carry['Date'] = carry.apply(f1,axis=1)\n",
    "    carry['Capacity_MW'] = carry['Capacity_MW'].apply(obj_convert)\n",
    "    out = carry.groupby(\"Plant Name\",as_index=False).agg(agg_dict)\n",
    "    out1 = carry.groupby(\"Date\",as_index=False)['Capacity_MW'].sum()\n",
    "    for i in range(1, len(file_list)):\n",
    "        load = pd.read_excel(file_list[i],skiprows=1,header=0, names=col_names)\n",
    "        load = load[use]\n",
    "        s_load = load[load['Energy Source Code']==source_code].copy()\n",
    "        del load\n",
    "        s_load['Date'] = s_load.apply(f1,axis=1)\n",
    "        s_load['Capacity_MW'] = s_load['Capacity_MW'].apply(obj_convert)\n",
    "        c_load = s_load.groupby(\"Plant Name\",as_index=False).agg(agg_dict)\n",
    "        c_load1 = s_load.groupby(\"Date\",as_index=False)['Capacity_MW'].sum()\n",
    "        out = pd.concat([out,c_load])\n",
    "        out1 = pd.concat([out1,c_load1])\n",
    "        del c_load, c_load1\n",
    "    return out, out1"
   ]
  },
  {
   "cell_type": "code",
   "execution_count": 15,
   "metadata": {
    "scrolled": true
   },
   "outputs": [],
   "source": [
    "NG_new, NG_new_month = process_data_newplant(newplant_list, 'NG')"
   ]
  },
  {
   "cell_type": "markdown",
   "metadata": {},
   "source": [
    "Note that there is a slight difference in the two NG dataframes.  This is because a single plant may contain more\n",
    "than one type of unit.  However, this is typically only at large plants (multi-unit) which are dominated by\n",
    "natural gas combined cycle.  This minor discrepancy is acceptable for the purposes of this evaluation (which is\n",
    "only concerned with total natural plant capacity changes, it would be extremely difficult to resolve in the aggregation process."
   ]
  },
  {
   "cell_type": "code",
   "execution_count": 16,
   "metadata": {},
   "outputs": [
    {
     "data": {
      "text/plain": [
       "Technology\n",
       "Natural Gas Fired Combined Cycle          46771.0\n",
       "Natural Gas Fired Combustion Turbine       8830.8\n",
       "Natural Gas Internal Combustion Engine     1912.0\n",
       "Natural Gas Steam Turbine                    86.7\n",
       "Other Natural Gas                            32.5\n",
       "Name: Capacity_MW, dtype: float64"
      ]
     },
     "execution_count": 16,
     "metadata": {},
     "output_type": "execute_result"
    }
   ],
   "source": [
    "NG_new.groupby('Technology')['Capacity_MW'].sum()"
   ]
  },
  {
   "cell_type": "markdown",
   "metadata": {},
   "source": [
    "194 new natural gas plants have come online since the start of 2015."
   ]
  },
  {
   "cell_type": "code",
   "execution_count": 17,
   "metadata": {},
   "outputs": [
    {
     "data": {
      "text/plain": [
       "NG    194\n",
       "Name: Energy Source Code, dtype: int64"
      ]
     },
     "execution_count": 17,
     "metadata": {},
     "output_type": "execute_result"
    }
   ],
   "source": [
    "NG_new['Energy Source Code'].value_counts()"
   ]
  },
  {
   "cell_type": "markdown",
   "metadata": {},
   "source": [
    "The large (utility scale) plants are Natural Gas Fired Combined Cycle type.  This is a highly efficient type of unit which \n",
    "includes both a gas fired combustion turbine (topping cycle) and a steam turbine (bottoming cycle).  Steam is created using\n",
    "a heat recovery steam generator (HRSG) which is heated using the exhaust gases from the combustion turbine.  This plant\n",
    "has higher theoretical carnot efficiency because of the larger difference in heat source and sink temperatures which can\n",
    "be achieved by using two cycles together in a cascade."
   ]
  },
  {
   "cell_type": "code",
   "execution_count": 18,
   "metadata": {},
   "outputs": [
    {
     "data": {
      "text/plain": [
       "Natural Gas Fired Combined Cycle          719.553846\n",
       "Natural Gas Fired Combustion Turbine      133.800000\n",
       "Natural Gas Internal Combustion Engine     39.833333\n",
       "Natural Gas Steam Turbine                  28.900000\n",
       "Other Natural Gas                           2.708333\n",
       "dtype: float64"
      ]
     },
     "execution_count": 18,
     "metadata": {},
     "output_type": "execute_result"
    }
   ],
   "source": [
    "#average size of each plant type.\n",
    "NG_new.groupby('Technology')['Capacity_MW'].sum()/NG_new['Technology'].value_counts()"
   ]
  },
  {
   "cell_type": "code",
   "execution_count": 19,
   "metadata": {},
   "outputs": [
    {
     "data": {
      "text/plain": [
       "Technology\n",
       "Natural Gas Fired Combined Cycle          726.0\n",
       "Natural Gas Fired Combustion Turbine       79.3\n",
       "Natural Gas Internal Combustion Engine     20.0\n",
       "Natural Gas Steam Turbine                   5.5\n",
       "Other Natural Gas                           2.4\n",
       "Name: Capacity_MW, dtype: float64"
      ]
     },
     "execution_count": 19,
     "metadata": {},
     "output_type": "execute_result"
    }
   ],
   "source": [
    "NG_new.groupby('Technology')['Capacity_MW'].median()"
   ]
  },
  {
   "cell_type": "code",
   "execution_count": 20,
   "metadata": {},
   "outputs": [
    {
     "data": {
      "image/png": "[encoded data removed]",
      "text/plain": [
       "<Figure size 432x288 with 1 Axes>"
      ]
     },
     "metadata": {
      "needs_background": "light"
     },
     "output_type": "display_data"
    }
   ],
   "source": [
    "plt.hist(NG_new['Capacity_MW'],bins=10)\n",
    "plt.show()"
   ]
  },
  {
   "cell_type": "markdown",
   "metadata": {},
   "source": [
    "Nuclear plants are generally larger, for example the NuScale 12PK SMR Nuclear plant provides 720 MW (Gross) of power.  Consider that new natural gas plants that are 720 MW or greater would have\n",
    "been an opportunity where a nuclear plant could have chosen instead (lost markety opportunity for nuclear)."
   ]
  },
  {
   "cell_type": "code",
   "execution_count": 63,
   "metadata": {},
   "outputs": [
    {
     "data": {
      "text/plain": [
       "34"
      ]
     },
     "execution_count": 63,
     "metadata": {},
     "output_type": "execute_result"
    }
   ],
   "source": [
    "NG_new[NG_new['Capacity_MW']>720]['Plant Name'].count()"
   ]
  },
  {
   "cell_type": "code",
   "execution_count": 21,
   "metadata": {},
   "outputs": [
    {
     "data": {
      "image/png": "[encoded data removed]",
      "text/plain": [
       "<Figure size 432x288 with 1 Axes>"
      ]
     },
     "metadata": {
      "needs_background": "light"
     },
     "output_type": "display_data"
    }
   ],
   "source": [
    "plt.hist(NG_new[NG_new['Technology']=='Natural Gas Fired Combined Cycle']['Capacity_MW'],bins=16)\n",
    "plt.show()"
   ]
  },
  {
   "cell_type": "code",
   "execution_count": 22,
   "metadata": {},
   "outputs": [
    {
     "data": {
      "text/html": [
       "<div>\n",
       "<style scoped>\n",
       "    .dataframe tbody tr th:only-of-type {\n",
       "        vertical-align: middle;\n",
       "    }\n",
       "\n",
       "    .dataframe tbody tr th {\n",
       "        vertical-align: top;\n",
       "    }\n",
       "\n",
       "    .dataframe thead th {\n",
       "        text-align: right;\n",
       "    }\n",
       "</style>\n",
       "<table border=\"1\" class=\"dataframe\">\n",
       "  <thead>\n",
       "    <tr style=\"text-align: right;\">\n",
       "      <th></th>\n",
       "      <th>Date</th>\n",
       "      <th>Capacity_MW</th>\n",
       "    </tr>\n",
       "  </thead>\n",
       "  <tbody>\n",
       "    <tr>\n",
       "      <th>0</th>\n",
       "      <td>2020-01-15</td>\n",
       "      <td>330.4</td>\n",
       "    </tr>\n",
       "    <tr>\n",
       "      <th>1</th>\n",
       "      <td>2020-02-15</td>\n",
       "      <td>1346.4</td>\n",
       "    </tr>\n",
       "    <tr>\n",
       "      <th>2</th>\n",
       "      <td>2020-03-15</td>\n",
       "      <td>1100.2</td>\n",
       "    </tr>\n",
       "    <tr>\n",
       "      <th>3</th>\n",
       "      <td>2020-04-15</td>\n",
       "      <td>1159.2</td>\n",
       "    </tr>\n",
       "    <tr>\n",
       "      <th>4</th>\n",
       "      <td>2020-05-15</td>\n",
       "      <td>1925.1</td>\n",
       "    </tr>\n",
       "    <tr>\n",
       "      <th>5</th>\n",
       "      <td>2020-06-15</td>\n",
       "      <td>122.5</td>\n",
       "    </tr>\n",
       "    <tr>\n",
       "      <th>6</th>\n",
       "      <td>2020-07-15</td>\n",
       "      <td>105.9</td>\n",
       "    </tr>\n",
       "    <tr>\n",
       "      <th>7</th>\n",
       "      <td>2020-08-15</td>\n",
       "      <td>42.3</td>\n",
       "    </tr>\n",
       "    <tr>\n",
       "      <th>0</th>\n",
       "      <td>2019-01-15</td>\n",
       "      <td>74.0</td>\n",
       "    </tr>\n",
       "    <tr>\n",
       "      <th>1</th>\n",
       "      <td>2019-02-15</td>\n",
       "      <td>24.3</td>\n",
       "    </tr>\n",
       "    <tr>\n",
       "      <th>2</th>\n",
       "      <td>2019-03-15</td>\n",
       "      <td>2831.2</td>\n",
       "    </tr>\n",
       "    <tr>\n",
       "      <th>3</th>\n",
       "      <td>2019-04-15</td>\n",
       "      <td>462.4</td>\n",
       "    </tr>\n",
       "    <tr>\n",
       "      <th>4</th>\n",
       "      <td>2019-05-15</td>\n",
       "      <td>1679.0</td>\n",
       "    </tr>\n",
       "    <tr>\n",
       "      <th>5</th>\n",
       "      <td>2019-06-15</td>\n",
       "      <td>1117.0</td>\n",
       "    </tr>\n",
       "    <tr>\n",
       "      <th>6</th>\n",
       "      <td>2019-07-15</td>\n",
       "      <td>100.0</td>\n",
       "    </tr>\n",
       "  </tbody>\n",
       "</table>\n",
       "</div>"
      ],
      "text/plain": [
       "        Date  Capacity_MW\n",
       "0 2020-01-15        330.4\n",
       "1 2020-02-15       1346.4\n",
       "2 2020-03-15       1100.2\n",
       "3 2020-04-15       1159.2\n",
       "4 2020-05-15       1925.1\n",
       "5 2020-06-15        122.5\n",
       "6 2020-07-15        105.9\n",
       "7 2020-08-15         42.3\n",
       "0 2019-01-15         74.0\n",
       "1 2019-02-15         24.3\n",
       "2 2019-03-15       2831.2\n",
       "3 2019-04-15        462.4\n",
       "4 2019-05-15       1679.0\n",
       "5 2019-06-15       1117.0\n",
       "6 2019-07-15        100.0"
      ]
     },
     "execution_count": 22,
     "metadata": {},
     "output_type": "execute_result"
    }
   ],
   "source": [
    "NG_new_month.head(15)"
   ]
  },
  {
   "cell_type": "code",
   "execution_count": 23,
   "metadata": {
    "scrolled": true
   },
   "outputs": [
    {
     "data": {
      "text/plain": [
       "(63, 2)"
      ]
     },
     "execution_count": 23,
     "metadata": {},
     "output_type": "execute_result"
    }
   ],
   "source": [
    "NG_new_month.shape"
   ]
  },
  {
   "cell_type": "markdown",
   "metadata": {},
   "source": [
    "This period actually covers 68 months (1/2015-8/2020); there are 5 months which had no new NG plant construction (as shown\n",
    "above, no plants in August 2019.  A straight average will over-estimate monthly construction."
   ]
  },
  {
   "cell_type": "code",
   "execution_count": 24,
   "metadata": {},
   "outputs": [
    {
     "data": {
      "text/plain": [
       "914.8095238095239"
      ]
     },
     "execution_count": 24,
     "metadata": {},
     "output_type": "execute_result"
    }
   ],
   "source": [
    "NG_new_month['Capacity_MW'].mean()"
   ]
  },
  {
   "cell_type": "code",
   "execution_count": 40,
   "metadata": {},
   "outputs": [
    {
     "data": {
      "text/plain": [
       "847.5441176470589"
      ]
     },
     "execution_count": 40,
     "metadata": {},
     "output_type": "execute_result"
    }
   ],
   "source": [
    "NG_ave_month = NG_new_month['Capacity_MW'].sum()/68\n",
    "NG_ave_month"
   ]
  },
  {
   "cell_type": "code",
   "execution_count": 27,
   "metadata": {},
   "outputs": [
    {
     "data": {
      "text/html": [
       "<div>\n",
       "<style scoped>\n",
       "    .dataframe tbody tr th:only-of-type {\n",
       "        vertical-align: middle;\n",
       "    }\n",
       "\n",
       "    .dataframe tbody tr th {\n",
       "        vertical-align: top;\n",
       "    }\n",
       "\n",
       "    .dataframe thead th {\n",
       "        text-align: right;\n",
       "    }\n",
       "</style>\n",
       "<table border=\"1\" class=\"dataframe\">\n",
       "  <thead>\n",
       "    <tr style=\"text-align: right;\">\n",
       "      <th></th>\n",
       "      <th>Year</th>\n",
       "      <th>Month</th>\n",
       "      <th>Plant Name</th>\n",
       "      <th>State</th>\n",
       "      <th>Plant_ID</th>\n",
       "      <th>Gen_ID</th>\n",
       "      <th>Capacity_MW</th>\n",
       "      <th>Technology</th>\n",
       "      <th>Energy Source Code</th>\n",
       "      <th>Date</th>\n",
       "    </tr>\n",
       "  </thead>\n",
       "  <tbody>\n",
       "    <tr>\n",
       "      <th>270</th>\n",
       "      <td>2016</td>\n",
       "      <td>6</td>\n",
       "      <td>Watts Bar Nuclear Plant</td>\n",
       "      <td>TN</td>\n",
       "      <td>7722</td>\n",
       "      <td>2</td>\n",
       "      <td>1122.0</td>\n",
       "      <td>Nuclear</td>\n",
       "      <td>NUC</td>\n",
       "      <td>2016-06-15</td>\n",
       "    </tr>\n",
       "  </tbody>\n",
       "</table>\n",
       "</div>"
      ],
      "text/plain": [
       "     Year  Month               Plant Name State  Plant_ID Gen_ID  Capacity_MW  \\\n",
       "270  2016      6  Watts Bar Nuclear Plant    TN      7722      2       1122.0   \n",
       "\n",
       "    Technology Energy Source Code       Date  \n",
       "270    Nuclear                NUC 2016-06-15  "
      ]
     },
     "execution_count": 27,
     "metadata": {},
     "output_type": "execute_result"
    }
   ],
   "source": [
    "nuclear_new = test[test['Technology']=='Nuclear']\n",
    "nuclear_new "
   ]
  },
  {
   "cell_type": "code",
   "execution_count": 42,
   "metadata": {},
   "outputs": [
    {
     "data": {
      "text/html": [
       "<div>\n",
       "<style scoped>\n",
       "    .dataframe tbody tr th:only-of-type {\n",
       "        vertical-align: middle;\n",
       "    }\n",
       "\n",
       "    .dataframe tbody tr th {\n",
       "        vertical-align: top;\n",
       "    }\n",
       "\n",
       "    .dataframe thead th {\n",
       "        text-align: right;\n",
       "    }\n",
       "</style>\n",
       "<table border=\"1\" class=\"dataframe\">\n",
       "  <thead>\n",
       "    <tr style=\"text-align: right;\">\n",
       "      <th></th>\n",
       "      <th>Year</th>\n",
       "      <th>Month</th>\n",
       "      <th>Plant Name</th>\n",
       "      <th>State</th>\n",
       "      <th>Plant_ID</th>\n",
       "      <th>Gen_ID</th>\n",
       "      <th>Capacity_MW</th>\n",
       "      <th>Technology</th>\n",
       "      <th>Energy Source Code</th>\n",
       "      <th>Date</th>\n",
       "    </tr>\n",
       "  </thead>\n",
       "  <tbody>\n",
       "    <tr>\n",
       "      <th>43</th>\n",
       "      <td>2020</td>\n",
       "      <td>4</td>\n",
       "      <td>Indian Point 2</td>\n",
       "      <td>NY</td>\n",
       "      <td>2497</td>\n",
       "      <td>2</td>\n",
       "      <td>1016.1</td>\n",
       "      <td>Nuclear</td>\n",
       "      <td>NUC</td>\n",
       "      <td>2020-04-15</td>\n",
       "    </tr>\n",
       "    <tr>\n",
       "      <th>78</th>\n",
       "      <td>2019</td>\n",
       "      <td>5</td>\n",
       "      <td>Pilgrim Nuclear Power Station</td>\n",
       "      <td>MA</td>\n",
       "      <td>1590</td>\n",
       "      <td>1</td>\n",
       "      <td>673.6</td>\n",
       "      <td>Nuclear</td>\n",
       "      <td>NUC</td>\n",
       "      <td>2019-05-15</td>\n",
       "    </tr>\n",
       "    <tr>\n",
       "      <th>167</th>\n",
       "      <td>2019</td>\n",
       "      <td>9</td>\n",
       "      <td>Three Mile Island</td>\n",
       "      <td>PA</td>\n",
       "      <td>8011</td>\n",
       "      <td>1</td>\n",
       "      <td>802.8</td>\n",
       "      <td>Nuclear</td>\n",
       "      <td>NUC</td>\n",
       "      <td>2019-09-15</td>\n",
       "    </tr>\n",
       "    <tr>\n",
       "      <th>133</th>\n",
       "      <td>2018</td>\n",
       "      <td>9</td>\n",
       "      <td>Oyster Creek</td>\n",
       "      <td>NJ</td>\n",
       "      <td>2388</td>\n",
       "      <td>1</td>\n",
       "      <td>607.7</td>\n",
       "      <td>Nuclear</td>\n",
       "      <td>NUC</td>\n",
       "      <td>2018-09-15</td>\n",
       "    </tr>\n",
       "    <tr>\n",
       "      <th>119</th>\n",
       "      <td>2016</td>\n",
       "      <td>10</td>\n",
       "      <td>Fort Calhoun</td>\n",
       "      <td>NE</td>\n",
       "      <td>2289</td>\n",
       "      <td>1</td>\n",
       "      <td>478.1</td>\n",
       "      <td>Nuclear</td>\n",
       "      <td>NUC</td>\n",
       "      <td>2016-10-15</td>\n",
       "    </tr>\n",
       "  </tbody>\n",
       "</table>\n",
       "</div>"
      ],
      "text/plain": [
       "     Year  Month                     Plant Name State  Plant_ID Gen_ID  \\\n",
       "43   2020      4                 Indian Point 2    NY      2497      2   \n",
       "78   2019      5  Pilgrim Nuclear Power Station    MA      1590      1   \n",
       "167  2019      9              Three Mile Island    PA      8011      1   \n",
       "133  2018      9                   Oyster Creek    NJ      2388      1   \n",
       "119  2016     10                   Fort Calhoun    NE      2289      1   \n",
       "\n",
       "     Capacity_MW Technology Energy Source Code       Date  \n",
       "43        1016.1    Nuclear                NUC 2020-04-15  \n",
       "78         673.6    Nuclear                NUC 2019-05-15  \n",
       "167        802.8    Nuclear                NUC 2019-09-15  \n",
       "133        607.7    Nuclear                NUC 2018-09-15  \n",
       "119        478.1    Nuclear                NUC 2016-10-15  "
      ]
     },
     "execution_count": 42,
     "metadata": {},
     "output_type": "execute_result"
    }
   ],
   "source": [
    "AllSD = simple_process(shutdown_list)\n",
    "nuclear_sd = AllSD[AllSD['Energy Source Code']=='NUC']\n",
    "nuclear_sd"
   ]
  },
  {
   "cell_type": "code",
   "execution_count": 29,
   "metadata": {},
   "outputs": [],
   "source": [
    "def process_data_shutdown(file_list, tech):\n",
    "    agg_dict = {'Date':\"first\",'State':\"first\",'Plant_ID':\"first\",'Capacity_MW':\"sum\", \\\n",
    "            'Technology':\"first\",'Energy Source Code':\"first\"}\n",
    "    \n",
    "    col_names = ['Year','Month','Ent_ID','Owner','Owner_type','Plant Name','State','Plant_ID','Gen_ID','Capacity_MW',\\\n",
    "         'Technology','Energy Source Code','Prime Mover']\n",
    "    \n",
    "    use = ['Year','Month','Plant Name','State','Plant_ID','Capacity_MW','Technology','Energy Source Code']\n",
    "    \n",
    "    f1= lambda x: datetime(int(x['Year']), int(x['Month']),15)\n",
    "    \n",
    "    init = pd.read_excel(file_list[0],skiprows=1,header=0, names=col_names)\n",
    "    init = init[use]\n",
    "    carry = init[init['Technology']==tech].copy()\n",
    "    del init   \n",
    "    carry['Date'] = carry.apply(f1,axis=1)\n",
    "    carry['Capacity_MW'] = carry['Capacity_MW'].apply(obj_convert)\n",
    "    out = carry.groupby(\"Plant Name\",as_index=False).agg(agg_dict)\n",
    "    out1 = carry.groupby(\"Date\",as_index=False)['Capacity_MW'].sum()\n",
    "    for i in range(1, len(file_list)):\n",
    "        load = pd.read_excel(file_list[i],skiprows=1,header=0, names=col_names)\n",
    "        load = load[use]\n",
    "        s_load = load[load['Technology']==tech].copy()\n",
    "        del load\n",
    "        s_load['Date'] = s_load.apply(f1,axis=1)\n",
    "        s_load['Capacity_MW'] = s_load['Capacity_MW'].apply(obj_convert)\n",
    "        c_load = s_load.groupby(\"Plant Name\",as_index=False).agg(agg_dict)\n",
    "        c_load1 = s_load.groupby(\"Date\",as_index=False)['Capacity_MW'].sum()\n",
    "        out = pd.concat([out,c_load])\n",
    "        out1 = pd.concat([out1,c_load1])\n",
    "        del c_load, c_load1\n",
    "    return out, out1\n"
   ]
  },
  {
   "cell_type": "code",
   "execution_count": 43,
   "metadata": {},
   "outputs": [
    {
     "data": {
      "text/html": [
       "<div>\n",
       "<style scoped>\n",
       "    .dataframe tbody tr th:only-of-type {\n",
       "        vertical-align: middle;\n",
       "    }\n",
       "\n",
       "    .dataframe tbody tr th {\n",
       "        vertical-align: top;\n",
       "    }\n",
       "\n",
       "    .dataframe thead th {\n",
       "        text-align: right;\n",
       "    }\n",
       "</style>\n",
       "<table border=\"1\" class=\"dataframe\">\n",
       "  <thead>\n",
       "    <tr style=\"text-align: right;\">\n",
       "      <th></th>\n",
       "      <th>Plant Name</th>\n",
       "      <th>Date</th>\n",
       "      <th>State</th>\n",
       "      <th>Plant_ID</th>\n",
       "      <th>Capacity_MW</th>\n",
       "      <th>Technology</th>\n",
       "      <th>Energy Source Code</th>\n",
       "    </tr>\n",
       "  </thead>\n",
       "  <tbody>\n",
       "    <tr>\n",
       "      <th>0</th>\n",
       "      <td>Asbury</td>\n",
       "      <td>2020-03-15</td>\n",
       "      <td>MO</td>\n",
       "      <td>2076.0</td>\n",
       "      <td>198.0</td>\n",
       "      <td>Conventional Steam Coal</td>\n",
       "      <td>SUB</td>\n",
       "    </tr>\n",
       "    <tr>\n",
       "      <th>1</th>\n",
       "      <td>Asheville</td>\n",
       "      <td>2020-01-15</td>\n",
       "      <td>NC</td>\n",
       "      <td>2706.0</td>\n",
       "      <td>378.0</td>\n",
       "      <td>Conventional Steam Coal</td>\n",
       "      <td>BIT</td>\n",
       "    </tr>\n",
       "    <tr>\n",
       "      <th>2</th>\n",
       "      <td>Colstrip</td>\n",
       "      <td>2020-01-15</td>\n",
       "      <td>MT</td>\n",
       "      <td>6076.0</td>\n",
       "      <td>614.0</td>\n",
       "      <td>Conventional Steam Coal</td>\n",
       "      <td>SUB</td>\n",
       "    </tr>\n",
       "    <tr>\n",
       "      <th>3</th>\n",
       "      <td>Colver Green Energy</td>\n",
       "      <td>2020-05-15</td>\n",
       "      <td>PA</td>\n",
       "      <td>10143.0</td>\n",
       "      <td>110.0</td>\n",
       "      <td>Conventional Steam Coal</td>\n",
       "      <td>WC</td>\n",
       "    </tr>\n",
       "    <tr>\n",
       "      <th>4</th>\n",
       "      <td>Conesville</td>\n",
       "      <td>2020-06-15</td>\n",
       "      <td>OH</td>\n",
       "      <td>2840.0</td>\n",
       "      <td>780.0</td>\n",
       "      <td>Conventional Steam Coal</td>\n",
       "      <td>BIT</td>\n",
       "    </tr>\n",
       "  </tbody>\n",
       "</table>\n",
       "</div>"
      ],
      "text/plain": [
       "            Plant Name       Date State  Plant_ID  Capacity_MW  \\\n",
       "0               Asbury 2020-03-15    MO    2076.0        198.0   \n",
       "1            Asheville 2020-01-15    NC    2706.0        378.0   \n",
       "2             Colstrip 2020-01-15    MT    6076.0        614.0   \n",
       "3  Colver Green Energy 2020-05-15    PA   10143.0        110.0   \n",
       "4           Conesville 2020-06-15    OH    2840.0        780.0   \n",
       "\n",
       "                Technology Energy Source Code  \n",
       "0  Conventional Steam Coal                SUB  \n",
       "1  Conventional Steam Coal                BIT  \n",
       "2  Conventional Steam Coal                SUB  \n",
       "3  Conventional Steam Coal                 WC  \n",
       "4  Conventional Steam Coal                BIT  "
      ]
     },
     "execution_count": 43,
     "metadata": {},
     "output_type": "execute_result"
    }
   ],
   "source": [
    "shutdown_coal, shutdown_coal_month = process_data_shutdown(shutdown_list, 'Conventional Steam Coal')\n",
    "shutdown_coal.head()"
   ]
  },
  {
   "cell_type": "markdown",
   "metadata": {},
   "source": [
    "153 coal plants have shutdown since the start of 2015."
   ]
  },
  {
   "cell_type": "code",
   "execution_count": 44,
   "metadata": {},
   "outputs": [
    {
     "data": {
      "text/plain": [
       "Conventional Steam Coal    153\n",
       "Name: Technology, dtype: int64"
      ]
     },
     "execution_count": 44,
     "metadata": {},
     "output_type": "execute_result"
    }
   ],
   "source": [
    "shutdown_coal['Technology'].value_counts()"
   ]
  },
  {
   "cell_type": "code",
   "execution_count": 45,
   "metadata": {},
   "outputs": [
    {
     "data": {
      "text/plain": [
       "(245.0, 381.28823529411756)"
      ]
     },
     "execution_count": 45,
     "metadata": {},
     "output_type": "execute_result"
    }
   ],
   "source": [
    "shutdown_coal['Capacity_MW'].median(), shutdown_coal['Capacity_MW'].mean() "
   ]
  },
  {
   "cell_type": "code",
   "execution_count": 46,
   "metadata": {},
   "outputs": [
    {
     "data": {
      "image/png": "[encoded data removed]",
      "text/plain": [
       "<Figure size 432x288 with 1 Axes>"
      ]
     },
     "metadata": {
      "needs_background": "light"
     },
     "output_type": "display_data"
    }
   ],
   "source": [
    "plt.hist(shutdown_coal['Capacity_MW'],bins=10)\n",
    "plt.show()"
   ]
  },
  {
   "cell_type": "markdown",
   "metadata": {},
   "source": [
    "The buildout of new natural gas capacity over this period has been almost exactly the same as the loss of coal capacity due to inactivations"
   ]
  },
  {
   "cell_type": "code",
   "execution_count": 47,
   "metadata": {},
   "outputs": [
    {
     "data": {
      "text/plain": [
       "57633.0"
      ]
     },
     "execution_count": 47,
     "metadata": {},
     "output_type": "execute_result"
    }
   ],
   "source": [
    "NG_new['Capacity_MW'].sum()"
   ]
  },
  {
   "cell_type": "code",
   "execution_count": 48,
   "metadata": {},
   "outputs": [
    {
     "data": {
      "text/plain": [
       "58337.1"
      ]
     },
     "execution_count": 48,
     "metadata": {},
     "output_type": "execute_result"
    }
   ],
   "source": [
    "shutdown_coal['Capacity_MW'].sum()"
   ]
  },
  {
   "cell_type": "code",
   "execution_count": 54,
   "metadata": {},
   "outputs": [
    {
     "data": {
      "image/png": "[encoded data removed]",
      "text/plain": [
       "<Figure size 792x504 with 1 Axes>"
      ]
     },
     "metadata": {
      "needs_background": "light"
     },
     "output_type": "display_data"
    }
   ],
   "source": [
    "plt.figure(figsize=(11,7))\n",
    "plt.xlim(datetime(2015,1,1), datetime(2020,9,1))\n",
    "plt.title(\"US Natural Gas Power Plant Startups and Coal and Nuclear Inactivations: 2015 to Present*\",fontsize=16)\n",
    "plt.ylabel(\"Plant/Unit Size (MW)\",fontsize=14)\n",
    "plt.grid(b=True, which='major', axis='both')\n",
    "plt.tick_params(axis='both', which='major', labelsize=12)\n",
    "plt.axhline(y =NG_ave_month, color='black', linewidth=1, linestyle='--')\n",
    "plt.scatter(NG_new['Date'], NG_new['Capacity_MW'],label='Natural Gas new plant', alpha = 0.8)\n",
    "plt.scatter(nuclear_new['Date'], nuclear_new['Capacity_MW'],s=66,label='Watts Bar 2 (Nuclear)', marker='*',color = 'red')\n",
    "plt.scatter(shutdown_coal['Date'], -shutdown_coal['Capacity_MW'],color = 'black',alpha = 0.7, label='Coal inactivation')\n",
    "plt.scatter(nuclear_sd['Date'], -nuclear_sd['Capacity_MW'],s=34,label='Nuclear inactivation', marker='s',color = 'magenta')\n",
    "##Duane Arnold (nuclear) inactivation in Aug 2020 (not yet recorded in eia.gov data) manually added to plot\n",
    "#https://en.wikipedia.org/wiki/Duane_Arnold_Energy_Center\n",
    "plt.scatter(datetime(2020,8,15), -601,s=34, marker='s',color = 'magenta')\n",
    "plt.legend(loc='lower left')\n",
    "plt.annotate('          848 MW \\n       Avg monthly \\nNG capacity addition',xy=(0.02,0.80),\\\n",
    "             xytext=(0.02,0.80),xycoords='axes fraction',fontsize=11)\n",
    "plt.show()"
   ]
  },
  {
   "cell_type": "code",
   "execution_count": 37,
   "metadata": {},
   "outputs": [
    {
     "data": {
      "text/plain": [
       "(65, 7)"
      ]
     },
     "execution_count": 37,
     "metadata": {},
     "output_type": "execute_result"
    }
   ],
   "source": [
    "CC = NG_new[NG_new['Technology']=='Natural Gas Fired Combined Cycle']\n",
    "CC.shape"
   ]
  },
  {
   "cell_type": "code",
   "execution_count": 38,
   "metadata": {},
   "outputs": [
    {
     "data": {
      "text/plain": [
       "(129, 7)"
      ]
     },
     "execution_count": 38,
     "metadata": {},
     "output_type": "execute_result"
    }
   ],
   "source": [
    "NG_other = NG_new[NG_new['Technology']!='Natural Gas Fired Combined Cycle']\n",
    "NG_other.shape"
   ]
  },
  {
   "cell_type": "code",
   "execution_count": 64,
   "metadata": {},
   "outputs": [
    {
     "data": {
      "image/png": "[encoded data removed]",
      "text/plain": [
       "<Figure size 792x504 with 1 Axes>"
      ]
     },
     "metadata": {
      "needs_background": "light"
     },
     "output_type": "display_data"
    }
   ],
   "source": [
    "plt.figure(figsize=(11,7))\n",
    "plt.xlim(datetime(2015,1,1), datetime(2020,9,1))\n",
    "plt.title(\"US Baseload Power Plant Startups and Inactivations\",fontsize=16)\n",
    "plt.ylabel(\"Plant/Unit Size (MW)\",fontsize=14)\n",
    "plt.grid(b=True, which='major', axis='both')\n",
    "plt.tick_params(axis='both', which='major', labelsize=12)\n",
    "plt.axhline(y =NG_ave_month, color='black', linewidth=1, linestyle='--')\n",
    "plt.scatter(CC['Date'], CC['Capacity_MW'],label='Natural Gas (combined cycle) startup', color='gray',marker='^')\n",
    "plt.scatter(NG_other['Date'], NG_other['Capacity_MW'],label='Natural Gas (other) startup',color='navy')\n",
    "plt.scatter(nuclear_new['Date'], nuclear_new['Capacity_MW'],s=66,label='Watts Bar 2 (Nuclear)', marker='*',color = 'red')\n",
    "plt.scatter(shutdown_coal['Date'], -shutdown_coal['Capacity_MW'],color = 'black',label='Coal inactivation')\n",
    "plt.scatter(nuclear_sd['Date'], -nuclear_sd['Capacity_MW'],s=34,label='Nuclear inactivation', marker='s',color = 'magenta')\n",
    "##Duane Arnold (nuclear) inactivation in Aug 2020 (not yet recorded in eia.gov data) manually added to plot\n",
    "#https://en.wikipedia.org/wiki/Duane_Arnold_Energy_Center\n",
    "plt.scatter(datetime(2020,8,15), -601,s=34, marker='s',color = 'magenta')\n",
    "plt.legend(loc='lower left')\n",
    "plt.annotate('          848 MW \\n       Avg monthly \\nNG capacity addition',xy=(0.02,0.80),\\\n",
    "             xytext=(0.02,0.80),xycoords='axes fraction',fontsize=11)\n",
    "plt.show()"
   ]
  },
  {
   "cell_type": "code",
   "execution_count": null,
   "metadata": {},
   "outputs": [],
   "source": []
  }
 ],
 "metadata": {
  "kernelspec": {
   "display_name": "Python 3",
   "language": "python",
   "name": "python3"
  },
  "language_info": {
   "codemirror_mode": {
    "name": "ipython",
    "version": 3
   },
   "file_extension": ".py",
   "mimetype": "text/x-python",
   "name": "python",
   "nbconvert_exporter": "python",
   "pygments_lexer": "ipython3",
   "version": "3.8.3"
  }
 },
 "nbformat": 4,
 "nbformat_minor": 4
}
