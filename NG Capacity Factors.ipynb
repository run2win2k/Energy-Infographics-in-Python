{
 "cells": [
  {
   "cell_type": "code",
   "execution_count": 1,
   "metadata": {},
   "outputs": [],
   "source": [
    "import pandas as pd\n",
    "import numpy as np\n",
    "import matplotlib.pyplot as plt"
   ]
  },
  {
   "cell_type": "code",
   "execution_count": 2,
   "metadata": {},
   "outputs": [],
   "source": [
    "generator_input = pd.read_excel(\"3_1_Generator_Y2019_Early_Release.xlsx\", skiprows=2)"
   ]
  },
  {
   "cell_type": "code",
   "execution_count": 3,
   "metadata": {},
   "outputs": [],
   "source": [
    "generators_2019 = generator_input.iloc[:,[2,3,4,6,7,8,15,25,26]].copy()"
   ]
  },
  {
   "cell_type": "code",
   "execution_count": 4,
   "metadata": {},
   "outputs": [
    {
     "name": "stdout",
     "output_type": "stream",
     "text": [
      "<class 'pandas.core.frame.DataFrame'>\n",
      "RangeIndex: 22701 entries, 0 to 22700\n",
      "Data columns (total 9 columns):\n",
      " #   Column                   Non-Null Count  Dtype  \n",
      "---  ------                   --------------  -----  \n",
      " 0   Plant Code               22701 non-null  int64  \n",
      " 1   Plant Name               22701 non-null  object \n",
      " 2   State                    22701 non-null  object \n",
      " 3   Generator ID             22701 non-null  object \n",
      " 4   Technology               22701 non-null  object \n",
      " 5   Prime Mover              22701 non-null  object \n",
      " 6   Nameplate Capacity (MW)  22701 non-null  float64\n",
      " 7   Operating Month          22701 non-null  object \n",
      " 8   Operating Year           22701 non-null  object \n",
      "dtypes: float64(1), int64(1), object(7)\n",
      "memory usage: 1.6+ MB\n"
     ]
    }
   ],
   "source": [
    "generators_2019.info()"
   ]
  },
  {
   "cell_type": "markdown",
   "metadata": {},
   "source": [
    "Convert month and year to numeric data type."
   ]
  },
  {
   "cell_type": "code",
   "execution_count": 5,
   "metadata": {},
   "outputs": [],
   "source": [
    "generators_2019['Operating Month'] = pd.to_numeric(generators_2019['Operating Month'],errors=\"coerce\")\n",
    "generators_2019['Operating Year'] = pd.to_numeric(generators_2019['Operating Year'],errors=\"coerce\")"
   ]
  },
  {
   "cell_type": "code",
   "execution_count": 6,
   "metadata": {},
   "outputs": [
    {
     "name": "stdout",
     "output_type": "stream",
     "text": [
      "<class 'pandas.core.frame.DataFrame'>\n",
      "RangeIndex: 22701 entries, 0 to 22700\n",
      "Data columns (total 9 columns):\n",
      " #   Column                   Non-Null Count  Dtype  \n",
      "---  ------                   --------------  -----  \n",
      " 0   Plant Code               22701 non-null  int64  \n",
      " 1   Plant Name               22701 non-null  object \n",
      " 2   State                    22701 non-null  object \n",
      " 3   Generator ID             22701 non-null  object \n",
      " 4   Technology               22701 non-null  object \n",
      " 5   Prime Mover              22701 non-null  object \n",
      " 6   Nameplate Capacity (MW)  22701 non-null  float64\n",
      " 7   Operating Month          22700 non-null  float64\n",
      " 8   Operating Year           22700 non-null  float64\n",
      "dtypes: float64(3), int64(1), object(5)\n",
      "memory usage: 1.6+ MB\n"
     ]
    }
   ],
   "source": [
    "generators_2019.info()"
   ]
  },
  {
   "cell_type": "code",
   "execution_count": 7,
   "metadata": {},
   "outputs": [
    {
     "data": {
      "text/html": [
       "<div>\n",
       "<style scoped>\n",
       "    .dataframe tbody tr th:only-of-type {\n",
       "        vertical-align: middle;\n",
       "    }\n",
       "\n",
       "    .dataframe tbody tr th {\n",
       "        vertical-align: top;\n",
       "    }\n",
       "\n",
       "    .dataframe thead th {\n",
       "        text-align: right;\n",
       "    }\n",
       "</style>\n",
       "<table border=\"1\" class=\"dataframe\">\n",
       "  <thead>\n",
       "    <tr style=\"text-align: right;\">\n",
       "      <th></th>\n",
       "      <th>Plant Code</th>\n",
       "      <th>Plant Name</th>\n",
       "      <th>State</th>\n",
       "      <th>Generator ID</th>\n",
       "      <th>Technology</th>\n",
       "      <th>Prime Mover</th>\n",
       "      <th>Nameplate Capacity (MW)</th>\n",
       "      <th>Operating Month</th>\n",
       "      <th>Operating Year</th>\n",
       "    </tr>\n",
       "  </thead>\n",
       "  <tbody>\n",
       "    <tr>\n",
       "      <th>0</th>\n",
       "      <td>2</td>\n",
       "      <td>Bankhead Dam</td>\n",
       "      <td>AL</td>\n",
       "      <td>1</td>\n",
       "      <td>Conventional Hydroelectric</td>\n",
       "      <td>HY</td>\n",
       "      <td>53.9</td>\n",
       "      <td>7.0</td>\n",
       "      <td>1963.0</td>\n",
       "    </tr>\n",
       "    <tr>\n",
       "      <th>1</th>\n",
       "      <td>3</td>\n",
       "      <td>Barry</td>\n",
       "      <td>AL</td>\n",
       "      <td>1</td>\n",
       "      <td>Natural Gas Steam Turbine</td>\n",
       "      <td>ST</td>\n",
       "      <td>153.1</td>\n",
       "      <td>2.0</td>\n",
       "      <td>1954.0</td>\n",
       "    </tr>\n",
       "    <tr>\n",
       "      <th>2</th>\n",
       "      <td>3</td>\n",
       "      <td>Barry</td>\n",
       "      <td>AL</td>\n",
       "      <td>2</td>\n",
       "      <td>Natural Gas Steam Turbine</td>\n",
       "      <td>ST</td>\n",
       "      <td>153.1</td>\n",
       "      <td>7.0</td>\n",
       "      <td>1954.0</td>\n",
       "    </tr>\n",
       "    <tr>\n",
       "      <th>3</th>\n",
       "      <td>3</td>\n",
       "      <td>Barry</td>\n",
       "      <td>AL</td>\n",
       "      <td>4</td>\n",
       "      <td>Conventional Steam Coal</td>\n",
       "      <td>ST</td>\n",
       "      <td>403.7</td>\n",
       "      <td>12.0</td>\n",
       "      <td>1969.0</td>\n",
       "    </tr>\n",
       "    <tr>\n",
       "      <th>4</th>\n",
       "      <td>3</td>\n",
       "      <td>Barry</td>\n",
       "      <td>AL</td>\n",
       "      <td>5</td>\n",
       "      <td>Conventional Steam Coal</td>\n",
       "      <td>ST</td>\n",
       "      <td>788.8</td>\n",
       "      <td>10.0</td>\n",
       "      <td>1971.0</td>\n",
       "    </tr>\n",
       "  </tbody>\n",
       "</table>\n",
       "</div>"
      ],
      "text/plain": [
       "   Plant Code    Plant Name State Generator ID                  Technology  \\\n",
       "0           2  Bankhead Dam    AL            1  Conventional Hydroelectric   \n",
       "1           3         Barry    AL            1   Natural Gas Steam Turbine   \n",
       "2           3         Barry    AL            2   Natural Gas Steam Turbine   \n",
       "3           3         Barry    AL            4     Conventional Steam Coal   \n",
       "4           3         Barry    AL            5     Conventional Steam Coal   \n",
       "\n",
       "  Prime Mover  Nameplate Capacity (MW)  Operating Month  Operating Year  \n",
       "0          HY                     53.9              7.0          1963.0  \n",
       "1          ST                    153.1              2.0          1954.0  \n",
       "2          ST                    153.1              7.0          1954.0  \n",
       "3          ST                    403.7             12.0          1969.0  \n",
       "4          ST                    788.8             10.0          1971.0  "
      ]
     },
     "execution_count": 7,
     "metadata": {},
     "output_type": "execute_result"
    }
   ],
   "source": [
    "generators_2019.head()"
   ]
  },
  {
   "cell_type": "code",
   "execution_count": 8,
   "metadata": {},
   "outputs": [
    {
     "data": {
      "text/plain": [
       "array(['Conventional Hydroelectric', 'Natural Gas Steam Turbine',\n",
       "       'Conventional Steam Coal', 'Natural Gas Fired Combined Cycle',\n",
       "       'Natural Gas Fired Combustion Turbine', 'Petroleum Liquids',\n",
       "       'Natural Gas Internal Combustion Engine', 'Nuclear',\n",
       "       'Onshore Wind Turbine', 'Solar Photovoltaic',\n",
       "       'Hydroelectric Pumped Storage', 'Geothermal', 'Landfill Gas',\n",
       "       'Batteries', 'Wood/Wood Waste Biomass',\n",
       "       'Coal Integrated Gasification Combined Cycle', 'Other Gases',\n",
       "       'Petroleum Coke', 'Municipal Solid Waste',\n",
       "       'Natural Gas with Compressed Air Storage', 'All Other',\n",
       "       'Other Waste Biomass', 'Solar Thermal without Energy Storage',\n",
       "       'Other Natural Gas', 'Solar Thermal with Energy Storage',\n",
       "       'Flywheels', 'Offshore Wind Turbine'], dtype=object)"
      ]
     },
     "execution_count": 8,
     "metadata": {},
     "output_type": "execute_result"
    }
   ],
   "source": [
    "generators_2019.Technology.unique()"
   ]
  },
  {
   "cell_type": "markdown",
   "metadata": {},
   "source": [
    "Natural gas plants represent the largest amount of total nameplate capacity, but there are multiple types of natural gas plants."
   ]
  },
  {
   "cell_type": "code",
   "execution_count": 9,
   "metadata": {},
   "outputs": [
    {
     "data": {
      "text/plain": [
       "Technology\n",
       "Natural Gas Fired Combined Cycle               305420.4\n",
       "Conventional Steam Coal                        247389.6\n",
       "Natural Gas Fired Combustion Turbine           153316.5\n",
       "Onshore Wind Turbine                           104252.5\n",
       "Nuclear                                        102877.3\n",
       "Conventional Hydroelectric                      79689.5\n",
       "Natural Gas Steam Turbine                       76911.2\n",
       "Solar Photovoltaic                              35961.8\n",
       "Petroleum Liquids                               35011.4\n",
       "Hydroelectric Pumped Storage                    21671.5\n",
       "Wood/Wood Waste Biomass                          9518.2\n",
       "Natural Gas Internal Combustion Engine           5211.8\n",
       "Geothermal                                       3849.3\n",
       "Other Gases                                      2913.8\n",
       "Municipal Solid Waste                            2553.2\n",
       "Landfill Gas                                     2103.9\n",
       "All Other                                        2010.6\n",
       "Petroleum Coke                                   1706.2\n",
       "Solar Thermal without Energy Storage             1369.6\n",
       "Batteries                                        1013.3\n",
       "Coal Integrated Gasification Combined Cycle       997.4\n",
       "Other Waste Biomass                               830.2\n",
       "Solar Thermal with Energy Storage                 405.0\n",
       "Other Natural Gas                                 244.3\n",
       "Natural Gas with Compressed Air Storage           110.0\n",
       "Flywheels                                          47.0\n",
       "Offshore Wind Turbine                              30.0\n",
       "Name: Nameplate Capacity (MW), dtype: float64"
      ]
     },
     "execution_count": 9,
     "metadata": {},
     "output_type": "execute_result"
    }
   ],
   "source": [
    "generators_2019.groupby('Technology')['Nameplate Capacity (MW)'].sum().sort_values(ascending=False)"
   ]
  },
  {
   "cell_type": "markdown",
   "metadata": {},
   "source": [
    "Based on the above there appear to be four major types of natural gas plants in use."
   ]
  },
  {
   "cell_type": "code",
   "execution_count": 10,
   "metadata": {},
   "outputs": [],
   "source": [
    "gas_plant_types = ['Natural Gas Steam Turbine', 'Natural Gas Fired Combined Cycle','Natural Gas Fired Combustion Turbine', \\\n",
    "            'Natural Gas Internal Combustion Engine']"
   ]
  },
  {
   "cell_type": "code",
   "execution_count": 11,
   "metadata": {},
   "outputs": [
    {
     "data": {
      "text/plain": [
       "((22701, 9), (5869, 9))"
      ]
     },
     "execution_count": 11,
     "metadata": {},
     "output_type": "execute_result"
    }
   ],
   "source": [
    "gas_generators = generators_2019[generators_2019['Technology'].isin(gas_plant_types)].copy()\n",
    "generators_2019.shape, gas_generators.shape"
   ]
  },
  {
   "cell_type": "code",
   "execution_count": 12,
   "metadata": {},
   "outputs": [
    {
     "data": {
      "text/plain": [
       "540859.9"
      ]
     },
     "execution_count": 12,
     "metadata": {},
     "output_type": "execute_result"
    }
   ],
   "source": [
    "total_gas_capacity = gas_generators['Nameplate Capacity (MW)'].sum()\n",
    "total_gas_capacity"
   ]
  },
  {
   "cell_type": "markdown",
   "metadata": {},
   "source": [
    "Natural Gas Internal Combustion Engine units represent a tiny segment of the natural gas generation and will be ignored in subsequent analysis."
   ]
  },
  {
   "cell_type": "code",
   "execution_count": 13,
   "metadata": {},
   "outputs": [
    {
     "data": {
      "text/plain": [
       "Technology\n",
       "Natural Gas Fired Combined Cycle          305420.4\n",
       "Natural Gas Fired Combustion Turbine      153316.5\n",
       "Natural Gas Steam Turbine                  76911.2\n",
       "Natural Gas Internal Combustion Engine      5211.8\n",
       "Name: Nameplate Capacity (MW), dtype: float64"
      ]
     },
     "execution_count": 13,
     "metadata": {},
     "output_type": "execute_result"
    }
   ],
   "source": [
    "gas_generators.groupby('Technology')['Nameplate Capacity (MW)'].sum().sort_values(ascending=False)"
   ]
  },
  {
   "cell_type": "markdown",
   "metadata": {},
   "source": [
    "Combined cycle type natural gas plants represent the major of natural gas generation capacity."
   ]
  },
  {
   "cell_type": "code",
   "execution_count": 14,
   "metadata": {},
   "outputs": [
    {
     "data": {
      "text/plain": [
       "Technology\n",
       "Natural Gas Fired Combined Cycle          0.564694\n",
       "Natural Gas Fired Combustion Turbine      0.283468\n",
       "Natural Gas Steam Turbine                 0.142202\n",
       "Natural Gas Internal Combustion Engine    0.009636\n",
       "Name: Nameplate Capacity (MW), dtype: float64"
      ]
     },
     "execution_count": 14,
     "metadata": {},
     "output_type": "execute_result"
    }
   ],
   "source": [
    "gas_generators.groupby('Technology')['Nameplate Capacity (MW)'].sum().sort_values(ascending=False)/total_gas_capacity"
   ]
  },
  {
   "cell_type": "markdown",
   "metadata": {},
   "source": [
    "combined cycle natural gas plants are also the newest type of plant (on average)."
   ]
  },
  {
   "cell_type": "code",
   "execution_count": 15,
   "metadata": {},
   "outputs": [
    {
     "data": {
      "text/plain": [
       "Technology\n",
       "Natural Gas Fired Combined Cycle          2000.182335\n",
       "Natural Gas Fired Combustion Turbine      1995.771366\n",
       "Natural Gas Internal Combustion Engine    1994.678700\n",
       "Natural Gas Steam Turbine                 1968.980180\n",
       "Name: Operating Year, dtype: float64"
      ]
     },
     "execution_count": 15,
     "metadata": {},
     "output_type": "execute_result"
    }
   ],
   "source": [
    "gas_generators.groupby('Technology')['Operating Year'].mean()"
   ]
  },
  {
   "cell_type": "code",
   "execution_count": 16,
   "metadata": {},
   "outputs": [
    {
     "data": {
      "text/plain": [
       "Technology\n",
       "Natural Gas Fired Combined Cycle          157.758471\n",
       "Natural Gas Fired Combustion Turbine       67.540308\n",
       "Natural Gas Internal Combustion Engine      4.703791\n",
       "Natural Gas Steam Turbine                 138.578739\n",
       "Name: Nameplate Capacity (MW), dtype: float64"
      ]
     },
     "execution_count": 16,
     "metadata": {},
     "output_type": "execute_result"
    }
   ],
   "source": [
    "gas_generators.groupby('Technology')['Nameplate Capacity (MW)'].mean()"
   ]
  },
  {
   "cell_type": "code",
   "execution_count": 17,
   "metadata": {},
   "outputs": [],
   "source": [
    "def unit_ID(plant, generator):\n",
    "    return str(plant) + \"-\" + str(generator)"
   ]
  },
  {
   "cell_type": "code",
   "execution_count": 18,
   "metadata": {},
   "outputs": [],
   "source": [
    "f1 = lambda x: unit_ID(x['Plant Code'],x['Generator ID'])"
   ]
  },
  {
   "cell_type": "code",
   "execution_count": 19,
   "metadata": {},
   "outputs": [],
   "source": [
    "gas_generators['Unit Code'] = gas_generators.apply(f1, axis=1)"
   ]
  },
  {
   "cell_type": "code",
   "execution_count": 20,
   "metadata": {},
   "outputs": [],
   "source": [
    "gas_generators = pd.get_dummies(gas_generators, columns = ['Technology'])"
   ]
  },
  {
   "cell_type": "code",
   "execution_count": 21,
   "metadata": {},
   "outputs": [],
   "source": [
    "gas_rename = {'Technology_Natural Gas Fired Combined Cycle': \"Combined Cycle Units\",\\\n",
    "       'Technology_Natural Gas Fired Combustion Turbine': \"Gas Turbine Units\",\\\n",
    "       'Technology_Natural Gas Internal Combustion Engine': \"Gas Engine Units\",\\\n",
    "       'Technology_Natural Gas Steam Turbine':\"Gas Steam Turbine Units\"}"
   ]
  },
  {
   "cell_type": "code",
   "execution_count": 22,
   "metadata": {},
   "outputs": [],
   "source": [
    "gas_generators.rename(columns=gas_rename,inplace=True)"
   ]
  },
  {
   "cell_type": "code",
   "execution_count": 23,
   "metadata": {},
   "outputs": [],
   "source": [
    "gas_generators['Combined Cycle MW'] = gas_generators['Combined Cycle Units']*gas_generators['Nameplate Capacity (MW)']\n",
    "gas_generators['Gas Turbine MW'] = gas_generators['Gas Turbine Units']*gas_generators['Nameplate Capacity (MW)']\n",
    "gas_generators['Gas Engine MW'] = gas_generators['Gas Engine Units']*gas_generators['Nameplate Capacity (MW)']\n",
    "gas_generators['Gas Steam Turbine MW'] = gas_generators['Gas Steam Turbine Units']*gas_generators['Nameplate Capacity (MW)']"
   ]
  },
  {
   "cell_type": "code",
   "execution_count": 24,
   "metadata": {},
   "outputs": [
    {
     "data": {
      "text/html": [
       "<div>\n",
       "<style scoped>\n",
       "    .dataframe tbody tr th:only-of-type {\n",
       "        vertical-align: middle;\n",
       "    }\n",
       "\n",
       "    .dataframe tbody tr th {\n",
       "        vertical-align: top;\n",
       "    }\n",
       "\n",
       "    .dataframe thead th {\n",
       "        text-align: right;\n",
       "    }\n",
       "</style>\n",
       "<table border=\"1\" class=\"dataframe\">\n",
       "  <thead>\n",
       "    <tr style=\"text-align: right;\">\n",
       "      <th></th>\n",
       "      <th>Plant Code</th>\n",
       "      <th>Plant Name</th>\n",
       "      <th>State</th>\n",
       "      <th>Generator ID</th>\n",
       "      <th>Prime Mover</th>\n",
       "      <th>Nameplate Capacity (MW)</th>\n",
       "      <th>Operating Month</th>\n",
       "      <th>Operating Year</th>\n",
       "      <th>Unit Code</th>\n",
       "      <th>Combined Cycle Units</th>\n",
       "      <th>Gas Turbine Units</th>\n",
       "      <th>Gas Engine Units</th>\n",
       "      <th>Gas Steam Turbine Units</th>\n",
       "      <th>Combined Cycle MW</th>\n",
       "      <th>Gas Turbine MW</th>\n",
       "      <th>Gas Engine MW</th>\n",
       "      <th>Gas Steam Turbine MW</th>\n",
       "    </tr>\n",
       "  </thead>\n",
       "  <tbody>\n",
       "    <tr>\n",
       "      <th>1</th>\n",
       "      <td>3</td>\n",
       "      <td>Barry</td>\n",
       "      <td>AL</td>\n",
       "      <td>1</td>\n",
       "      <td>ST</td>\n",
       "      <td>153.1</td>\n",
       "      <td>2.0</td>\n",
       "      <td>1954.0</td>\n",
       "      <td>3-1</td>\n",
       "      <td>0</td>\n",
       "      <td>0</td>\n",
       "      <td>0</td>\n",
       "      <td>1</td>\n",
       "      <td>0.0</td>\n",
       "      <td>0.0</td>\n",
       "      <td>0.0</td>\n",
       "      <td>153.1</td>\n",
       "    </tr>\n",
       "    <tr>\n",
       "      <th>2</th>\n",
       "      <td>3</td>\n",
       "      <td>Barry</td>\n",
       "      <td>AL</td>\n",
       "      <td>2</td>\n",
       "      <td>ST</td>\n",
       "      <td>153.1</td>\n",
       "      <td>7.0</td>\n",
       "      <td>1954.0</td>\n",
       "      <td>3-2</td>\n",
       "      <td>0</td>\n",
       "      <td>0</td>\n",
       "      <td>0</td>\n",
       "      <td>1</td>\n",
       "      <td>0.0</td>\n",
       "      <td>0.0</td>\n",
       "      <td>0.0</td>\n",
       "      <td>153.1</td>\n",
       "    </tr>\n",
       "    <tr>\n",
       "      <th>5</th>\n",
       "      <td>3</td>\n",
       "      <td>Barry</td>\n",
       "      <td>AL</td>\n",
       "      <td>A1CT</td>\n",
       "      <td>CT</td>\n",
       "      <td>170.1</td>\n",
       "      <td>5.0</td>\n",
       "      <td>2000.0</td>\n",
       "      <td>3-A1CT</td>\n",
       "      <td>1</td>\n",
       "      <td>0</td>\n",
       "      <td>0</td>\n",
       "      <td>0</td>\n",
       "      <td>170.1</td>\n",
       "      <td>0.0</td>\n",
       "      <td>0.0</td>\n",
       "      <td>0.0</td>\n",
       "    </tr>\n",
       "    <tr>\n",
       "      <th>6</th>\n",
       "      <td>3</td>\n",
       "      <td>Barry</td>\n",
       "      <td>AL</td>\n",
       "      <td>A1CT2</td>\n",
       "      <td>CT</td>\n",
       "      <td>170.1</td>\n",
       "      <td>5.0</td>\n",
       "      <td>2000.0</td>\n",
       "      <td>3-A1CT2</td>\n",
       "      <td>1</td>\n",
       "      <td>0</td>\n",
       "      <td>0</td>\n",
       "      <td>0</td>\n",
       "      <td>170.1</td>\n",
       "      <td>0.0</td>\n",
       "      <td>0.0</td>\n",
       "      <td>0.0</td>\n",
       "    </tr>\n",
       "    <tr>\n",
       "      <th>7</th>\n",
       "      <td>3</td>\n",
       "      <td>Barry</td>\n",
       "      <td>AL</td>\n",
       "      <td>A1ST</td>\n",
       "      <td>CA</td>\n",
       "      <td>195.2</td>\n",
       "      <td>5.0</td>\n",
       "      <td>2000.0</td>\n",
       "      <td>3-A1ST</td>\n",
       "      <td>1</td>\n",
       "      <td>0</td>\n",
       "      <td>0</td>\n",
       "      <td>0</td>\n",
       "      <td>195.2</td>\n",
       "      <td>0.0</td>\n",
       "      <td>0.0</td>\n",
       "      <td>0.0</td>\n",
       "    </tr>\n",
       "  </tbody>\n",
       "</table>\n",
       "</div>"
      ],
      "text/plain": [
       "   Plant Code Plant Name State Generator ID Prime Mover  \\\n",
       "1           3      Barry    AL            1          ST   \n",
       "2           3      Barry    AL            2          ST   \n",
       "5           3      Barry    AL         A1CT          CT   \n",
       "6           3      Barry    AL        A1CT2          CT   \n",
       "7           3      Barry    AL         A1ST          CA   \n",
       "\n",
       "   Nameplate Capacity (MW)  Operating Month  Operating Year Unit Code  \\\n",
       "1                    153.1              2.0          1954.0       3-1   \n",
       "2                    153.1              7.0          1954.0       3-2   \n",
       "5                    170.1              5.0          2000.0    3-A1CT   \n",
       "6                    170.1              5.0          2000.0   3-A1CT2   \n",
       "7                    195.2              5.0          2000.0    3-A1ST   \n",
       "\n",
       "   Combined Cycle Units  Gas Turbine Units  Gas Engine Units  \\\n",
       "1                     0                  0                 0   \n",
       "2                     0                  0                 0   \n",
       "5                     1                  0                 0   \n",
       "6                     1                  0                 0   \n",
       "7                     1                  0                 0   \n",
       "\n",
       "   Gas Steam Turbine Units  Combined Cycle MW  Gas Turbine MW  Gas Engine MW  \\\n",
       "1                        1                0.0             0.0            0.0   \n",
       "2                        1                0.0             0.0            0.0   \n",
       "5                        0              170.1             0.0            0.0   \n",
       "6                        0              170.1             0.0            0.0   \n",
       "7                        0              195.2             0.0            0.0   \n",
       "\n",
       "   Gas Steam Turbine MW  \n",
       "1                 153.1  \n",
       "2                 153.1  \n",
       "5                   0.0  \n",
       "6                   0.0  \n",
       "7                   0.0  "
      ]
     },
     "execution_count": 24,
     "metadata": {},
     "output_type": "execute_result"
    }
   ],
   "source": [
    "gas_generators.head()"
   ]
  },
  {
   "cell_type": "code",
   "execution_count": 25,
   "metadata": {},
   "outputs": [
    {
     "data": {
      "text/plain": [
       "Index(['Plant Code', 'Plant Name', 'State', 'Generator ID', 'Prime Mover',\n",
       "       'Nameplate Capacity (MW)', 'Operating Month', 'Operating Year',\n",
       "       'Unit Code', 'Combined Cycle Units', 'Gas Turbine Units',\n",
       "       'Gas Engine Units', 'Gas Steam Turbine Units', 'Combined Cycle MW',\n",
       "       'Gas Turbine MW', 'Gas Engine MW', 'Gas Steam Turbine MW'],\n",
       "      dtype='object')"
      ]
     },
     "execution_count": 25,
     "metadata": {},
     "output_type": "execute_result"
    }
   ],
   "source": [
    "gas_generators.columns"
   ]
  },
  {
   "cell_type": "code",
   "execution_count": 26,
   "metadata": {},
   "outputs": [],
   "source": [
    "gas_agg = {'Plant Name':\"first\", 'State':\"first\",'Generator ID':\"count\",'Combined Cycle Units':\"sum\", \\\n",
    "           'Gas Turbine Units':\"sum\",'Gas Engine Units':\"sum\", 'Gas Steam Turbine Units':\"sum\", 'Combined Cycle MW':\"sum\",\\\n",
    "       'Gas Turbine MW':\"sum\", 'Gas Engine MW':\"sum\", 'Gas Steam Turbine MW':\"sum\",'Nameplate Capacity (MW)':\"sum\",\\\n",
    "           'Operating Year':\"last\", 'Operating Month':\"last\"}"
   ]
  },
  {
   "cell_type": "code",
   "execution_count": 27,
   "metadata": {},
   "outputs": [
    {
     "data": {
      "text/plain": [
       "(1787, 14)"
      ]
     },
     "execution_count": 27,
     "metadata": {},
     "output_type": "execute_result"
    }
   ],
   "source": [
    "gas_plants = gas_generators.groupby('Plant Code').agg(gas_agg)\n",
    "gas_plants.rename(columns = {'Generator ID':\"total units\"}, inplace=True)\n",
    "gas_plants.shape"
   ]
  },
  {
   "cell_type": "code",
   "execution_count": 28,
   "metadata": {},
   "outputs": [
    {
     "data": {
      "text/html": [
       "<div>\n",
       "<style scoped>\n",
       "    .dataframe tbody tr th:only-of-type {\n",
       "        vertical-align: middle;\n",
       "    }\n",
       "\n",
       "    .dataframe tbody tr th {\n",
       "        vertical-align: top;\n",
       "    }\n",
       "\n",
       "    .dataframe thead th {\n",
       "        text-align: right;\n",
       "    }\n",
       "</style>\n",
       "<table border=\"1\" class=\"dataframe\">\n",
       "  <thead>\n",
       "    <tr style=\"text-align: right;\">\n",
       "      <th></th>\n",
       "      <th>Plant Name</th>\n",
       "      <th>State</th>\n",
       "      <th>total units</th>\n",
       "      <th>Combined Cycle Units</th>\n",
       "      <th>Gas Turbine Units</th>\n",
       "      <th>Gas Engine Units</th>\n",
       "      <th>Gas Steam Turbine Units</th>\n",
       "      <th>Combined Cycle MW</th>\n",
       "      <th>Gas Turbine MW</th>\n",
       "      <th>Gas Engine MW</th>\n",
       "      <th>Gas Steam Turbine MW</th>\n",
       "      <th>Nameplate Capacity (MW)</th>\n",
       "      <th>Operating Year</th>\n",
       "      <th>Operating Month</th>\n",
       "    </tr>\n",
       "    <tr>\n",
       "      <th>Plant Code</th>\n",
       "      <th></th>\n",
       "      <th></th>\n",
       "      <th></th>\n",
       "      <th></th>\n",
       "      <th></th>\n",
       "      <th></th>\n",
       "      <th></th>\n",
       "      <th></th>\n",
       "      <th></th>\n",
       "      <th></th>\n",
       "      <th></th>\n",
       "      <th></th>\n",
       "      <th></th>\n",
       "      <th></th>\n",
       "    </tr>\n",
       "  </thead>\n",
       "  <tbody>\n",
       "    <tr>\n",
       "      <th>3</th>\n",
       "      <td>Barry</td>\n",
       "      <td>AL</td>\n",
       "      <td>8</td>\n",
       "      <td>6</td>\n",
       "      <td>0</td>\n",
       "      <td>0</td>\n",
       "      <td>2</td>\n",
       "      <td>1070.8</td>\n",
       "      <td>0.0</td>\n",
       "      <td>0.0</td>\n",
       "      <td>306.2</td>\n",
       "      <td>1377.0</td>\n",
       "      <td>2000.0</td>\n",
       "      <td>5.0</td>\n",
       "    </tr>\n",
       "    <tr>\n",
       "      <th>7</th>\n",
       "      <td>Gadsden</td>\n",
       "      <td>AL</td>\n",
       "      <td>2</td>\n",
       "      <td>0</td>\n",
       "      <td>0</td>\n",
       "      <td>0</td>\n",
       "      <td>2</td>\n",
       "      <td>0.0</td>\n",
       "      <td>0.0</td>\n",
       "      <td>0.0</td>\n",
       "      <td>138.0</td>\n",
       "      <td>138.0</td>\n",
       "      <td>1949.0</td>\n",
       "      <td>7.0</td>\n",
       "    </tr>\n",
       "    <tr>\n",
       "      <th>9</th>\n",
       "      <td>Copper</td>\n",
       "      <td>TX</td>\n",
       "      <td>1</td>\n",
       "      <td>0</td>\n",
       "      <td>1</td>\n",
       "      <td>0</td>\n",
       "      <td>0</td>\n",
       "      <td>0.0</td>\n",
       "      <td>86.9</td>\n",
       "      <td>0.0</td>\n",
       "      <td>0.0</td>\n",
       "      <td>86.9</td>\n",
       "      <td>1980.0</td>\n",
       "      <td>7.0</td>\n",
       "    </tr>\n",
       "    <tr>\n",
       "      <th>10</th>\n",
       "      <td>Greene County</td>\n",
       "      <td>AL</td>\n",
       "      <td>11</td>\n",
       "      <td>0</td>\n",
       "      <td>9</td>\n",
       "      <td>0</td>\n",
       "      <td>2</td>\n",
       "      <td>0.0</td>\n",
       "      <td>720.0</td>\n",
       "      <td>0.0</td>\n",
       "      <td>568.4</td>\n",
       "      <td>1288.4</td>\n",
       "      <td>1996.0</td>\n",
       "      <td>5.0</td>\n",
       "    </tr>\n",
       "    <tr>\n",
       "      <th>26</th>\n",
       "      <td>E C Gaston</td>\n",
       "      <td>AL</td>\n",
       "      <td>4</td>\n",
       "      <td>0</td>\n",
       "      <td>0</td>\n",
       "      <td>0</td>\n",
       "      <td>4</td>\n",
       "      <td>0.0</td>\n",
       "      <td>0.0</td>\n",
       "      <td>0.0</td>\n",
       "      <td>1060.8</td>\n",
       "      <td>1060.8</td>\n",
       "      <td>1962.0</td>\n",
       "      <td>6.0</td>\n",
       "    </tr>\n",
       "    <tr>\n",
       "      <th>30</th>\n",
       "      <td>Madelia</td>\n",
       "      <td>MN</td>\n",
       "      <td>5</td>\n",
       "      <td>0</td>\n",
       "      <td>0</td>\n",
       "      <td>5</td>\n",
       "      <td>0</td>\n",
       "      <td>0.0</td>\n",
       "      <td>0.0</td>\n",
       "      <td>11.8</td>\n",
       "      <td>0.0</td>\n",
       "      <td>11.8</td>\n",
       "      <td>1954.0</td>\n",
       "      <td>3.0</td>\n",
       "    </tr>\n",
       "    <tr>\n",
       "      <th>47</th>\n",
       "      <td>Colbert</td>\n",
       "      <td>AL</td>\n",
       "      <td>8</td>\n",
       "      <td>0</td>\n",
       "      <td>8</td>\n",
       "      <td>0</td>\n",
       "      <td>0</td>\n",
       "      <td>0.0</td>\n",
       "      <td>476.0</td>\n",
       "      <td>0.0</td>\n",
       "      <td>0.0</td>\n",
       "      <td>476.0</td>\n",
       "      <td>1972.0</td>\n",
       "      <td>9.0</td>\n",
       "    </tr>\n",
       "    <tr>\n",
       "      <th>54</th>\n",
       "      <td>J K Smith</td>\n",
       "      <td>KY</td>\n",
       "      <td>9</td>\n",
       "      <td>0</td>\n",
       "      <td>9</td>\n",
       "      <td>0</td>\n",
       "      <td>0</td>\n",
       "      <td>0.0</td>\n",
       "      <td>1055.0</td>\n",
       "      <td>0.0</td>\n",
       "      <td>0.0</td>\n",
       "      <td>1055.0</td>\n",
       "      <td>2010.0</td>\n",
       "      <td>5.0</td>\n",
       "    </tr>\n",
       "    <tr>\n",
       "      <th>75</th>\n",
       "      <td>Anchorage 1</td>\n",
       "      <td>AK</td>\n",
       "      <td>2</td>\n",
       "      <td>0</td>\n",
       "      <td>2</td>\n",
       "      <td>0</td>\n",
       "      <td>0</td>\n",
       "      <td>0.0</td>\n",
       "      <td>75.9</td>\n",
       "      <td>0.0</td>\n",
       "      <td>0.0</td>\n",
       "      <td>75.9</td>\n",
       "      <td>1972.0</td>\n",
       "      <td>3.0</td>\n",
       "    </tr>\n",
       "    <tr>\n",
       "      <th>96</th>\n",
       "      <td>Beluga</td>\n",
       "      <td>AK</td>\n",
       "      <td>6</td>\n",
       "      <td>0</td>\n",
       "      <td>6</td>\n",
       "      <td>0</td>\n",
       "      <td>0</td>\n",
       "      <td>0.0</td>\n",
       "      <td>312.4</td>\n",
       "      <td>0.0</td>\n",
       "      <td>0.0</td>\n",
       "      <td>312.4</td>\n",
       "      <td>1978.0</td>\n",
       "      <td>12.0</td>\n",
       "    </tr>\n",
       "  </tbody>\n",
       "</table>\n",
       "</div>"
      ],
      "text/plain": [
       "               Plant Name State  total units  Combined Cycle Units  \\\n",
       "Plant Code                                                           \n",
       "3                   Barry    AL            8                     6   \n",
       "7                 Gadsden    AL            2                     0   \n",
       "9                  Copper    TX            1                     0   \n",
       "10          Greene County    AL           11                     0   \n",
       "26             E C Gaston    AL            4                     0   \n",
       "30                Madelia    MN            5                     0   \n",
       "47                Colbert    AL            8                     0   \n",
       "54              J K Smith    KY            9                     0   \n",
       "75            Anchorage 1    AK            2                     0   \n",
       "96                 Beluga    AK            6                     0   \n",
       "\n",
       "            Gas Turbine Units  Gas Engine Units  Gas Steam Turbine Units  \\\n",
       "Plant Code                                                                 \n",
       "3                           0                 0                        2   \n",
       "7                           0                 0                        2   \n",
       "9                           1                 0                        0   \n",
       "10                          9                 0                        2   \n",
       "26                          0                 0                        4   \n",
       "30                          0                 5                        0   \n",
       "47                          8                 0                        0   \n",
       "54                          9                 0                        0   \n",
       "75                          2                 0                        0   \n",
       "96                          6                 0                        0   \n",
       "\n",
       "            Combined Cycle MW  Gas Turbine MW  Gas Engine MW  \\\n",
       "Plant Code                                                     \n",
       "3                      1070.8             0.0            0.0   \n",
       "7                         0.0             0.0            0.0   \n",
       "9                         0.0            86.9            0.0   \n",
       "10                        0.0           720.0            0.0   \n",
       "26                        0.0             0.0            0.0   \n",
       "30                        0.0             0.0           11.8   \n",
       "47                        0.0           476.0            0.0   \n",
       "54                        0.0          1055.0            0.0   \n",
       "75                        0.0            75.9            0.0   \n",
       "96                        0.0           312.4            0.0   \n",
       "\n",
       "            Gas Steam Turbine MW  Nameplate Capacity (MW)  Operating Year  \\\n",
       "Plant Code                                                                  \n",
       "3                          306.2                   1377.0          2000.0   \n",
       "7                          138.0                    138.0          1949.0   \n",
       "9                            0.0                     86.9          1980.0   \n",
       "10                         568.4                   1288.4          1996.0   \n",
       "26                        1060.8                   1060.8          1962.0   \n",
       "30                           0.0                     11.8          1954.0   \n",
       "47                           0.0                    476.0          1972.0   \n",
       "54                           0.0                   1055.0          2010.0   \n",
       "75                           0.0                     75.9          1972.0   \n",
       "96                           0.0                    312.4          1978.0   \n",
       "\n",
       "            Operating Month  \n",
       "Plant Code                   \n",
       "3                       5.0  \n",
       "7                       7.0  \n",
       "9                       7.0  \n",
       "10                      5.0  \n",
       "26                      6.0  \n",
       "30                      3.0  \n",
       "47                      9.0  \n",
       "54                      5.0  \n",
       "75                      3.0  \n",
       "96                     12.0  "
      ]
     },
     "execution_count": 28,
     "metadata": {},
     "output_type": "execute_result"
    }
   ],
   "source": [
    "gas_plants.head(10)"
   ]
  },
  {
   "cell_type": "markdown",
   "metadata": {},
   "source": [
    "There are 459 combined cycle gas power stations in the U.S."
   ]
  },
  {
   "cell_type": "code",
   "execution_count": 29,
   "metadata": {},
   "outputs": [
    {
     "data": {
      "text/plain": [
       "(459, 14)"
      ]
     },
     "execution_count": 29,
     "metadata": {},
     "output_type": "execute_result"
    }
   ],
   "source": [
    "combined = gas_plants[(gas_plants['Gas Turbine Units']==0)&(gas_plants['Gas Engine Units']==0)\\\n",
    "                     &(gas_plants['Gas Steam Turbine Units']==0)].copy()\n",
    "\n",
    "combined_plant_codes = combined.index.tolist()\n",
    "combined.shape"
   ]
  },
  {
   "cell_type": "code",
   "execution_count": 30,
   "metadata": {},
   "outputs": [
    {
     "data": {
      "text/plain": [
       "(720, 14)"
      ]
     },
     "execution_count": 30,
     "metadata": {},
     "output_type": "execute_result"
    }
   ],
   "source": [
    "gas_turbine = gas_plants[(gas_plants['Combined Cycle Units']==0)&(gas_plants['Gas Engine Units']==0)\\\n",
    "                     &(gas_plants['Gas Steam Turbine Units']==0)].copy()\n",
    "gas_turbine.shape"
   ]
  },
  {
   "cell_type": "markdown",
   "metadata": {},
   "source": [
    "There are a number of stations which include both combined cycle units and gas turbine units."
   ]
  },
  {
   "cell_type": "code",
   "execution_count": 31,
   "metadata": {},
   "outputs": [
    {
     "data": {
      "text/plain": [
       "(91, 14)"
      ]
     },
     "execution_count": 31,
     "metadata": {},
     "output_type": "execute_result"
    }
   ],
   "source": [
    "mixed_1 = gas_plants[(gas_plants['Combined Cycle Units']>0)&(gas_plants['Gas Steam Turbine Units']>0)].copy()\n",
    "mixed_2 = gas_plants[(gas_plants['Combined Cycle Units']>0)&(gas_plants['Gas Turbine Units']>0)].copy()\n",
    "mixed_gas = pd.concat([mixed_1, mixed_2])\n",
    "mixed_gas.shape"
   ]
  },
  {
   "cell_type": "code",
   "execution_count": 32,
   "metadata": {},
   "outputs": [
    {
     "data": {
      "text/plain": [
       "(265247.9, 129034.0, 73425.3)"
      ]
     },
     "execution_count": 32,
     "metadata": {},
     "output_type": "execute_result"
    }
   ],
   "source": [
    "combined['Nameplate Capacity (MW)'].sum(), gas_turbine['Nameplate Capacity (MW)'].sum(), mixed_gas['Nameplate Capacity (MW)'].sum()"
   ]
  },
  {
   "cell_type": "code",
   "execution_count": 33,
   "metadata": {},
   "outputs": [
    {
     "data": {
      "text/plain": [
       "(577.8821350762527, 556.0)"
      ]
     },
     "execution_count": 33,
     "metadata": {},
     "output_type": "execute_result"
    }
   ],
   "source": [
    "combined['Nameplate Capacity (MW)'].mean(), combined['Nameplate Capacity (MW)'].median()"
   ]
  },
  {
   "cell_type": "code",
   "execution_count": 34,
   "metadata": {},
   "outputs": [
    {
     "data": {
      "text/plain": [
       "(179.21388888888896, 71.6)"
      ]
     },
     "execution_count": 34,
     "metadata": {},
     "output_type": "execute_result"
    }
   ],
   "source": [
    "gas_turbine['Nameplate Capacity (MW)'].mean(), gas_turbine['Nameplate Capacity (MW)'].median()"
   ]
  },
  {
   "cell_type": "markdown",
   "metadata": {},
   "source": [
    "The stations containing both gas turbine and combined cycle units are the largest on average."
   ]
  },
  {
   "cell_type": "code",
   "execution_count": 35,
   "metadata": {},
   "outputs": [
    {
     "data": {
      "text/plain": [
       "(806.871428571429, 678.1)"
      ]
     },
     "execution_count": 35,
     "metadata": {},
     "output_type": "execute_result"
    }
   ],
   "source": [
    "mixed_gas['Nameplate Capacity (MW)'].mean(), mixed_gas['Nameplate Capacity (MW)'].median()"
   ]
  },
  {
   "cell_type": "code",
   "execution_count": 36,
   "metadata": {},
   "outputs": [
    {
     "data": {
      "image/png": "[encoded data removed]",
      "text/plain": [
       "<Figure size 720x432 with 1 Axes>"
      ]
     },
     "metadata": {
      "needs_background": "light"
     },
     "output_type": "display_data"
    }
   ],
   "source": [
    "bins=[x for x in range(0,5000,200)]\n",
    "plt.figure(figsize=(10,6))\n",
    "plt.title(\"Distribution of Natural Gas Power Stations by Plant Type\",fontsize=14)\n",
    "plt.hist(combined['Nameplate Capacity (MW)'], bins=bins, label=\"combined cycle (CC) station\", alpha=0.7)\n",
    "plt.hist(mixed_gas['Nameplate Capacity (MW)'], bins=bins, label=\"CC and gas turbine station\", alpha=0.7)\n",
    "#plt.hist(gas_turbine['Nameplate Capacity (MW)'], bins=bins, label = \"gas turbine\", alpha=0.7)\n",
    "plt.xlabel(\"Nameplate Capacity (MW)\")\n",
    "plt.ylabel(\"Number of Stations\")\n",
    "plt.legend()\n",
    "plt.show()"
   ]
  },
  {
   "cell_type": "code",
   "execution_count": 37,
   "metadata": {},
   "outputs": [
    {
     "data": {
      "text/plain": [
       "count     131.000000\n",
       "mean     1421.685496\n",
       "std       459.446157\n",
       "min      1000.000000\n",
       "25%      1140.300000\n",
       "50%      1271.600000\n",
       "75%      1539.000000\n",
       "max      4263.000000\n",
       "Name: Nameplate Capacity (MW), dtype: float64"
      ]
     },
     "execution_count": 37,
     "metadata": {},
     "output_type": "execute_result"
    }
   ],
   "source": [
    "large_gas_plants = gas_plants[gas_plants['Nameplate Capacity (MW)']>=1000]\n",
    "large_gas_plants['Nameplate Capacity (MW)'].describe()"
   ]
  },
  {
   "cell_type": "markdown",
   "metadata": {},
   "source": [
    "Load in annual production data.  This will support determining capacity factors.  Capacity factor is a metric representing the fraction of the time a station is operating at full capacity."
   ]
  },
  {
   "cell_type": "code",
   "execution_count": 38,
   "metadata": {},
   "outputs": [],
   "source": [
    "data_2019 = pd.read_excel(\"EIA923_Schedules_2_3_4_5_M_12_2019_Final.xlsx\",skiprows = 5)"
   ]
  },
  {
   "cell_type": "code",
   "execution_count": 39,
   "metadata": {},
   "outputs": [
    {
     "data": {
      "text/html": [
       "<div>\n",
       "<style scoped>\n",
       "    .dataframe tbody tr th:only-of-type {\n",
       "        vertical-align: middle;\n",
       "    }\n",
       "\n",
       "    .dataframe tbody tr th {\n",
       "        vertical-align: top;\n",
       "    }\n",
       "\n",
       "    .dataframe thead th {\n",
       "        text-align: right;\n",
       "    }\n",
       "</style>\n",
       "<table border=\"1\" class=\"dataframe\">\n",
       "  <thead>\n",
       "    <tr style=\"text-align: right;\">\n",
       "      <th></th>\n",
       "      <th>Plant Id</th>\n",
       "      <th>Plant Name</th>\n",
       "      <th>Plant State</th>\n",
       "      <th>Reported\\nFuel Type Code</th>\n",
       "      <th>AER\\nFuel Type Code</th>\n",
       "      <th>Netgen\\nJanuary</th>\n",
       "      <th>Netgen\\nFebruary</th>\n",
       "      <th>Netgen\\nMarch</th>\n",
       "      <th>Netgen\\nApril</th>\n",
       "      <th>Netgen\\nMay</th>\n",
       "      <th>Netgen\\nJune</th>\n",
       "      <th>Netgen\\nJuly</th>\n",
       "      <th>Netgen\\nAugust</th>\n",
       "      <th>Netgen\\nSeptember</th>\n",
       "      <th>Netgen\\nOctober</th>\n",
       "      <th>Netgen\\nNovember</th>\n",
       "      <th>Netgen\\nDecember</th>\n",
       "      <th>Net Generation\\n(Megawatthours)</th>\n",
       "      <th>YEAR</th>\n",
       "    </tr>\n",
       "  </thead>\n",
       "  <tbody>\n",
       "    <tr>\n",
       "      <th>0</th>\n",
       "      <td>1</td>\n",
       "      <td>Sand Point</td>\n",
       "      <td>AK</td>\n",
       "      <td>DFO</td>\n",
       "      <td>DFO</td>\n",
       "      <td>195.676</td>\n",
       "      <td>217.498</td>\n",
       "      <td>215.544</td>\n",
       "      <td>198.082</td>\n",
       "      <td>215.578</td>\n",
       "      <td>185.236</td>\n",
       "      <td>210.989</td>\n",
       "      <td>233.607</td>\n",
       "      <td>277.39</td>\n",
       "      <td>291.533</td>\n",
       "      <td>221.449</td>\n",
       "      <td>295.418</td>\n",
       "      <td>2758.0</td>\n",
       "      <td>2019</td>\n",
       "    </tr>\n",
       "    <tr>\n",
       "      <th>1</th>\n",
       "      <td>1</td>\n",
       "      <td>Sand Point</td>\n",
       "      <td>AK</td>\n",
       "      <td>WND</td>\n",
       "      <td>WND</td>\n",
       "      <td>88.072</td>\n",
       "      <td>80.613</td>\n",
       "      <td>90.25</td>\n",
       "      <td>100.908</td>\n",
       "      <td>89.021</td>\n",
       "      <td>76.538</td>\n",
       "      <td>75.28</td>\n",
       "      <td>68.051</td>\n",
       "      <td>83.408</td>\n",
       "      <td>94.562</td>\n",
       "      <td>85.813</td>\n",
       "      <td>89.484</td>\n",
       "      <td>1022.0</td>\n",
       "      <td>2019</td>\n",
       "    </tr>\n",
       "    <tr>\n",
       "      <th>2</th>\n",
       "      <td>2</td>\n",
       "      <td>Bankhead Dam</td>\n",
       "      <td>AL</td>\n",
       "      <td>WAT</td>\n",
       "      <td>HYC</td>\n",
       "      <td>-23.567</td>\n",
       "      <td>-22.044</td>\n",
       "      <td>-25.812</td>\n",
       "      <td>-26.452</td>\n",
       "      <td>-31.6</td>\n",
       "      <td>-27.586</td>\n",
       "      <td>-23.829</td>\n",
       "      <td>-22.872</td>\n",
       "      <td>-18.33</td>\n",
       "      <td>-18.28</td>\n",
       "      <td>-21.282</td>\n",
       "      <td>-22.346</td>\n",
       "      <td>-284.0</td>\n",
       "      <td>2019</td>\n",
       "    </tr>\n",
       "    <tr>\n",
       "      <th>3</th>\n",
       "      <td>3</td>\n",
       "      <td>Barry</td>\n",
       "      <td>AL</td>\n",
       "      <td>NG</td>\n",
       "      <td>NG</td>\n",
       "      <td>249734</td>\n",
       "      <td>239279</td>\n",
       "      <td>260061</td>\n",
       "      <td>166618</td>\n",
       "      <td>241896</td>\n",
       "      <td>252882</td>\n",
       "      <td>253399</td>\n",
       "      <td>267202</td>\n",
       "      <td>255971</td>\n",
       "      <td>255736</td>\n",
       "      <td>250232</td>\n",
       "      <td>131877</td>\n",
       "      <td>2824887.0</td>\n",
       "      <td>2019</td>\n",
       "    </tr>\n",
       "    <tr>\n",
       "      <th>4</th>\n",
       "      <td>3</td>\n",
       "      <td>Barry</td>\n",
       "      <td>AL</td>\n",
       "      <td>NG</td>\n",
       "      <td>NG</td>\n",
       "      <td>469654</td>\n",
       "      <td>449491</td>\n",
       "      <td>487355</td>\n",
       "      <td>313253</td>\n",
       "      <td>460403</td>\n",
       "      <td>475069</td>\n",
       "      <td>476259</td>\n",
       "      <td>500818</td>\n",
       "      <td>476004</td>\n",
       "      <td>472701</td>\n",
       "      <td>471065</td>\n",
       "      <td>254319</td>\n",
       "      <td>5306391.0</td>\n",
       "      <td>2019</td>\n",
       "    </tr>\n",
       "  </tbody>\n",
       "</table>\n",
       "</div>"
      ],
      "text/plain": [
       "   Plant Id    Plant Name Plant State Reported\\nFuel Type Code  \\\n",
       "0         1    Sand Point          AK                      DFO   \n",
       "1         1    Sand Point          AK                      WND   \n",
       "2         2  Bankhead Dam          AL                      WAT   \n",
       "3         3         Barry          AL                       NG   \n",
       "4         3         Barry          AL                       NG   \n",
       "\n",
       "  AER\\nFuel Type Code Netgen\\nJanuary Netgen\\nFebruary Netgen\\nMarch  \\\n",
       "0                 DFO         195.676          217.498       215.544   \n",
       "1                 WND          88.072           80.613         90.25   \n",
       "2                 HYC         -23.567          -22.044       -25.812   \n",
       "3                  NG          249734           239279        260061   \n",
       "4                  NG          469654           449491        487355   \n",
       "\n",
       "  Netgen\\nApril Netgen\\nMay Netgen\\nJune Netgen\\nJuly Netgen\\nAugust  \\\n",
       "0       198.082     215.578      185.236      210.989        233.607   \n",
       "1       100.908      89.021       76.538        75.28         68.051   \n",
       "2       -26.452       -31.6      -27.586      -23.829        -22.872   \n",
       "3        166618      241896       252882       253399         267202   \n",
       "4        313253      460403       475069       476259         500818   \n",
       "\n",
       "  Netgen\\nSeptember Netgen\\nOctober Netgen\\nNovember Netgen\\nDecember  \\\n",
       "0            277.39         291.533          221.449          295.418   \n",
       "1            83.408          94.562           85.813           89.484   \n",
       "2            -18.33          -18.28          -21.282          -22.346   \n",
       "3            255971          255736           250232           131877   \n",
       "4            476004          472701           471065           254319   \n",
       "\n",
       "   Net Generation\\n(Megawatthours)  YEAR  \n",
       "0                           2758.0  2019  \n",
       "1                           1022.0  2019  \n",
       "2                           -284.0  2019  \n",
       "3                        2824887.0  2019  \n",
       "4                        5306391.0  2019  "
      ]
     },
     "execution_count": 39,
     "metadata": {},
     "output_type": "execute_result"
    }
   ],
   "source": [
    "prod_2019 = data_2019.iloc[:,[0,3,6,14,15,79,80,81,82,83,84,85,86,87,88,89,90,95,96]].copy()\n",
    "prod_2019.head()"
   ]
  },
  {
   "cell_type": "code",
   "execution_count": 40,
   "metadata": {},
   "outputs": [
    {
     "data": {
      "text/plain": [
       "(3307, 19)"
      ]
     },
     "execution_count": 40,
     "metadata": {},
     "output_type": "execute_result"
    }
   ],
   "source": [
    "gas_prod = prod_2019[data_2019['AER\\nFuel Type Code']=='NG'].copy()\n",
    "gas_prod.shape"
   ]
  },
  {
   "cell_type": "code",
   "execution_count": 41,
   "metadata": {},
   "outputs": [],
   "source": [
    "monthly_totals = ['Netgen\\nJanuary', 'Netgen\\nFebruary', 'Netgen\\nMarch', 'Netgen\\nApril', 'Netgen\\nMay', \\\n",
    "        'Netgen\\nJune','Netgen\\nJuly', 'Netgen\\nAugust', 'Netgen\\nSeptember','Netgen\\nOctober', 'Netgen\\nNovember', \\\n",
    "                  'Netgen\\nDecember']"
   ]
  },
  {
   "cell_type": "code",
   "execution_count": 42,
   "metadata": {},
   "outputs": [],
   "source": [
    "for i in monthly_totals:\n",
    "    gas_prod[i] = pd.to_numeric(gas_prod[i],errors=\"coerce\")"
   ]
  },
  {
   "cell_type": "code",
   "execution_count": 43,
   "metadata": {},
   "outputs": [],
   "source": [
    "gas_plants_prod = gas_prod.groupby('Plant Id').agg({'Plant Name':\"first\",'Plant State':\"first\", \\\n",
    "                    'AER\\nFuel Type Code':\"last\",'Netgen\\nJanuary':\"sum\", 'Netgen\\nFebruary':\"sum\",\\\n",
    "                   'Netgen\\nMarch':\"sum\", 'Netgen\\nApril':\"sum\", 'Netgen\\nMay':\"sum\", 'Netgen\\nJune':\"sum\",\\\n",
    "                   'Netgen\\nJuly':\"sum\", 'Netgen\\nAugust':\"sum\", 'Netgen\\nSeptember':\"sum\",\\\n",
    "                   'Netgen\\nOctober':\"sum\", 'Netgen\\nNovember':\"sum\", 'Netgen\\nDecember':\"sum\",'Net Generation\\n(Megawatthours)':\"sum\"}) "
   ]
  },
  {
   "cell_type": "code",
   "execution_count": 44,
   "metadata": {},
   "outputs": [
    {
     "data": {
      "text/plain": [
       "(2454, 16)"
      ]
     },
     "execution_count": 44,
     "metadata": {},
     "output_type": "execute_result"
    }
   ],
   "source": [
    "gas_plants_prod.shape"
   ]
  },
  {
   "cell_type": "code",
   "execution_count": 45,
   "metadata": {},
   "outputs": [
    {
     "data": {
      "text/html": [
       "<div>\n",
       "<style scoped>\n",
       "    .dataframe tbody tr th:only-of-type {\n",
       "        vertical-align: middle;\n",
       "    }\n",
       "\n",
       "    .dataframe tbody tr th {\n",
       "        vertical-align: top;\n",
       "    }\n",
       "\n",
       "    .dataframe thead th {\n",
       "        text-align: right;\n",
       "    }\n",
       "</style>\n",
       "<table border=\"1\" class=\"dataframe\">\n",
       "  <thead>\n",
       "    <tr style=\"text-align: right;\">\n",
       "      <th></th>\n",
       "      <th>Plant Name</th>\n",
       "      <th>Plant State</th>\n",
       "      <th>AER\\nFuel Type Code</th>\n",
       "      <th>Netgen\\nJanuary</th>\n",
       "      <th>Netgen\\nFebruary</th>\n",
       "      <th>Netgen\\nMarch</th>\n",
       "      <th>Netgen\\nApril</th>\n",
       "      <th>Netgen\\nMay</th>\n",
       "      <th>Netgen\\nJune</th>\n",
       "      <th>Netgen\\nJuly</th>\n",
       "      <th>Netgen\\nAugust</th>\n",
       "      <th>Netgen\\nSeptember</th>\n",
       "      <th>Netgen\\nOctober</th>\n",
       "      <th>Netgen\\nNovember</th>\n",
       "      <th>Netgen\\nDecember</th>\n",
       "      <th>Net Generation\\n(Megawatthours)</th>\n",
       "    </tr>\n",
       "    <tr>\n",
       "      <th>Plant Id</th>\n",
       "      <th></th>\n",
       "      <th></th>\n",
       "      <th></th>\n",
       "      <th></th>\n",
       "      <th></th>\n",
       "      <th></th>\n",
       "      <th></th>\n",
       "      <th></th>\n",
       "      <th></th>\n",
       "      <th></th>\n",
       "      <th></th>\n",
       "      <th></th>\n",
       "      <th></th>\n",
       "      <th></th>\n",
       "      <th></th>\n",
       "      <th></th>\n",
       "    </tr>\n",
       "  </thead>\n",
       "  <tbody>\n",
       "    <tr>\n",
       "      <th>3</th>\n",
       "      <td>Barry</td>\n",
       "      <td>AL</td>\n",
       "      <td>NG</td>\n",
       "      <td>729953.134</td>\n",
       "      <td>693271.683</td>\n",
       "      <td>761560.442</td>\n",
       "      <td>481774.629</td>\n",
       "      <td>728885.760</td>\n",
       "      <td>735245.099</td>\n",
       "      <td>750253.763</td>\n",
       "      <td>776810.059</td>\n",
       "      <td>770841.575</td>\n",
       "      <td>738677.970</td>\n",
       "      <td>740281.661</td>\n",
       "      <td>388347.033</td>\n",
       "      <td>8295902.810</td>\n",
       "    </tr>\n",
       "    <tr>\n",
       "      <th>7</th>\n",
       "      <td>Gadsden</td>\n",
       "      <td>AL</td>\n",
       "      <td>NG</td>\n",
       "      <td>13131.000</td>\n",
       "      <td>11972.000</td>\n",
       "      <td>13250.000</td>\n",
       "      <td>16936.000</td>\n",
       "      <td>15347.000</td>\n",
       "      <td>10074.000</td>\n",
       "      <td>15321.000</td>\n",
       "      <td>15126.000</td>\n",
       "      <td>14625.000</td>\n",
       "      <td>15199.000</td>\n",
       "      <td>14264.000</td>\n",
       "      <td>14732.000</td>\n",
       "      <td>169977.000</td>\n",
       "    </tr>\n",
       "    <tr>\n",
       "      <th>9</th>\n",
       "      <td>Copper</td>\n",
       "      <td>TX</td>\n",
       "      <td>NG</td>\n",
       "      <td>3062.439</td>\n",
       "      <td>2461.985</td>\n",
       "      <td>2645.439</td>\n",
       "      <td>2383.666</td>\n",
       "      <td>3242.429</td>\n",
       "      <td>3740.568</td>\n",
       "      <td>4304.225</td>\n",
       "      <td>4633.971</td>\n",
       "      <td>4005.006</td>\n",
       "      <td>3105.509</td>\n",
       "      <td>2816.874</td>\n",
       "      <td>3131.889</td>\n",
       "      <td>39534.000</td>\n",
       "    </tr>\n",
       "    <tr>\n",
       "      <th>10</th>\n",
       "      <td>Greene County</td>\n",
       "      <td>AL</td>\n",
       "      <td>NG</td>\n",
       "      <td>57593.000</td>\n",
       "      <td>54132.000</td>\n",
       "      <td>68083.000</td>\n",
       "      <td>108058.000</td>\n",
       "      <td>181918.000</td>\n",
       "      <td>190911.000</td>\n",
       "      <td>238731.000</td>\n",
       "      <td>230341.000</td>\n",
       "      <td>210875.000</td>\n",
       "      <td>190151.959</td>\n",
       "      <td>111457.927</td>\n",
       "      <td>125533.000</td>\n",
       "      <td>1767784.886</td>\n",
       "    </tr>\n",
       "    <tr>\n",
       "      <th>26</th>\n",
       "      <td>E C Gaston</td>\n",
       "      <td>AL</td>\n",
       "      <td>NG</td>\n",
       "      <td>56294.207</td>\n",
       "      <td>36582.859</td>\n",
       "      <td>213648.380</td>\n",
       "      <td>241312.420</td>\n",
       "      <td>391133.420</td>\n",
       "      <td>366001.630</td>\n",
       "      <td>411000.610</td>\n",
       "      <td>425005.750</td>\n",
       "      <td>367345.430</td>\n",
       "      <td>326445.460</td>\n",
       "      <td>48189.677</td>\n",
       "      <td>17222.000</td>\n",
       "      <td>2900181.800</td>\n",
       "    </tr>\n",
       "  </tbody>\n",
       "</table>\n",
       "</div>"
      ],
      "text/plain": [
       "             Plant Name Plant State AER\\nFuel Type Code  Netgen\\nJanuary  \\\n",
       "Plant Id                                                                   \n",
       "3                 Barry          AL                  NG       729953.134   \n",
       "7               Gadsden          AL                  NG        13131.000   \n",
       "9                Copper          TX                  NG         3062.439   \n",
       "10        Greene County          AL                  NG        57593.000   \n",
       "26           E C Gaston          AL                  NG        56294.207   \n",
       "\n",
       "          Netgen\\nFebruary  Netgen\\nMarch  Netgen\\nApril  Netgen\\nMay  \\\n",
       "Plant Id                                                                \n",
       "3               693271.683     761560.442     481774.629   728885.760   \n",
       "7                11972.000      13250.000      16936.000    15347.000   \n",
       "9                 2461.985       2645.439       2383.666     3242.429   \n",
       "10               54132.000      68083.000     108058.000   181918.000   \n",
       "26               36582.859     213648.380     241312.420   391133.420   \n",
       "\n",
       "          Netgen\\nJune  Netgen\\nJuly  Netgen\\nAugust  Netgen\\nSeptember  \\\n",
       "Plant Id                                                                  \n",
       "3           735245.099    750253.763      776810.059         770841.575   \n",
       "7            10074.000     15321.000       15126.000          14625.000   \n",
       "9             3740.568      4304.225        4633.971           4005.006   \n",
       "10          190911.000    238731.000      230341.000         210875.000   \n",
       "26          366001.630    411000.610      425005.750         367345.430   \n",
       "\n",
       "          Netgen\\nOctober  Netgen\\nNovember  Netgen\\nDecember  \\\n",
       "Plant Id                                                        \n",
       "3              738677.970        740281.661        388347.033   \n",
       "7               15199.000         14264.000         14732.000   \n",
       "9                3105.509          2816.874          3131.889   \n",
       "10             190151.959        111457.927        125533.000   \n",
       "26             326445.460         48189.677         17222.000   \n",
       "\n",
       "          Net Generation\\n(Megawatthours)  \n",
       "Plant Id                                   \n",
       "3                             8295902.810  \n",
       "7                              169977.000  \n",
       "9                               39534.000  \n",
       "10                            1767784.886  \n",
       "26                            2900181.800  "
      ]
     },
     "execution_count": 45,
     "metadata": {},
     "output_type": "execute_result"
    }
   ],
   "source": [
    "gas_plants_prod.head()"
   ]
  },
  {
   "cell_type": "code",
   "execution_count": 46,
   "metadata": {},
   "outputs": [
    {
     "data": {
      "text/plain": [
       "459"
      ]
     },
     "execution_count": 46,
     "metadata": {},
     "output_type": "execute_result"
    }
   ],
   "source": [
    "len(combined_plant_codes)"
   ]
  },
  {
   "cell_type": "code",
   "execution_count": 47,
   "metadata": {},
   "outputs": [
    {
     "data": {
      "text/plain": [
       "(457, 30)"
      ]
     },
     "execution_count": 47,
     "metadata": {},
     "output_type": "execute_result"
    }
   ],
   "source": [
    "combined_performance = pd.merge(combined, gas_plants_prod, how='inner', left_index=True, right_index=True)\n",
    "combined_performance.shape"
   ]
  },
  {
   "cell_type": "code",
   "execution_count": 48,
   "metadata": {},
   "outputs": [
    {
     "data": {
      "text/html": [
       "<div>\n",
       "<style scoped>\n",
       "    .dataframe tbody tr th:only-of-type {\n",
       "        vertical-align: middle;\n",
       "    }\n",
       "\n",
       "    .dataframe tbody tr th {\n",
       "        vertical-align: top;\n",
       "    }\n",
       "\n",
       "    .dataframe thead th {\n",
       "        text-align: right;\n",
       "    }\n",
       "</style>\n",
       "<table border=\"1\" class=\"dataframe\">\n",
       "  <thead>\n",
       "    <tr style=\"text-align: right;\">\n",
       "      <th></th>\n",
       "      <th>Plant Name_x</th>\n",
       "      <th>State</th>\n",
       "      <th>total units</th>\n",
       "      <th>Combined Cycle Units</th>\n",
       "      <th>Gas Turbine Units</th>\n",
       "      <th>Gas Engine Units</th>\n",
       "      <th>Gas Steam Turbine Units</th>\n",
       "      <th>Combined Cycle MW</th>\n",
       "      <th>Gas Turbine MW</th>\n",
       "      <th>Gas Engine MW</th>\n",
       "      <th>...</th>\n",
       "      <th>Netgen\\nApril</th>\n",
       "      <th>Netgen\\nMay</th>\n",
       "      <th>Netgen\\nJune</th>\n",
       "      <th>Netgen\\nJuly</th>\n",
       "      <th>Netgen\\nAugust</th>\n",
       "      <th>Netgen\\nSeptember</th>\n",
       "      <th>Netgen\\nOctober</th>\n",
       "      <th>Netgen\\nNovember</th>\n",
       "      <th>Netgen\\nDecember</th>\n",
       "      <th>Net Generation\\n(Megawatthours)</th>\n",
       "    </tr>\n",
       "  </thead>\n",
       "  <tbody>\n",
       "    <tr>\n",
       "      <th>201</th>\n",
       "      <td>Thomas Fitzhugh</td>\n",
       "      <td>AR</td>\n",
       "      <td>2</td>\n",
       "      <td>2</td>\n",
       "      <td>0</td>\n",
       "      <td>0</td>\n",
       "      <td>0</td>\n",
       "      <td>185.0</td>\n",
       "      <td>0.0</td>\n",
       "      <td>0.0</td>\n",
       "      <td>...</td>\n",
       "      <td>4811.000</td>\n",
       "      <td>40419.000</td>\n",
       "      <td>30948.000</td>\n",
       "      <td>27776.000</td>\n",
       "      <td>34597.000</td>\n",
       "      <td>27807.000</td>\n",
       "      <td>6333.000</td>\n",
       "      <td>38720.000</td>\n",
       "      <td>15564.000</td>\n",
       "      <td>254918.00</td>\n",
       "    </tr>\n",
       "    <tr>\n",
       "      <th>260</th>\n",
       "      <td>Dynegy Moss Landing Power Plant</td>\n",
       "      <td>CA</td>\n",
       "      <td>6</td>\n",
       "      <td>6</td>\n",
       "      <td>0</td>\n",
       "      <td>0</td>\n",
       "      <td>0</td>\n",
       "      <td>1398.0</td>\n",
       "      <td>0.0</td>\n",
       "      <td>0.0</td>\n",
       "      <td>...</td>\n",
       "      <td>283181.000</td>\n",
       "      <td>127686.000</td>\n",
       "      <td>223912.000</td>\n",
       "      <td>409045.000</td>\n",
       "      <td>452957.000</td>\n",
       "      <td>457790.000</td>\n",
       "      <td>483376.000</td>\n",
       "      <td>568451.000</td>\n",
       "      <td>602213.000</td>\n",
       "      <td>5220833.00</td>\n",
       "    </tr>\n",
       "    <tr>\n",
       "      <th>358</th>\n",
       "      <td>Mountainview Generating Station</td>\n",
       "      <td>CA</td>\n",
       "      <td>6</td>\n",
       "      <td>6</td>\n",
       "      <td>0</td>\n",
       "      <td>0</td>\n",
       "      <td>0</td>\n",
       "      <td>1036.8</td>\n",
       "      <td>0.0</td>\n",
       "      <td>0.0</td>\n",
       "      <td>...</td>\n",
       "      <td>130650.270</td>\n",
       "      <td>41767.230</td>\n",
       "      <td>67181.230</td>\n",
       "      <td>308599.680</td>\n",
       "      <td>461060.400</td>\n",
       "      <td>323613.340</td>\n",
       "      <td>277753.680</td>\n",
       "      <td>530141.860</td>\n",
       "      <td>282662.850</td>\n",
       "      <td>3040688.10</td>\n",
       "    </tr>\n",
       "    <tr>\n",
       "      <th>533</th>\n",
       "      <td>McWilliams</td>\n",
       "      <td>AL</td>\n",
       "      <td>7</td>\n",
       "      <td>7</td>\n",
       "      <td>0</td>\n",
       "      <td>0</td>\n",
       "      <td>0</td>\n",
       "      <td>654.0</td>\n",
       "      <td>0.0</td>\n",
       "      <td>0.0</td>\n",
       "      <td>...</td>\n",
       "      <td>153068.000</td>\n",
       "      <td>369445.500</td>\n",
       "      <td>356380.000</td>\n",
       "      <td>382497.000</td>\n",
       "      <td>386356.000</td>\n",
       "      <td>357004.000</td>\n",
       "      <td>126387.000</td>\n",
       "      <td>77102.000</td>\n",
       "      <td>361027.000</td>\n",
       "      <td>3559636.20</td>\n",
       "    </tr>\n",
       "    <tr>\n",
       "      <th>564</th>\n",
       "      <td>Stanton Energy Center</td>\n",
       "      <td>FL</td>\n",
       "      <td>2</td>\n",
       "      <td>2</td>\n",
       "      <td>0</td>\n",
       "      <td>0</td>\n",
       "      <td>0</td>\n",
       "      <td>333.0</td>\n",
       "      <td>0.0</td>\n",
       "      <td>0.0</td>\n",
       "      <td>...</td>\n",
       "      <td>105961.759</td>\n",
       "      <td>139796.166</td>\n",
       "      <td>176285.744</td>\n",
       "      <td>116499.683</td>\n",
       "      <td>197355.532</td>\n",
       "      <td>171279.849</td>\n",
       "      <td>136486.695</td>\n",
       "      <td>173800.878</td>\n",
       "      <td>226295.804</td>\n",
       "      <td>1894698.03</td>\n",
       "    </tr>\n",
       "  </tbody>\n",
       "</table>\n",
       "<p>5 rows × 30 columns</p>\n",
       "</div>"
      ],
      "text/plain": [
       "                        Plant Name_x State  total units  Combined Cycle Units  \\\n",
       "201                  Thomas Fitzhugh    AR            2                     2   \n",
       "260  Dynegy Moss Landing Power Plant    CA            6                     6   \n",
       "358  Mountainview Generating Station    CA            6                     6   \n",
       "533                       McWilliams    AL            7                     7   \n",
       "564            Stanton Energy Center    FL            2                     2   \n",
       "\n",
       "     Gas Turbine Units  Gas Engine Units  Gas Steam Turbine Units  \\\n",
       "201                  0                 0                        0   \n",
       "260                  0                 0                        0   \n",
       "358                  0                 0                        0   \n",
       "533                  0                 0                        0   \n",
       "564                  0                 0                        0   \n",
       "\n",
       "     Combined Cycle MW  Gas Turbine MW  Gas Engine MW  ...  Netgen\\nApril  \\\n",
       "201              185.0             0.0            0.0  ...       4811.000   \n",
       "260             1398.0             0.0            0.0  ...     283181.000   \n",
       "358             1036.8             0.0            0.0  ...     130650.270   \n",
       "533              654.0             0.0            0.0  ...     153068.000   \n",
       "564              333.0             0.0            0.0  ...     105961.759   \n",
       "\n",
       "     Netgen\\nMay  Netgen\\nJune  Netgen\\nJuly Netgen\\nAugust Netgen\\nSeptember  \\\n",
       "201    40419.000     30948.000     27776.000      34597.000         27807.000   \n",
       "260   127686.000    223912.000    409045.000     452957.000        457790.000   \n",
       "358    41767.230     67181.230    308599.680     461060.400        323613.340   \n",
       "533   369445.500    356380.000    382497.000     386356.000        357004.000   \n",
       "564   139796.166    176285.744    116499.683     197355.532        171279.849   \n",
       "\n",
       "    Netgen\\nOctober  Netgen\\nNovember  Netgen\\nDecember  \\\n",
       "201        6333.000         38720.000         15564.000   \n",
       "260      483376.000        568451.000        602213.000   \n",
       "358      277753.680        530141.860        282662.850   \n",
       "533      126387.000         77102.000        361027.000   \n",
       "564      136486.695        173800.878        226295.804   \n",
       "\n",
       "     Net Generation\\n(Megawatthours)  \n",
       "201                        254918.00  \n",
       "260                       5220833.00  \n",
       "358                       3040688.10  \n",
       "533                       3559636.20  \n",
       "564                       1894698.03  \n",
       "\n",
       "[5 rows x 30 columns]"
      ]
     },
     "execution_count": 48,
     "metadata": {},
     "output_type": "execute_result"
    }
   ],
   "source": [
    "combined_performance.head()"
   ]
  },
  {
   "cell_type": "code",
   "execution_count": 49,
   "metadata": {},
   "outputs": [],
   "source": [
    "days = [31,28,31,30,31,30,31,31,30,31,30,31]\n",
    "month_cf = ['Jan_cf', 'Feb_cf', 'Mar_cf','Apr_cf','May_cf','Jun_cf','Jul_cf','Aug_cf','Sep_cf','Oct_cf','Nov_cf','Dec_cf']"
   ]
  },
  {
   "cell_type": "code",
   "execution_count": 50,
   "metadata": {},
   "outputs": [],
   "source": [
    "monthly_gen = ['Netgen\\nJanuary','Netgen\\nFebruary','Netgen\\nMarch','Netgen\\nApril','Netgen\\nMay','Netgen\\nJune',\\\n",
    " 'Netgen\\nJuly','Netgen\\nAugust','Netgen\\nSeptember','Netgen\\nOctober','Netgen\\nNovember','Netgen\\nDecember']"
   ]
  },
  {
   "cell_type": "code",
   "execution_count": 51,
   "metadata": {},
   "outputs": [],
   "source": [
    "combined_performance['cap_factor'] = combined_performance['Net Generation\\n(Megawatthours)']/(365*24*combined_performance['Nameplate Capacity (MW)'])\n",
    "for i in range(0,12):\n",
    "    combined_performance[month_cf[i]] = combined_performance[monthly_gen[i]]/(days[i]*24*combined_performance['Nameplate Capacity (MW)'])"
   ]
  },
  {
   "cell_type": "code",
   "execution_count": 52,
   "metadata": {},
   "outputs": [
    {
     "data": {
      "text/html": [
       "<div>\n",
       "<style scoped>\n",
       "    .dataframe tbody tr th:only-of-type {\n",
       "        vertical-align: middle;\n",
       "    }\n",
       "\n",
       "    .dataframe tbody tr th {\n",
       "        vertical-align: top;\n",
       "    }\n",
       "\n",
       "    .dataframe thead th {\n",
       "        text-align: right;\n",
       "    }\n",
       "</style>\n",
       "<table border=\"1\" class=\"dataframe\">\n",
       "  <thead>\n",
       "    <tr style=\"text-align: right;\">\n",
       "      <th></th>\n",
       "      <th>Plant Name_x</th>\n",
       "      <th>State</th>\n",
       "      <th>total units</th>\n",
       "      <th>Combined Cycle Units</th>\n",
       "      <th>Gas Turbine Units</th>\n",
       "      <th>Gas Engine Units</th>\n",
       "      <th>Gas Steam Turbine Units</th>\n",
       "      <th>Combined Cycle MW</th>\n",
       "      <th>Gas Turbine MW</th>\n",
       "      <th>Gas Engine MW</th>\n",
       "      <th>...</th>\n",
       "      <th>Mar_cf</th>\n",
       "      <th>Apr_cf</th>\n",
       "      <th>May_cf</th>\n",
       "      <th>Jun_cf</th>\n",
       "      <th>Jul_cf</th>\n",
       "      <th>Aug_cf</th>\n",
       "      <th>Sep_cf</th>\n",
       "      <th>Oct_cf</th>\n",
       "      <th>Nov_cf</th>\n",
       "      <th>Dec_cf</th>\n",
       "    </tr>\n",
       "  </thead>\n",
       "  <tbody>\n",
       "    <tr>\n",
       "      <th>201</th>\n",
       "      <td>Thomas Fitzhugh</td>\n",
       "      <td>AR</td>\n",
       "      <td>2</td>\n",
       "      <td>2</td>\n",
       "      <td>0</td>\n",
       "      <td>0</td>\n",
       "      <td>0</td>\n",
       "      <td>185.0</td>\n",
       "      <td>0.0</td>\n",
       "      <td>0.0</td>\n",
       "      <td>...</td>\n",
       "      <td>0.000000</td>\n",
       "      <td>0.036119</td>\n",
       "      <td>0.293657</td>\n",
       "      <td>0.232342</td>\n",
       "      <td>0.201802</td>\n",
       "      <td>0.251359</td>\n",
       "      <td>0.208761</td>\n",
       "      <td>0.046011</td>\n",
       "      <td>0.290691</td>\n",
       "      <td>0.113078</td>\n",
       "    </tr>\n",
       "    <tr>\n",
       "      <th>260</th>\n",
       "      <td>Dynegy Moss Landing Power Plant</td>\n",
       "      <td>CA</td>\n",
       "      <td>6</td>\n",
       "      <td>6</td>\n",
       "      <td>0</td>\n",
       "      <td>0</td>\n",
       "      <td>0</td>\n",
       "      <td>1398.0</td>\n",
       "      <td>0.0</td>\n",
       "      <td>0.0</td>\n",
       "      <td>...</td>\n",
       "      <td>0.458605</td>\n",
       "      <td>0.281335</td>\n",
       "      <td>0.122762</td>\n",
       "      <td>0.222453</td>\n",
       "      <td>0.393270</td>\n",
       "      <td>0.435489</td>\n",
       "      <td>0.454806</td>\n",
       "      <td>0.464735</td>\n",
       "      <td>0.564746</td>\n",
       "      <td>0.578989</td>\n",
       "    </tr>\n",
       "    <tr>\n",
       "      <th>358</th>\n",
       "      <td>Mountainview Generating Station</td>\n",
       "      <td>CA</td>\n",
       "      <td>6</td>\n",
       "      <td>6</td>\n",
       "      <td>0</td>\n",
       "      <td>0</td>\n",
       "      <td>0</td>\n",
       "      <td>1036.8</td>\n",
       "      <td>0.0</td>\n",
       "      <td>0.0</td>\n",
       "      <td>...</td>\n",
       "      <td>0.244141</td>\n",
       "      <td>0.175018</td>\n",
       "      <td>0.054146</td>\n",
       "      <td>0.089995</td>\n",
       "      <td>0.400062</td>\n",
       "      <td>0.597709</td>\n",
       "      <td>0.433510</td>\n",
       "      <td>0.360074</td>\n",
       "      <td>0.710174</td>\n",
       "      <td>0.366438</td>\n",
       "    </tr>\n",
       "    <tr>\n",
       "      <th>533</th>\n",
       "      <td>McWilliams</td>\n",
       "      <td>AL</td>\n",
       "      <td>7</td>\n",
       "      <td>7</td>\n",
       "      <td>0</td>\n",
       "      <td>0</td>\n",
       "      <td>0</td>\n",
       "      <td>654.0</td>\n",
       "      <td>0.0</td>\n",
       "      <td>0.0</td>\n",
       "      <td>...</td>\n",
       "      <td>0.724527</td>\n",
       "      <td>0.325068</td>\n",
       "      <td>0.759276</td>\n",
       "      <td>0.756838</td>\n",
       "      <td>0.786099</td>\n",
       "      <td>0.794030</td>\n",
       "      <td>0.758163</td>\n",
       "      <td>0.259748</td>\n",
       "      <td>0.163740</td>\n",
       "      <td>0.741975</td>\n",
       "    </tr>\n",
       "    <tr>\n",
       "      <th>564</th>\n",
       "      <td>Stanton Energy Center</td>\n",
       "      <td>FL</td>\n",
       "      <td>2</td>\n",
       "      <td>2</td>\n",
       "      <td>0</td>\n",
       "      <td>0</td>\n",
       "      <td>0</td>\n",
       "      <td>333.0</td>\n",
       "      <td>0.0</td>\n",
       "      <td>0.0</td>\n",
       "      <td>...</td>\n",
       "      <td>0.637843</td>\n",
       "      <td>0.441949</td>\n",
       "      <td>0.564258</td>\n",
       "      <td>0.735259</td>\n",
       "      <td>0.470227</td>\n",
       "      <td>0.796585</td>\n",
       "      <td>0.714380</td>\n",
       "      <td>0.550900</td>\n",
       "      <td>0.724895</td>\n",
       "      <td>0.913396</td>\n",
       "    </tr>\n",
       "  </tbody>\n",
       "</table>\n",
       "<p>5 rows × 43 columns</p>\n",
       "</div>"
      ],
      "text/plain": [
       "                        Plant Name_x State  total units  Combined Cycle Units  \\\n",
       "201                  Thomas Fitzhugh    AR            2                     2   \n",
       "260  Dynegy Moss Landing Power Plant    CA            6                     6   \n",
       "358  Mountainview Generating Station    CA            6                     6   \n",
       "533                       McWilliams    AL            7                     7   \n",
       "564            Stanton Energy Center    FL            2                     2   \n",
       "\n",
       "     Gas Turbine Units  Gas Engine Units  Gas Steam Turbine Units  \\\n",
       "201                  0                 0                        0   \n",
       "260                  0                 0                        0   \n",
       "358                  0                 0                        0   \n",
       "533                  0                 0                        0   \n",
       "564                  0                 0                        0   \n",
       "\n",
       "     Combined Cycle MW  Gas Turbine MW  Gas Engine MW  ...    Mar_cf  \\\n",
       "201              185.0             0.0            0.0  ...  0.000000   \n",
       "260             1398.0             0.0            0.0  ...  0.458605   \n",
       "358             1036.8             0.0            0.0  ...  0.244141   \n",
       "533              654.0             0.0            0.0  ...  0.724527   \n",
       "564              333.0             0.0            0.0  ...  0.637843   \n",
       "\n",
       "       Apr_cf    May_cf    Jun_cf    Jul_cf    Aug_cf    Sep_cf    Oct_cf  \\\n",
       "201  0.036119  0.293657  0.232342  0.201802  0.251359  0.208761  0.046011   \n",
       "260  0.281335  0.122762  0.222453  0.393270  0.435489  0.454806  0.464735   \n",
       "358  0.175018  0.054146  0.089995  0.400062  0.597709  0.433510  0.360074   \n",
       "533  0.325068  0.759276  0.756838  0.786099  0.794030  0.758163  0.259748   \n",
       "564  0.441949  0.564258  0.735259  0.470227  0.796585  0.714380  0.550900   \n",
       "\n",
       "       Nov_cf    Dec_cf  \n",
       "201  0.290691  0.113078  \n",
       "260  0.564746  0.578989  \n",
       "358  0.710174  0.366438  \n",
       "533  0.163740  0.741975  \n",
       "564  0.724895  0.913396  \n",
       "\n",
       "[5 rows x 43 columns]"
      ]
     },
     "execution_count": 52,
     "metadata": {},
     "output_type": "execute_result"
    }
   ],
   "source": [
    "combined_performance.head()"
   ]
  },
  {
   "cell_type": "code",
   "execution_count": 53,
   "metadata": {},
   "outputs": [
    {
     "data": {
      "text/plain": [
       "0.5019719440052028"
      ]
     },
     "execution_count": 53,
     "metadata": {},
     "output_type": "execute_result"
    }
   ],
   "source": [
    "combined_performance['Net Generation\\n(Megawatthours)'].sum()/(24*365*combined_performance['Nameplate Capacity (MW)'].sum())"
   ]
  },
  {
   "cell_type": "markdown",
   "metadata": {},
   "source": [
    "The aggregatie capacity factor for the combined cycle stations is 50%, however the average of the capacity factor of the individual stations is lower (45%).  This indicates that the larger capacity stations will tend to operate closer to full capacity."
   ]
  },
  {
   "cell_type": "code",
   "execution_count": 54,
   "metadata": {},
   "outputs": [
    {
     "data": {
      "text/plain": [
       "count    457.000000\n",
       "mean       0.446169\n",
       "std        0.245854\n",
       "min       -0.000548\n",
       "25%        0.272312\n",
       "50%        0.477634\n",
       "75%        0.631451\n",
       "max        1.129906\n",
       "Name: cap_factor, dtype: float64"
      ]
     },
     "execution_count": 54,
     "metadata": {},
     "output_type": "execute_result"
    }
   ],
   "source": [
    "combined_performance['cap_factor'].describe()"
   ]
  },
  {
   "cell_type": "markdown",
   "metadata": {},
   "source": [
    "We see a seasonal variation, with the highest capacity factors in the summer.  This is expected, U.S. electricity demand is seasonal, with highest demand driven by air conditioning needs in summer."
   ]
  },
  {
   "cell_type": "code",
   "execution_count": 55,
   "metadata": {},
   "outputs": [
    {
     "name": "stdout",
     "output_type": "stream",
     "text": [
      "Jan_cf: 0.46359895135163887\n",
      "Feb_cf: 0.47759101660310604\n",
      "Mar_cf: 0.4406649389581867\n",
      "Apr_cf: 0.395127378810252\n",
      "May_cf: 0.429820458879262\n",
      "Jun_cf: 0.5318834464861236\n",
      "Jul_cf: 0.6278808409852799\n",
      "Aug_cf: 0.6343685893891616\n",
      "Sep_cf: 0.5689169927489675\n",
      "Oct_cf: 0.4800197614389701\n",
      "Nov_cf: 0.4593485470304539\n",
      "Dec_cf: 0.5103858187231918\n"
     ]
    }
   ],
   "source": [
    "for i in range(0,12):\n",
    "    print(month_cf[i] + \": \" +str(combined_performance[monthly_gen[i]].sum()/(24*days[i]*combined_performance['Nameplate Capacity (MW)'].sum())))"
   ]
  },
  {
   "cell_type": "code",
   "execution_count": 56,
   "metadata": {},
   "outputs": [
    {
     "data": {
      "text/plain": [
       "(709, 30)"
      ]
     },
     "execution_count": 56,
     "metadata": {},
     "output_type": "execute_result"
    }
   ],
   "source": [
    "turbine_performance = pd.merge(gas_turbine, gas_plants_prod, how='inner', left_index=True, right_index=True)\n",
    "turbine_performance.shape"
   ]
  },
  {
   "cell_type": "code",
   "execution_count": 57,
   "metadata": {},
   "outputs": [],
   "source": [
    "turbine_performance['cap_factor'] = turbine_performance['Net Generation\\n(Megawatthours)']/(365*24*turbine_performance['Nameplate Capacity (MW)'])\n",
    "for i in range(0,12):\n",
    "    turbine_performance[month_cf[i]] = turbine_performance[monthly_gen[i]]/(days[i]*24*turbine_performance['Nameplate Capacity (MW)'])"
   ]
  },
  {
   "cell_type": "code",
   "execution_count": 58,
   "metadata": {},
   "outputs": [
    {
     "data": {
      "text/plain": [
       "0.08969324144110016"
      ]
     },
     "execution_count": 58,
     "metadata": {},
     "output_type": "execute_result"
    }
   ],
   "source": [
    "turbine_performance['Net Generation\\n(Megawatthours)'].sum()/(24*365*turbine_performance['Nameplate Capacity (MW)'].sum())"
   ]
  },
  {
   "cell_type": "code",
   "execution_count": 59,
   "metadata": {},
   "outputs": [
    {
     "data": {
      "text/plain": [
       "count    709.000000\n",
       "mean       0.218220\n",
       "std        0.346864\n",
       "min       -0.002418\n",
       "25%        0.008955\n",
       "50%        0.050739\n",
       "75%        0.366813\n",
       "max        5.023055\n",
       "Name: cap_factor, dtype: float64"
      ]
     },
     "execution_count": 59,
     "metadata": {},
     "output_type": "execute_result"
    }
   ],
   "source": [
    "turbine_performance['cap_factor'].describe()"
   ]
  },
  {
   "cell_type": "markdown",
   "metadata": {},
   "source": [
    "Gas turbine plants operate at a much lower capacity factor than combined cycle plants."
   ]
  },
  {
   "cell_type": "code",
   "execution_count": 60,
   "metadata": {},
   "outputs": [
    {
     "name": "stdout",
     "output_type": "stream",
     "text": [
      "Jan_cf: 0.07724097576374325\n",
      "Feb_cf: 0.07849148507718132\n",
      "Mar_cf: 0.07403178165681859\n",
      "Apr_cf: 0.07685334439544403\n",
      "May_cf: 0.08055482531793173\n",
      "Jun_cf: 0.08705675295511314\n",
      "Jul_cf: 0.1158227030826623\n",
      "Aug_cf: 0.11756466252779899\n",
      "Sep_cf: 0.10438594750002185\n",
      "Oct_cf: 0.09455975947422539\n",
      "Nov_cf: 0.0860323362172491\n",
      "Dec_cf: 0.08249690789062371\n"
     ]
    }
   ],
   "source": [
    "for i in range(0,12):\n",
    "    print(month_cf[i] + \": \" +str(turbine_performance[monthly_gen[i]].sum()/(24*days[i]*turbine_performance['Nameplate Capacity (MW)'].sum())))"
   ]
  },
  {
   "cell_type": "code",
   "execution_count": 61,
   "metadata": {},
   "outputs": [
    {
     "data": {
      "text/plain": [
       "(91, 30)"
      ]
     },
     "execution_count": 61,
     "metadata": {},
     "output_type": "execute_result"
    }
   ],
   "source": [
    "mixed_performance = pd.merge(mixed_gas, gas_plants_prod, how='inner', left_index=True, right_index=True)\n",
    "mixed_performance.shape"
   ]
  },
  {
   "cell_type": "code",
   "execution_count": 62,
   "metadata": {},
   "outputs": [],
   "source": [
    "mixed_performance['cap_factor'] = mixed_performance['Net Generation\\n(Megawatthours)']/(365*24*mixed_performance['Nameplate Capacity (MW)'])\n",
    "for i in range(0,12):\n",
    "    mixed_performance[month_cf[i]] = mixed_performance[monthly_gen[i]]/(days[i]*24*mixed_performance['Nameplate Capacity (MW)'])"
   ]
  },
  {
   "cell_type": "code",
   "execution_count": 63,
   "metadata": {},
   "outputs": [
    {
     "data": {
      "text/plain": [
       "0.34428536053792114"
      ]
     },
     "execution_count": 63,
     "metadata": {},
     "output_type": "execute_result"
    }
   ],
   "source": [
    "mixed_performance['Net Generation\\n(Megawatthours)'].sum()/(24*365*mixed_performance['Nameplate Capacity (MW)'].sum())"
   ]
  },
  {
   "cell_type": "code",
   "execution_count": 64,
   "metadata": {},
   "outputs": [
    {
     "data": {
      "text/plain": [
       "count    91.000000\n",
       "mean      0.290978\n",
       "std       0.197731\n",
       "min       0.003567\n",
       "25%       0.112526\n",
       "50%       0.269357\n",
       "75%       0.456291\n",
       "max       0.764341\n",
       "Name: cap_factor, dtype: float64"
      ]
     },
     "execution_count": 64,
     "metadata": {},
     "output_type": "execute_result"
    }
   ],
   "source": [
    "mixed_performance['cap_factor'].describe()"
   ]
  },
  {
   "cell_type": "code",
   "execution_count": 65,
   "metadata": {},
   "outputs": [
    {
     "name": "stdout",
     "output_type": "stream",
     "text": [
      "Jan_cf: 0.33271064854751287\n",
      "Feb_cf: 0.3198083531266925\n",
      "Mar_cf: 0.282858026991341\n",
      "Apr_cf: 0.283181888259224\n",
      "May_cf: 0.3038287884904574\n",
      "Jun_cf: 0.3622823772936577\n",
      "Jul_cf: 0.43180688678563217\n",
      "Aug_cf: 0.4519560565130864\n",
      "Sep_cf: 0.3940928216992114\n",
      "Oct_cf: 0.326592503350893\n",
      "Nov_cf: 0.3113065364655567\n",
      "Dec_cf: 0.3277830234353168\n"
     ]
    }
   ],
   "source": [
    "for i in range(0,12):\n",
    "    print(month_cf[i] + \": \" +str(mixed_performance[monthly_gen[i]].sum()/(24*days[i]*mixed_performance['Nameplate Capacity (MW)'].sum())))"
   ]
  },
  {
   "cell_type": "markdown",
   "metadata": {},
   "source": [
    "Let's just consider the plants which produce the most power annually (regardless of type of plant)."
   ]
  },
  {
   "cell_type": "code",
   "execution_count": 66,
   "metadata": {},
   "outputs": [
    {
     "data": {
      "text/plain": [
       "(100, 16)"
      ]
     },
     "execution_count": 66,
     "metadata": {},
     "output_type": "execute_result"
    }
   ],
   "source": [
    "largest_prod_list = gas_plants_prod['Net Generation\\n(Megawatthours)'].nlargest(n=100).index.tolist()\n",
    "largest_prod = gas_plants_prod[gas_plants_prod.index.isin(largest_prod_list)]\n",
    "largest_prod.shape"
   ]
  },
  {
   "cell_type": "code",
   "execution_count": 67,
   "metadata": {},
   "outputs": [
    {
     "data": {
      "text/plain": [
       "(100, 30)"
      ]
     },
     "execution_count": 67,
     "metadata": {},
     "output_type": "execute_result"
    }
   ],
   "source": [
    "large_performance = pd.merge(gas_plants, largest_prod, how='inner', left_index=True, right_index=True)\n",
    "large_performance.shape"
   ]
  },
  {
   "cell_type": "code",
   "execution_count": 68,
   "metadata": {},
   "outputs": [
    {
     "data": {
      "text/plain": [
       "0.5911607002635183"
      ]
     },
     "execution_count": 68,
     "metadata": {},
     "output_type": "execute_result"
    }
   ],
   "source": [
    "large_performance['Net Generation\\n(Megawatthours)'].sum()/(24*365*large_performance['Nameplate Capacity (MW)'].sum())"
   ]
  },
  {
   "cell_type": "code",
   "execution_count": 69,
   "metadata": {},
   "outputs": [],
   "source": [
    "large_performance['cap_factor'] = large_performance['Net Generation\\n(Megawatthours)']/(365*24*large_performance['Nameplate Capacity (MW)'])\n",
    "for i in range(0,12):\n",
    "    large_performance[month_cf[i]] = large_performance[monthly_gen[i]]/(days[i]*24*large_performance['Nameplate Capacity (MW)'])"
   ]
  },
  {
   "cell_type": "markdown",
   "metadata": {},
   "source": [
    "In general, it looks like the highest producing plants have higher capacity factors than associated with any specific type of plant.  So size clearly matters here."
   ]
  },
  {
   "cell_type": "code",
   "execution_count": 70,
   "metadata": {},
   "outputs": [
    {
     "data": {
      "text/plain": [
       "count    100.000000\n",
       "mean       0.614095\n",
       "std        0.134134\n",
       "min        0.329626\n",
       "25%        0.520131\n",
       "50%        0.606801\n",
       "75%        0.713017\n",
       "max        0.962151\n",
       "Name: cap_factor, dtype: float64"
      ]
     },
     "execution_count": 70,
     "metadata": {},
     "output_type": "execute_result"
    }
   ],
   "source": [
    "large_performance['cap_factor'].describe()"
   ]
  },
  {
   "cell_type": "code",
   "execution_count": 71,
   "metadata": {},
   "outputs": [
    {
     "data": {
      "text/plain": [
       "count     100.000000\n",
       "mean     1334.171000\n",
       "std       551.112838\n",
       "min       644.000000\n",
       "25%       994.425000\n",
       "50%      1201.600000\n",
       "75%      1437.550000\n",
       "max      4263.000000\n",
       "Name: Nameplate Capacity (MW), dtype: float64"
      ]
     },
     "execution_count": 71,
     "metadata": {},
     "output_type": "execute_result"
    }
   ],
   "source": [
    "large_performance['Nameplate Capacity (MW)'].describe()"
   ]
  },
  {
   "cell_type": "code",
   "execution_count": 72,
   "metadata": {},
   "outputs": [
    {
     "name": "stdout",
     "output_type": "stream",
     "text": [
      "Jan_cf: 0.5568902645280038\n",
      "Feb_cf: 0.5825840672182523\n",
      "Mar_cf: 0.5355920164527603\n",
      "Apr_cf: 0.47770357259510043\n",
      "May_cf: 0.5562031717384037\n",
      "Jun_cf: 0.6458884643535199\n",
      "Jul_cf: 0.6952241327067721\n",
      "Aug_cf: 0.6999539146083891\n",
      "Sep_cf: 0.6498535322058916\n",
      "Oct_cf: 0.563753238318349\n",
      "Nov_cf: 0.5343809759851706\n",
      "Dec_cf: 0.593238274767587\n"
     ]
    }
   ],
   "source": [
    "for i in range(0,12):\n",
    "    print(month_cf[i] + \": \" +str(large_performance[monthly_gen[i]].sum()/(24*days[i]*large_performance['Nameplate Capacity (MW)'].sum())))"
   ]
  },
  {
   "cell_type": "code",
   "execution_count": 73,
   "metadata": {},
   "outputs": [
    {
     "data": {
      "image/png": "[encoded data removed]",
      "text/plain": [
       "<Figure size 720x432 with 1 Axes>"
      ]
     },
     "metadata": {
      "needs_background": "light"
     },
     "output_type": "display_data"
    }
   ],
   "source": [
    "bins = [0,.05,0.1,0.15,0.2,0.25,0.3,0.35,0.4,0.45,0.5,0.55,0.6,0.65,0.7,0.75,0.8,0.85,0.9,0.95,1.0]\n",
    "plt.figure(figsize=(10,6))\n",
    "plt.title(\"Capacity Factors for Natural Gas Power Stations\", fontsize=14)\n",
    "plt.hist(large_performance['cap_factor'], bins=bins,alpha=0.8, label = '100 highest production plants', color =\"magenta\")\n",
    "plt.hist(combined_performance['cap_factor'], bins=bins,alpha=0.5, label = 'Combined Cycle only plants', color = \"cyan\")\n",
    "#plt.hist(turbine_performance['cap_factor'], bins=bins,alpha=0.5, label = 'Gas turbine only')\n",
    "plt.xlabel(\"Capacity Factor\")\n",
    "plt.ylabel(\"Number of Stations\")\n",
    "plt.legend()\n",
    "plt.show()"
   ]
  },
  {
   "cell_type": "code",
   "execution_count": 74,
   "metadata": {},
   "outputs": [
    {
     "data": {
      "image/png": "[encoded data removed]",
      "text/plain": [
       "<Figure size 720x432 with 1 Axes>"
      ]
     },
     "metadata": {
      "needs_background": "light"
     },
     "output_type": "display_data"
    }
   ],
   "source": [
    "plt.figure(figsize=(10,6))\n",
    "plt.title(\"Capacity Factors for Natural Gas Turbine Power Stations\", fontsize=14)\n",
    "#plt.hist(large_performance['cap_factor'], bins=bins,alpha=0.7, label = '100 highest production plants')\n",
    "#plt.hist(combined_performance['cap_factor'], bins=bins,alpha=0.5, label = 'Combined Cycle only planta')\n",
    "plt.hist(turbine_performance['cap_factor'], bins=bins,alpha=0.5, label = 'Gas turbine only')\n",
    "plt.xlabel(\"Capacity Factor\")\n",
    "plt.ylabel(\"Number of Stations\")\n",
    "plt.legend()\n",
    "plt.show()"
   ]
  },
  {
   "cell_type": "code",
   "execution_count": 75,
   "metadata": {},
   "outputs": [
    {
     "data": {
      "image/png": "[encoded data removed]",
      "text/plain": [
       "<Figure size 720x432 with 1 Axes>"
      ]
     },
     "metadata": {
      "needs_background": "light"
     },
     "output_type": "display_data"
    }
   ],
   "source": [
    "plt.figure(figsize=(10,6))\n",
    "plt.ylim(0,1)\n",
    "plt.xlim(0,4500)\n",
    "plt.title(\"title\")\n",
    "plt.scatter(combined_performance['Nameplate Capacity (MW)'], combined_performance['cap_factor'],alpha=0.65, label =\"combined cycle\")\n",
    "plt.scatter(turbine_performance['Nameplate Capacity (MW)'], turbine_performance['cap_factor'],alpha=0.5,label=\"gas turbine\",marker=\"^\")\n",
    "#plt.scatter(mixed_performance['Nameplate Capacity (MW)'], mixed_performance['cap_factor'],alpha=0.6, marker=\"s\")\n",
    "plt.ylabel(\"Capacity Factor\")\n",
    "plt.xlabel(\"Station Nameplate Capacity (MW)\")\n",
    "plt.legend()\n",
    "plt.show()"
   ]
  },
  {
   "cell_type": "code",
   "execution_count": 76,
   "metadata": {},
   "outputs": [
    {
     "name": "stderr",
     "output_type": "stream",
     "text": [
      "No handles with labels found to put in legend.\n"
     ]
    },
    {
     "data": {
      "image/png": "[encoded data removed]",
      "text/plain": [
       "<Figure size 720x432 with 1 Axes>"
      ]
     },
     "metadata": {
      "needs_background": "light"
     },
     "output_type": "display_data"
    }
   ],
   "source": [
    "plt.figure(figsize=(10,6))\n",
    "plt.title(\"Capacity Factors for Mixed (CC/GT) Natural Gas Stations\")\n",
    "plt.ylim(0,1)\n",
    "plt.xlim(0,4500)\n",
    "plt.scatter(mixed_performance['Nameplate Capacity (MW)'], mixed_performance['cap_factor'],alpha=0.5)\n",
    "plt.legend()\n",
    "plt.show()"
   ]
  },
  {
   "cell_type": "code",
   "execution_count": 77,
   "metadata": {},
   "outputs": [
    {
     "data": {
      "image/png": "[encoded data removed]",
      "text/plain": [
       "<Figure size 720x432 with 1 Axes>"
      ]
     },
     "metadata": {
      "needs_background": "light"
     },
     "output_type": "display_data"
    }
   ],
   "source": [
    "plt.figure(figsize=(10,6))\n",
    "plt.ylim(0,1)\n",
    "plt.xlim(0,4500)\n",
    "#plt.scatter(combined_performance['Nameplate Capacity (MW)'], combined_performance['cap_factor'])\n",
    "plt.scatter(large_performance['Nameplate Capacity (MW)'], large_performance['cap_factor'],alpha=0.5)\n",
    "plt.show()"
   ]
  },
  {
   "cell_type": "code",
   "execution_count": 78,
   "metadata": {},
   "outputs": [
    {
     "data": {
      "image/png": "[encoded data removed]",
      "text/plain": [
       "<Figure size 720x432 with 1 Axes>"
      ]
     },
     "metadata": {
      "needs_background": "light"
     },
     "output_type": "display_data"
    }
   ],
   "source": [
    "\n",
    "plt.figure(figsize=(10,6))\n",
    "plt.hist(turbine_performance['cap_factor'], bins=bins,alpha=0.5, label = 'Gas turbine only')\n",
    "plt.legend()\n",
    "plt.show()"
   ]
  },
  {
   "cell_type": "code",
   "execution_count": 79,
   "metadata": {},
   "outputs": [
    {
     "data": {
      "image/png": "[encoded data removed]",
      "text/plain": [
       "<Figure size 720x432 with 1 Axes>"
      ]
     },
     "metadata": {
      "needs_background": "light"
     },
     "output_type": "display_data"
    }
   ],
   "source": [
    "plt.figure(figsize=(10,6))\n",
    "plt.ylim(0,1)\n",
    "plt.scatter(turbine_performance['Nameplate Capacity (MW)'], turbine_performance['cap_factor'])\n",
    "#plt.scatter(large_performance['Nameplate Capacity (MW)'], large_performance['cap_factor'],alpha=0.5)\n",
    "plt.show()"
   ]
  },
  {
   "cell_type": "code",
   "execution_count": 80,
   "metadata": {},
   "outputs": [
    {
     "data": {
      "text/plain": [
       "(96, 9)"
      ]
     },
     "execution_count": 80,
     "metadata": {},
     "output_type": "execute_result"
    }
   ],
   "source": [
    "nuclear_generators = generators_2019[generators_2019['Technology']=='Nuclear'].copy()\n",
    "nuclear_generators.shape"
   ]
  },
  {
   "cell_type": "markdown",
   "metadata": {},
   "source": [
    "There were 96 nuclear units which operated in 2019."
   ]
  },
  {
   "cell_type": "code",
   "execution_count": 81,
   "metadata": {},
   "outputs": [
    {
     "data": {
      "text/plain": [
       "array(['Browns Ferry', 'Clinton Power Station',\n",
       "       'Wolf Creek Generating Station', 'Columbia Generating Station',\n",
       "       'Millstone', 'Turkey Point', 'Vogtle',\n",
       "       'Dresden Generating Station', 'Quad Cities Generating Station',\n",
       "       'Duane Arnold Energy Center', 'Palisades', 'Fermi',\n",
       "       'Monticello Nuclear Facility', 'Prairie Island',\n",
       "       'PSEG Salem Generating Station', 'Indian Point 2',\n",
       "       'Nine Mile Point Nuclear Station', 'Peach Bottom', 'H B Robinson',\n",
       "       'Oconee', 'Surry', 'Point Beach Nuclear Plant', 'Waterford 3',\n",
       "       'Donald C Cook', 'Joseph M Farley', 'Palo Verde',\n",
       "       'Calvert Cliffs Nuclear Power Plant', 'Brunswick Nuclear',\n",
       "       'Harris', 'Perry', 'Braidwood Generation Station',\n",
       "       'Byron Generating Station', 'LaSalle Generating Station',\n",
       "       'Catawba', 'McGuire', 'Beaver Valley', 'St Lucie', 'Edwin I Hatch',\n",
       "       'Grand Gulf', 'Diablo Canyon', 'TalenEnergy Susquehanna',\n",
       "       'Limerick', 'James A Fitzpatrick', 'Seabrook',\n",
       "       'PSEG Hope Creek Generating Station',\n",
       "       'R E Ginna Nuclear Power Plant', 'V C Summer', 'Comanche Peak',\n",
       "       'Davis Besse', 'Sequoyah', 'Callaway', 'North Anna',\n",
       "       'South Texas Project', 'River Bend', 'Watts Bar Nuclear Plant',\n",
       "       'Cooper Nuclear Station', 'Arkansas Nuclear One', 'Indian Point 3'],\n",
       "      dtype=object)"
      ]
     },
     "execution_count": 81,
     "metadata": {},
     "output_type": "execute_result"
    }
   ],
   "source": [
    "nuclear_generators['Plant Name'].unique()"
   ]
  },
  {
   "cell_type": "markdown",
   "metadata": {},
   "source": [
    "Note that Indian Point is a single plant with two units (2 and 3), but each unit has a different plant name.  In order to properly extract the correct number of stations, the names will be corrected to \"Indian Point\"."
   ]
  },
  {
   "cell_type": "code",
   "execution_count": 82,
   "metadata": {},
   "outputs": [],
   "source": [
    "nuclear_generators['Plant Name'].replace(to_replace={'Indian Point 3':\"Indian Point\",'Indian Point 2':\"Indian Point\"},inplace=True)  "
   ]
  },
  {
   "cell_type": "code",
   "execution_count": 83,
   "metadata": {},
   "outputs": [
    {
     "data": {
      "text/plain": [
       "(57, 2)"
      ]
     },
     "execution_count": 83,
     "metadata": {},
     "output_type": "execute_result"
    }
   ],
   "source": [
    "nuclear_stations = nuclear_generators.groupby('Plant Name').agg({'State':\"last\", 'Nameplate Capacity (MW)':\"sum\"})\n",
    "nuclear_stations.shape"
   ]
  },
  {
   "cell_type": "markdown",
   "metadata": {},
   "source": [
    "There were a total of 57 operating nuclear power stations in 2019."
   ]
  },
  {
   "cell_type": "code",
   "execution_count": 84,
   "metadata": {},
   "outputs": [
    {
     "data": {
      "text/html": [
       "<div>\n",
       "<style scoped>\n",
       "    .dataframe tbody tr th:only-of-type {\n",
       "        vertical-align: middle;\n",
       "    }\n",
       "\n",
       "    .dataframe tbody tr th {\n",
       "        vertical-align: top;\n",
       "    }\n",
       "\n",
       "    .dataframe thead th {\n",
       "        text-align: right;\n",
       "    }\n",
       "</style>\n",
       "<table border=\"1\" class=\"dataframe\">\n",
       "  <thead>\n",
       "    <tr style=\"text-align: right;\">\n",
       "      <th></th>\n",
       "      <th>State</th>\n",
       "      <th>Nameplate Capacity (MW)</th>\n",
       "    </tr>\n",
       "    <tr>\n",
       "      <th>Plant Name</th>\n",
       "      <th></th>\n",
       "      <th></th>\n",
       "    </tr>\n",
       "  </thead>\n",
       "  <tbody>\n",
       "    <tr>\n",
       "      <th>Arkansas Nuclear One</th>\n",
       "      <td>AR</td>\n",
       "      <td>1845.0</td>\n",
       "    </tr>\n",
       "    <tr>\n",
       "      <th>Beaver Valley</th>\n",
       "      <td>PA</td>\n",
       "      <td>1846.8</td>\n",
       "    </tr>\n",
       "    <tr>\n",
       "      <th>Braidwood Generation Station</th>\n",
       "      <td>IL</td>\n",
       "      <td>2449.8</td>\n",
       "    </tr>\n",
       "    <tr>\n",
       "      <th>Browns Ferry</th>\n",
       "      <td>AL</td>\n",
       "      <td>3494.0</td>\n",
       "    </tr>\n",
       "    <tr>\n",
       "      <th>Brunswick Nuclear</th>\n",
       "      <td>NC</td>\n",
       "      <td>2003.2</td>\n",
       "    </tr>\n",
       "  </tbody>\n",
       "</table>\n",
       "</div>"
      ],
      "text/plain": [
       "                             State  Nameplate Capacity (MW)\n",
       "Plant Name                                                 \n",
       "Arkansas Nuclear One            AR                   1845.0\n",
       "Beaver Valley                   PA                   1846.8\n",
       "Braidwood Generation Station    IL                   2449.8\n",
       "Browns Ferry                    AL                   3494.0\n",
       "Brunswick Nuclear               NC                   2003.2"
      ]
     },
     "execution_count": 84,
     "metadata": {},
     "output_type": "execute_result"
    }
   ],
   "source": [
    "nuclear_stations.head()"
   ]
  },
  {
   "cell_type": "code",
   "execution_count": 85,
   "metadata": {},
   "outputs": [
    {
     "data": {
      "text/html": [
       "<div>\n",
       "<style scoped>\n",
       "    .dataframe tbody tr th:only-of-type {\n",
       "        vertical-align: middle;\n",
       "    }\n",
       "\n",
       "    .dataframe tbody tr th {\n",
       "        vertical-align: top;\n",
       "    }\n",
       "\n",
       "    .dataframe thead th {\n",
       "        text-align: right;\n",
       "    }\n",
       "</style>\n",
       "<table border=\"1\" class=\"dataframe\">\n",
       "  <thead>\n",
       "    <tr style=\"text-align: right;\">\n",
       "      <th></th>\n",
       "      <th>Plant Id</th>\n",
       "      <th>Plant Name</th>\n",
       "      <th>Plant State</th>\n",
       "      <th>Reported\\nFuel Type Code</th>\n",
       "      <th>AER\\nFuel Type Code</th>\n",
       "      <th>Netgen\\nJanuary</th>\n",
       "      <th>Netgen\\nFebruary</th>\n",
       "      <th>Netgen\\nMarch</th>\n",
       "      <th>Netgen\\nApril</th>\n",
       "      <th>Netgen\\nMay</th>\n",
       "      <th>Netgen\\nJune</th>\n",
       "      <th>Netgen\\nJuly</th>\n",
       "      <th>Netgen\\nAugust</th>\n",
       "      <th>Netgen\\nSeptember</th>\n",
       "      <th>Netgen\\nOctober</th>\n",
       "      <th>Netgen\\nNovember</th>\n",
       "      <th>Netgen\\nDecember</th>\n",
       "      <th>Net Generation\\n(Megawatthours)</th>\n",
       "      <th>YEAR</th>\n",
       "    </tr>\n",
       "  </thead>\n",
       "  <tbody>\n",
       "    <tr>\n",
       "      <th>0</th>\n",
       "      <td>1</td>\n",
       "      <td>Sand Point</td>\n",
       "      <td>AK</td>\n",
       "      <td>DFO</td>\n",
       "      <td>DFO</td>\n",
       "      <td>195.676</td>\n",
       "      <td>217.498</td>\n",
       "      <td>215.544</td>\n",
       "      <td>198.082</td>\n",
       "      <td>215.578</td>\n",
       "      <td>185.236</td>\n",
       "      <td>210.989</td>\n",
       "      <td>233.607</td>\n",
       "      <td>277.39</td>\n",
       "      <td>291.533</td>\n",
       "      <td>221.449</td>\n",
       "      <td>295.418</td>\n",
       "      <td>2758.0</td>\n",
       "      <td>2019</td>\n",
       "    </tr>\n",
       "    <tr>\n",
       "      <th>1</th>\n",
       "      <td>1</td>\n",
       "      <td>Sand Point</td>\n",
       "      <td>AK</td>\n",
       "      <td>WND</td>\n",
       "      <td>WND</td>\n",
       "      <td>88.072</td>\n",
       "      <td>80.613</td>\n",
       "      <td>90.25</td>\n",
       "      <td>100.908</td>\n",
       "      <td>89.021</td>\n",
       "      <td>76.538</td>\n",
       "      <td>75.28</td>\n",
       "      <td>68.051</td>\n",
       "      <td>83.408</td>\n",
       "      <td>94.562</td>\n",
       "      <td>85.813</td>\n",
       "      <td>89.484</td>\n",
       "      <td>1022.0</td>\n",
       "      <td>2019</td>\n",
       "    </tr>\n",
       "    <tr>\n",
       "      <th>2</th>\n",
       "      <td>2</td>\n",
       "      <td>Bankhead Dam</td>\n",
       "      <td>AL</td>\n",
       "      <td>WAT</td>\n",
       "      <td>HYC</td>\n",
       "      <td>-23.567</td>\n",
       "      <td>-22.044</td>\n",
       "      <td>-25.812</td>\n",
       "      <td>-26.452</td>\n",
       "      <td>-31.6</td>\n",
       "      <td>-27.586</td>\n",
       "      <td>-23.829</td>\n",
       "      <td>-22.872</td>\n",
       "      <td>-18.33</td>\n",
       "      <td>-18.28</td>\n",
       "      <td>-21.282</td>\n",
       "      <td>-22.346</td>\n",
       "      <td>-284.0</td>\n",
       "      <td>2019</td>\n",
       "    </tr>\n",
       "    <tr>\n",
       "      <th>3</th>\n",
       "      <td>3</td>\n",
       "      <td>Barry</td>\n",
       "      <td>AL</td>\n",
       "      <td>NG</td>\n",
       "      <td>NG</td>\n",
       "      <td>249734</td>\n",
       "      <td>239279</td>\n",
       "      <td>260061</td>\n",
       "      <td>166618</td>\n",
       "      <td>241896</td>\n",
       "      <td>252882</td>\n",
       "      <td>253399</td>\n",
       "      <td>267202</td>\n",
       "      <td>255971</td>\n",
       "      <td>255736</td>\n",
       "      <td>250232</td>\n",
       "      <td>131877</td>\n",
       "      <td>2824887.0</td>\n",
       "      <td>2019</td>\n",
       "    </tr>\n",
       "    <tr>\n",
       "      <th>4</th>\n",
       "      <td>3</td>\n",
       "      <td>Barry</td>\n",
       "      <td>AL</td>\n",
       "      <td>NG</td>\n",
       "      <td>NG</td>\n",
       "      <td>469654</td>\n",
       "      <td>449491</td>\n",
       "      <td>487355</td>\n",
       "      <td>313253</td>\n",
       "      <td>460403</td>\n",
       "      <td>475069</td>\n",
       "      <td>476259</td>\n",
       "      <td>500818</td>\n",
       "      <td>476004</td>\n",
       "      <td>472701</td>\n",
       "      <td>471065</td>\n",
       "      <td>254319</td>\n",
       "      <td>5306391.0</td>\n",
       "      <td>2019</td>\n",
       "    </tr>\n",
       "  </tbody>\n",
       "</table>\n",
       "</div>"
      ],
      "text/plain": [
       "   Plant Id    Plant Name Plant State Reported\\nFuel Type Code  \\\n",
       "0         1    Sand Point          AK                      DFO   \n",
       "1         1    Sand Point          AK                      WND   \n",
       "2         2  Bankhead Dam          AL                      WAT   \n",
       "3         3         Barry          AL                       NG   \n",
       "4         3         Barry          AL                       NG   \n",
       "\n",
       "  AER\\nFuel Type Code Netgen\\nJanuary Netgen\\nFebruary Netgen\\nMarch  \\\n",
       "0                 DFO         195.676          217.498       215.544   \n",
       "1                 WND          88.072           80.613         90.25   \n",
       "2                 HYC         -23.567          -22.044       -25.812   \n",
       "3                  NG          249734           239279        260061   \n",
       "4                  NG          469654           449491        487355   \n",
       "\n",
       "  Netgen\\nApril Netgen\\nMay Netgen\\nJune Netgen\\nJuly Netgen\\nAugust  \\\n",
       "0       198.082     215.578      185.236      210.989        233.607   \n",
       "1       100.908      89.021       76.538        75.28         68.051   \n",
       "2       -26.452       -31.6      -27.586      -23.829        -22.872   \n",
       "3        166618      241896       252882       253399         267202   \n",
       "4        313253      460403       475069       476259         500818   \n",
       "\n",
       "  Netgen\\nSeptember Netgen\\nOctober Netgen\\nNovember Netgen\\nDecember  \\\n",
       "0            277.39         291.533          221.449          295.418   \n",
       "1            83.408          94.562           85.813           89.484   \n",
       "2            -18.33          -18.28          -21.282          -22.346   \n",
       "3            255971          255736           250232           131877   \n",
       "4            476004          472701           471065           254319   \n",
       "\n",
       "   Net Generation\\n(Megawatthours)  YEAR  \n",
       "0                           2758.0  2019  \n",
       "1                           1022.0  2019  \n",
       "2                           -284.0  2019  \n",
       "3                        2824887.0  2019  \n",
       "4                        5306391.0  2019  "
      ]
     },
     "execution_count": 85,
     "metadata": {},
     "output_type": "execute_result"
    }
   ],
   "source": [
    "prod_2019.head()"
   ]
  },
  {
   "cell_type": "code",
   "execution_count": 86,
   "metadata": {},
   "outputs": [
    {
     "data": {
      "text/plain": [
       "(98, 19)"
      ]
     },
     "execution_count": 86,
     "metadata": {},
     "output_type": "execute_result"
    }
   ],
   "source": [
    "nuclear_prod_19 = prod_2019[prod_2019['AER\\nFuel Type Code']=='NUC'].copy()\n",
    "nuclear_prod_19.shape"
   ]
  },
  {
   "cell_type": "markdown",
   "metadata": {},
   "source": [
    "Based on production data, there were 98 nuclear units in 2019, this is two more than were indicated based on the list of\n",
    "generating facilities."
   ]
  },
  {
   "cell_type": "code",
   "execution_count": 87,
   "metadata": {},
   "outputs": [],
   "source": [
    "nuc_prod_plants_19 = nuclear_prod_19['Plant Name'].unique().tolist()"
   ]
  },
  {
   "cell_type": "code",
   "execution_count": 88,
   "metadata": {},
   "outputs": [],
   "source": [
    "nuc_generators_plants = nuclear_generators['Plant Name'].unique().tolist()"
   ]
  },
  {
   "cell_type": "code",
   "execution_count": 89,
   "metadata": {},
   "outputs": [
    {
     "data": {
      "text/plain": [
       "(array(['Indian Point'], dtype='<U34'),\n",
       " array(['Indian Point 2', 'Indian Point 3',\n",
       "        'Pilgrim Nuclear Power Station', 'Three Mile Island'], dtype='<U34'))"
      ]
     },
     "execution_count": 89,
     "metadata": {},
     "output_type": "execute_result"
    }
   ],
   "source": [
    "np.setdiff1d(nuc_generators_plants,nuc_prod_plants_19), np.setdiff1d(nuc_prod_plants_19,nuc_generators_plants)"
   ]
  },
  {
   "cell_type": "markdown",
   "metadata": {},
   "source": [
    "The Indian Point naming issue was previously identified, but Pilgrim and Three Mile Island were plants which shutdown during calendar year 2019.  However, they did produce power in 2019 (as evidenced by their presence in the production dataset) and for completeness should be included in the evaluation of capacity factor.  We will need to obtain plant capacity data from a CY2018 data source."
   ]
  },
  {
   "cell_type": "code",
   "execution_count": 90,
   "metadata": {},
   "outputs": [],
   "source": [
    "generator_input_2018 = pd.read_excel(\"3_1_Generator_Y2018.xlsx\", skiprows=1)"
   ]
  },
  {
   "cell_type": "code",
   "execution_count": 91,
   "metadata": {},
   "outputs": [],
   "source": [
    "generators_2018 = generator_input_2018.iloc[:,[2,3,4,6,7,8,15,25,26]].copy()"
   ]
  },
  {
   "cell_type": "code",
   "execution_count": 92,
   "metadata": {},
   "outputs": [
    {
     "data": {
      "text/html": [
       "<div>\n",
       "<style scoped>\n",
       "    .dataframe tbody tr th:only-of-type {\n",
       "        vertical-align: middle;\n",
       "    }\n",
       "\n",
       "    .dataframe tbody tr th {\n",
       "        vertical-align: top;\n",
       "    }\n",
       "\n",
       "    .dataframe thead th {\n",
       "        text-align: right;\n",
       "    }\n",
       "</style>\n",
       "<table border=\"1\" class=\"dataframe\">\n",
       "  <thead>\n",
       "    <tr style=\"text-align: right;\">\n",
       "      <th></th>\n",
       "      <th>Plant Code</th>\n",
       "      <th>Plant Name</th>\n",
       "      <th>State</th>\n",
       "      <th>Generator ID</th>\n",
       "      <th>Technology</th>\n",
       "      <th>Prime Mover</th>\n",
       "      <th>Nameplate Capacity (MW)</th>\n",
       "      <th>Operating Month</th>\n",
       "      <th>Operating Year</th>\n",
       "    </tr>\n",
       "  </thead>\n",
       "  <tbody>\n",
       "    <tr>\n",
       "      <th>0</th>\n",
       "      <td>2.0</td>\n",
       "      <td>Bankhead Dam</td>\n",
       "      <td>AL</td>\n",
       "      <td>1</td>\n",
       "      <td>Conventional Hydroelectric</td>\n",
       "      <td>HY</td>\n",
       "      <td>53.9</td>\n",
       "      <td>7.0</td>\n",
       "      <td>1963.0</td>\n",
       "    </tr>\n",
       "    <tr>\n",
       "      <th>1</th>\n",
       "      <td>3.0</td>\n",
       "      <td>Barry</td>\n",
       "      <td>AL</td>\n",
       "      <td>1</td>\n",
       "      <td>Natural Gas Steam Turbine</td>\n",
       "      <td>ST</td>\n",
       "      <td>153.1</td>\n",
       "      <td>2.0</td>\n",
       "      <td>1954.0</td>\n",
       "    </tr>\n",
       "    <tr>\n",
       "      <th>2</th>\n",
       "      <td>3.0</td>\n",
       "      <td>Barry</td>\n",
       "      <td>AL</td>\n",
       "      <td>2</td>\n",
       "      <td>Natural Gas Steam Turbine</td>\n",
       "      <td>ST</td>\n",
       "      <td>153.1</td>\n",
       "      <td>7.0</td>\n",
       "      <td>1954.0</td>\n",
       "    </tr>\n",
       "    <tr>\n",
       "      <th>3</th>\n",
       "      <td>3.0</td>\n",
       "      <td>Barry</td>\n",
       "      <td>AL</td>\n",
       "      <td>4</td>\n",
       "      <td>Conventional Steam Coal</td>\n",
       "      <td>ST</td>\n",
       "      <td>403.7</td>\n",
       "      <td>12.0</td>\n",
       "      <td>1969.0</td>\n",
       "    </tr>\n",
       "    <tr>\n",
       "      <th>4</th>\n",
       "      <td>3.0</td>\n",
       "      <td>Barry</td>\n",
       "      <td>AL</td>\n",
       "      <td>5</td>\n",
       "      <td>Conventional Steam Coal</td>\n",
       "      <td>ST</td>\n",
       "      <td>788.8</td>\n",
       "      <td>10.0</td>\n",
       "      <td>1971.0</td>\n",
       "    </tr>\n",
       "  </tbody>\n",
       "</table>\n",
       "</div>"
      ],
      "text/plain": [
       "   Plant Code    Plant Name State Generator ID                  Technology  \\\n",
       "0         2.0  Bankhead Dam    AL            1  Conventional Hydroelectric   \n",
       "1         3.0         Barry    AL            1   Natural Gas Steam Turbine   \n",
       "2         3.0         Barry    AL            2   Natural Gas Steam Turbine   \n",
       "3         3.0         Barry    AL            4     Conventional Steam Coal   \n",
       "4         3.0         Barry    AL            5     Conventional Steam Coal   \n",
       "\n",
       "  Prime Mover  Nameplate Capacity (MW)  Operating Month  Operating Year  \n",
       "0          HY                     53.9              7.0          1963.0  \n",
       "1          ST                    153.1              2.0          1954.0  \n",
       "2          ST                    153.1              7.0          1954.0  \n",
       "3          ST                    403.7             12.0          1969.0  \n",
       "4          ST                    788.8             10.0          1971.0  "
      ]
     },
     "execution_count": 92,
     "metadata": {},
     "output_type": "execute_result"
    }
   ],
   "source": [
    "generators_2018.head()"
   ]
  },
  {
   "cell_type": "code",
   "execution_count": 93,
   "metadata": {},
   "outputs": [
    {
     "data": {
      "text/plain": [
       "(98, 9)"
      ]
     },
     "execution_count": 93,
     "metadata": {},
     "output_type": "execute_result"
    }
   ],
   "source": [
    "nuclear_generators_2018 = generators_2018[generators_2018['Technology']=='Nuclear'].copy()\n",
    "nuclear_generators_2018.shape"
   ]
  },
  {
   "cell_type": "code",
   "execution_count": 94,
   "metadata": {},
   "outputs": [],
   "source": [
    "nuclear_generators_2018['Plant Name'].replace(to_replace={'Indian Point 3':\"Indian Point\",'Indian Point 2':\"Indian Point\"},inplace=True)  "
   ]
  },
  {
   "cell_type": "code",
   "execution_count": 95,
   "metadata": {},
   "outputs": [],
   "source": [
    "nuc_generators_plants_2018 = nuclear_generators_2018['Plant Name'].unique().tolist()"
   ]
  },
  {
   "cell_type": "code",
   "execution_count": 96,
   "metadata": {},
   "outputs": [
    {
     "data": {
      "text/plain": [
       "(array(['Indian Point'], dtype='<U34'),\n",
       " array(['Indian Point 2', 'Indian Point 3'], dtype='<U34'))"
      ]
     },
     "execution_count": 96,
     "metadata": {},
     "output_type": "execute_result"
    }
   ],
   "source": [
    "np.setdiff1d(nuc_generators_plants_2018,nuc_prod_plants_19), np.setdiff1d(nuc_prod_plants_19,nuc_generators_plants_2018)"
   ]
  },
  {
   "cell_type": "markdown",
   "metadata": {},
   "source": [
    "The 2018 list includes all of the plants which operated in 2019."
   ]
  },
  {
   "cell_type": "code",
   "execution_count": 97,
   "metadata": {},
   "outputs": [
    {
     "data": {
      "text/plain": [
       "(59, 2)"
      ]
     },
     "execution_count": 97,
     "metadata": {},
     "output_type": "execute_result"
    }
   ],
   "source": [
    "nuclear_stations = nuclear_generators_2018.groupby('Plant Name').agg({'Generator ID':\"count\", 'Nameplate Capacity (MW)':\"sum\"})\n",
    "nuclear_stations.shape"
   ]
  },
  {
   "cell_type": "markdown",
   "metadata": {},
   "source": [
    "So the most correct data for 2019 is that there were 98 units and 59 stations which operated during the year.  However, two\n",
    "stations, Pilgirm and TMW (each with one unit) were permanently inactivated during the year, so at the end of 2019 there were 96 operating units at 57 separate stations. This is an example of why data continuity checks are important and how subject matter knowledge (awareness of plant inactivations) may be necessary to ensure the most correct data is used."
   ]
  },
  {
   "cell_type": "code",
   "execution_count": 98,
   "metadata": {},
   "outputs": [],
   "source": [
    "nuclear_prod_19['Plant Name'].replace(to_replace={'Indian Point 3':\"Indian Point\",'Indian Point 2':\"Indian Point\"},inplace=True)  "
   ]
  },
  {
   "cell_type": "code",
   "execution_count": 99,
   "metadata": {},
   "outputs": [
    {
     "data": {
      "text/plain": [
       "(59, 15)"
      ]
     },
     "execution_count": 99,
     "metadata": {},
     "output_type": "execute_result"
    }
   ],
   "source": [
    "nuclear_prod_19_stations = nuclear_prod_19.groupby('Plant Name').agg({'Plant State':\"first\", \\\n",
    "                    'AER\\nFuel Type Code':\"last\",'Netgen\\nJanuary':\"sum\", 'Netgen\\nFebruary':\"sum\",\\\n",
    "                   'Netgen\\nMarch':\"sum\", 'Netgen\\nApril':\"sum\", 'Netgen\\nMay':\"sum\", 'Netgen\\nJune':\"sum\",\\\n",
    "                   'Netgen\\nJuly':\"sum\", 'Netgen\\nAugust':\"sum\", 'Netgen\\nSeptember':\"sum\",\\\n",
    "                   'Netgen\\nOctober':\"sum\", 'Netgen\\nNovember':\"sum\", 'Netgen\\nDecember':\"sum\",'Net Generation\\n(Megawatthours)':\"sum\"})\n",
    "nuclear_prod_19_stations.shape"
   ]
  },
  {
   "cell_type": "code",
   "execution_count": 100,
   "metadata": {},
   "outputs": [
    {
     "data": {
      "text/html": [
       "<div>\n",
       "<style scoped>\n",
       "    .dataframe tbody tr th:only-of-type {\n",
       "        vertical-align: middle;\n",
       "    }\n",
       "\n",
       "    .dataframe tbody tr th {\n",
       "        vertical-align: top;\n",
       "    }\n",
       "\n",
       "    .dataframe thead th {\n",
       "        text-align: right;\n",
       "    }\n",
       "</style>\n",
       "<table border=\"1\" class=\"dataframe\">\n",
       "  <thead>\n",
       "    <tr style=\"text-align: right;\">\n",
       "      <th></th>\n",
       "      <th>Plant State</th>\n",
       "      <th>AER\\nFuel Type Code</th>\n",
       "      <th>Netgen\\nJanuary</th>\n",
       "      <th>Netgen\\nFebruary</th>\n",
       "      <th>Netgen\\nMarch</th>\n",
       "      <th>Netgen\\nApril</th>\n",
       "      <th>Netgen\\nMay</th>\n",
       "      <th>Netgen\\nJune</th>\n",
       "      <th>Netgen\\nJuly</th>\n",
       "      <th>Netgen\\nAugust</th>\n",
       "      <th>Netgen\\nSeptember</th>\n",
       "      <th>Netgen\\nOctober</th>\n",
       "      <th>Netgen\\nNovember</th>\n",
       "      <th>Netgen\\nDecember</th>\n",
       "      <th>Net Generation\\n(Megawatthours)</th>\n",
       "    </tr>\n",
       "    <tr>\n",
       "      <th>Plant Name</th>\n",
       "      <th></th>\n",
       "      <th></th>\n",
       "      <th></th>\n",
       "      <th></th>\n",
       "      <th></th>\n",
       "      <th></th>\n",
       "      <th></th>\n",
       "      <th></th>\n",
       "      <th></th>\n",
       "      <th></th>\n",
       "      <th></th>\n",
       "      <th></th>\n",
       "      <th></th>\n",
       "      <th></th>\n",
       "      <th></th>\n",
       "    </tr>\n",
       "  </thead>\n",
       "  <tbody>\n",
       "    <tr>\n",
       "      <th>Arkansas Nuclear One</th>\n",
       "      <td>AR</td>\n",
       "      <td>NUC</td>\n",
       "      <td>1389566</td>\n",
       "      <td>1243888</td>\n",
       "      <td>1364841</td>\n",
       "      <td>1332697</td>\n",
       "      <td>1200079</td>\n",
       "      <td>596530</td>\n",
       "      <td>660202</td>\n",
       "      <td>1352797</td>\n",
       "      <td>1309963</td>\n",
       "      <td>826357</td>\n",
       "      <td>910614</td>\n",
       "      <td>1387413</td>\n",
       "      <td>13574947.0</td>\n",
       "    </tr>\n",
       "    <tr>\n",
       "      <th>Beaver Valley</th>\n",
       "      <td>PA</td>\n",
       "      <td>NUC</td>\n",
       "      <td>1393366</td>\n",
       "      <td>1256203</td>\n",
       "      <td>1380532</td>\n",
       "      <td>1320761</td>\n",
       "      <td>1366244</td>\n",
       "      <td>1306762</td>\n",
       "      <td>1344244</td>\n",
       "      <td>1353568</td>\n",
       "      <td>1257007</td>\n",
       "      <td>874858</td>\n",
       "      <td>1210506</td>\n",
       "      <td>1392419</td>\n",
       "      <td>15456470.0</td>\n",
       "    </tr>\n",
       "    <tr>\n",
       "      <th>Braidwood Generation Station</th>\n",
       "      <td>IL</td>\n",
       "      <td>NUC</td>\n",
       "      <td>1788805</td>\n",
       "      <td>1616748</td>\n",
       "      <td>1786313</td>\n",
       "      <td>1725411</td>\n",
       "      <td>1775688</td>\n",
       "      <td>1705590</td>\n",
       "      <td>1713430</td>\n",
       "      <td>1735984</td>\n",
       "      <td>1610607</td>\n",
       "      <td>1271291</td>\n",
       "      <td>1732484</td>\n",
       "      <td>1788789</td>\n",
       "      <td>20251140.0</td>\n",
       "    </tr>\n",
       "    <tr>\n",
       "      <th>Browns Ferry</th>\n",
       "      <td>AL</td>\n",
       "      <td>NUC</td>\n",
       "      <td>2677940</td>\n",
       "      <td>2351969</td>\n",
       "      <td>1645879</td>\n",
       "      <td>2278510</td>\n",
       "      <td>2693784</td>\n",
       "      <td>2608289</td>\n",
       "      <td>2619186</td>\n",
       "      <td>2681415</td>\n",
       "      <td>2339956</td>\n",
       "      <td>2509767</td>\n",
       "      <td>2332120</td>\n",
       "      <td>2781085</td>\n",
       "      <td>29519900.0</td>\n",
       "    </tr>\n",
       "    <tr>\n",
       "      <th>Brunswick Nuclear</th>\n",
       "      <td>NC</td>\n",
       "      <td>NUC</td>\n",
       "      <td>1361320</td>\n",
       "      <td>1249075</td>\n",
       "      <td>653858</td>\n",
       "      <td>595650</td>\n",
       "      <td>1404967</td>\n",
       "      <td>1314015</td>\n",
       "      <td>1397585</td>\n",
       "      <td>1396042</td>\n",
       "      <td>1161163</td>\n",
       "      <td>1406580</td>\n",
       "      <td>1363766</td>\n",
       "      <td>1412735</td>\n",
       "      <td>14716756.0</td>\n",
       "    </tr>\n",
       "  </tbody>\n",
       "</table>\n",
       "</div>"
      ],
      "text/plain": [
       "                             Plant State AER\\nFuel Type Code  Netgen\\nJanuary  \\\n",
       "Plant Name                                                                      \n",
       "Arkansas Nuclear One                  AR                 NUC          1389566   \n",
       "Beaver Valley                         PA                 NUC          1393366   \n",
       "Braidwood Generation Station          IL                 NUC          1788805   \n",
       "Browns Ferry                          AL                 NUC          2677940   \n",
       "Brunswick Nuclear                     NC                 NUC          1361320   \n",
       "\n",
       "                              Netgen\\nFebruary  Netgen\\nMarch  Netgen\\nApril  \\\n",
       "Plant Name                                                                     \n",
       "Arkansas Nuclear One                   1243888        1364841        1332697   \n",
       "Beaver Valley                          1256203        1380532        1320761   \n",
       "Braidwood Generation Station           1616748        1786313        1725411   \n",
       "Browns Ferry                           2351969        1645879        2278510   \n",
       "Brunswick Nuclear                      1249075         653858         595650   \n",
       "\n",
       "                              Netgen\\nMay Netgen\\nJune Netgen\\nJuly  \\\n",
       "Plant Name                                                            \n",
       "Arkansas Nuclear One              1200079       596530       660202   \n",
       "Beaver Valley                     1366244      1306762      1344244   \n",
       "Braidwood Generation Station      1775688      1705590      1713430   \n",
       "Browns Ferry                      2693784      2608289      2619186   \n",
       "Brunswick Nuclear                 1404967      1314015      1397585   \n",
       "\n",
       "                             Netgen\\nAugust Netgen\\nSeptember Netgen\\nOctober  \\\n",
       "Plant Name                                                                      \n",
       "Arkansas Nuclear One                1352797           1309963          826357   \n",
       "Beaver Valley                       1353568           1257007          874858   \n",
       "Braidwood Generation Station        1735984           1610607         1271291   \n",
       "Browns Ferry                        2681415           2339956         2509767   \n",
       "Brunswick Nuclear                   1396042           1161163         1406580   \n",
       "\n",
       "                             Netgen\\nNovember Netgen\\nDecember  \\\n",
       "Plant Name                                                       \n",
       "Arkansas Nuclear One                   910614          1387413   \n",
       "Beaver Valley                         1210506          1392419   \n",
       "Braidwood Generation Station          1732484          1788789   \n",
       "Browns Ferry                          2332120          2781085   \n",
       "Brunswick Nuclear                     1363766          1412735   \n",
       "\n",
       "                              Net Generation\\n(Megawatthours)  \n",
       "Plant Name                                                     \n",
       "Arkansas Nuclear One                               13574947.0  \n",
       "Beaver Valley                                      15456470.0  \n",
       "Braidwood Generation Station                       20251140.0  \n",
       "Browns Ferry                                       29519900.0  \n",
       "Brunswick Nuclear                                  14716756.0  "
      ]
     },
     "execution_count": 100,
     "metadata": {},
     "output_type": "execute_result"
    }
   ],
   "source": [
    "nuclear_prod_19_stations.head()"
   ]
  },
  {
   "cell_type": "code",
   "execution_count": 101,
   "metadata": {},
   "outputs": [
    {
     "data": {
      "text/html": [
       "<div>\n",
       "<style scoped>\n",
       "    .dataframe tbody tr th:only-of-type {\n",
       "        vertical-align: middle;\n",
       "    }\n",
       "\n",
       "    .dataframe tbody tr th {\n",
       "        vertical-align: top;\n",
       "    }\n",
       "\n",
       "    .dataframe thead th {\n",
       "        text-align: right;\n",
       "    }\n",
       "</style>\n",
       "<table border=\"1\" class=\"dataframe\">\n",
       "  <thead>\n",
       "    <tr style=\"text-align: right;\">\n",
       "      <th></th>\n",
       "      <th># of Units</th>\n",
       "      <th>Nameplate Capacity (MW)</th>\n",
       "    </tr>\n",
       "    <tr>\n",
       "      <th>Plant Name</th>\n",
       "      <th></th>\n",
       "      <th></th>\n",
       "    </tr>\n",
       "  </thead>\n",
       "  <tbody>\n",
       "    <tr>\n",
       "      <th>Arkansas Nuclear One</th>\n",
       "      <td>2</td>\n",
       "      <td>1845.0</td>\n",
       "    </tr>\n",
       "    <tr>\n",
       "      <th>Beaver Valley</th>\n",
       "      <td>2</td>\n",
       "      <td>1846.8</td>\n",
       "    </tr>\n",
       "    <tr>\n",
       "      <th>Braidwood Generation Station</th>\n",
       "      <td>2</td>\n",
       "      <td>2449.8</td>\n",
       "    </tr>\n",
       "    <tr>\n",
       "      <th>Browns Ferry</th>\n",
       "      <td>3</td>\n",
       "      <td>3494.0</td>\n",
       "    </tr>\n",
       "    <tr>\n",
       "      <th>Brunswick Nuclear</th>\n",
       "      <td>2</td>\n",
       "      <td>2003.2</td>\n",
       "    </tr>\n",
       "  </tbody>\n",
       "</table>\n",
       "</div>"
      ],
      "text/plain": [
       "                              # of Units  Nameplate Capacity (MW)\n",
       "Plant Name                                                       \n",
       "Arkansas Nuclear One                   2                   1845.0\n",
       "Beaver Valley                          2                   1846.8\n",
       "Braidwood Generation Station           2                   2449.8\n",
       "Browns Ferry                           3                   3494.0\n",
       "Brunswick Nuclear                      2                   2003.2"
      ]
     },
     "execution_count": 101,
     "metadata": {},
     "output_type": "execute_result"
    }
   ],
   "source": [
    "nuclear_stations.rename(columns={'Generator ID':\"# of Units\"},inplace=True)\n",
    "nuclear_stations.head()"
   ]
  },
  {
   "cell_type": "code",
   "execution_count": 102,
   "metadata": {},
   "outputs": [
    {
     "data": {
      "text/plain": [
       "count      59.000000\n",
       "mean     1767.291525\n",
       "std       757.440677\n",
       "min       614.000000\n",
       "25%      1193.000000\n",
       "50%      1828.700000\n",
       "75%      2331.500000\n",
       "max      4209.600000\n",
       "Name: Nameplate Capacity (MW), dtype: float64"
      ]
     },
     "execution_count": 102,
     "metadata": {},
     "output_type": "execute_result"
    }
   ],
   "source": [
    "nuclear_stations['Nameplate Capacity (MW)'].describe()"
   ]
  },
  {
   "cell_type": "code",
   "execution_count": 103,
   "metadata": {},
   "outputs": [
    {
     "data": {
      "text/plain": [
       "2    33\n",
       "1    23\n",
       "3     3\n",
       "Name: # of Units, dtype: int64"
      ]
     },
     "execution_count": 103,
     "metadata": {},
     "output_type": "execute_result"
    }
   ],
   "source": [
    "nuclear_stations['# of Units'].value_counts()"
   ]
  },
  {
   "cell_type": "code",
   "execution_count": 104,
   "metadata": {},
   "outputs": [],
   "source": [
    "one_unit = nuclear_stations[nuclear_stations['# of Units'] ==1]\n",
    "multi_unit = nuclear_stations[nuclear_stations['# of Units'] >1]\n",
    "two_unit = nuclear_stations[nuclear_stations['# of Units'] ==2]\n",
    "three_unit = nuclear_stations[nuclear_stations['# of Units'] ==3]"
   ]
  },
  {
   "cell_type": "code",
   "execution_count": 105,
   "metadata": {},
   "outputs": [
    {
     "data": {
      "image/png": "[encoded data removed]",
      "text/plain": [
       "<Figure size 720x432 with 1 Axes>"
      ]
     },
     "metadata": {
      "needs_background": "light"
     },
     "output_type": "display_data"
    }
   ],
   "source": [
    "bins=[x for x in range(0,4600,200)]\n",
    "plt.figure(figsize=(10,6))\n",
    "plt.title(\"Nameplate Capacity of U.S. Nuclear Power Stations\",fontsize=14)\n",
    "#plt.hist(nuclear_stations['Nameplate Capacity (MW)'], bins=bins, label=\"single unit\", alpha=0.7)\n",
    "plt.hist(one_unit['Nameplate Capacity (MW)'], bins=bins, label=\"single unit\", alpha=0.7, color=\"magenta\")\n",
    "plt.hist(two_unit['Nameplate Capacity (MW)'], bins=bins, label=\"two unit\", alpha=0.7, color=\"dodgerblue\")\n",
    "plt.hist(three_unit['Nameplate Capacity (MW)'], bins=bins, label=\"three unit\", alpha=0.7,color=\"lime\")\n",
    "plt.xlabel(\"Nameplate Capacity (MW)\")\n",
    "plt.ylabel(\"Number of Stations\")\n",
    "plt.legend()\n",
    "plt.show()"
   ]
  },
  {
   "cell_type": "code",
   "execution_count": 106,
   "metadata": {},
   "outputs": [
    {
     "data": {
      "text/plain": [
       "(59, 17)"
      ]
     },
     "execution_count": 106,
     "metadata": {},
     "output_type": "execute_result"
    }
   ],
   "source": [
    "nuclear_performance = pd.merge(nuclear_stations, nuclear_prod_19_stations, how='inner', left_index=True, right_index=True)\n",
    "nuclear_performance.shape"
   ]
  },
  {
   "cell_type": "code",
   "execution_count": 107,
   "metadata": {},
   "outputs": [
    {
     "data": {
      "text/plain": [
       "0.8861430934237075"
      ]
     },
     "execution_count": 107,
     "metadata": {},
     "output_type": "execute_result"
    }
   ],
   "source": [
    "nuclear_performance['Net Generation\\n(Megawatthours)'].sum()/(24*365*nuclear_performance['Nameplate Capacity (MW)'].sum())"
   ]
  },
  {
   "cell_type": "markdown",
   "metadata": {},
   "source": [
    "The gross aggregate capacity factor for nuclear in 2019 is very high, nearly 89%, as compared to values closer to 50% for\n",
    "combined cycle natural gas plants."
   ]
  },
  {
   "cell_type": "code",
   "execution_count": 108,
   "metadata": {},
   "outputs": [],
   "source": [
    "shutdown = ['Pilgrim Nuclear Power Station', 'Three Mile Island']"
   ]
  },
  {
   "cell_type": "code",
   "execution_count": 109,
   "metadata": {},
   "outputs": [
    {
     "data": {
      "text/html": [
       "<div>\n",
       "<style scoped>\n",
       "    .dataframe tbody tr th:only-of-type {\n",
       "        vertical-align: middle;\n",
       "    }\n",
       "\n",
       "    .dataframe tbody tr th {\n",
       "        vertical-align: top;\n",
       "    }\n",
       "\n",
       "    .dataframe thead th {\n",
       "        text-align: right;\n",
       "    }\n",
       "</style>\n",
       "<table border=\"1\" class=\"dataframe\">\n",
       "  <thead>\n",
       "    <tr style=\"text-align: right;\">\n",
       "      <th></th>\n",
       "      <th># of Units</th>\n",
       "      <th>Nameplate Capacity (MW)</th>\n",
       "      <th>Plant State</th>\n",
       "      <th>AER\\nFuel Type Code</th>\n",
       "      <th>Netgen\\nJanuary</th>\n",
       "      <th>Netgen\\nFebruary</th>\n",
       "      <th>Netgen\\nMarch</th>\n",
       "      <th>Netgen\\nApril</th>\n",
       "      <th>Netgen\\nMay</th>\n",
       "      <th>Netgen\\nJune</th>\n",
       "      <th>Netgen\\nJuly</th>\n",
       "      <th>Netgen\\nAugust</th>\n",
       "      <th>Netgen\\nSeptember</th>\n",
       "      <th>Netgen\\nOctober</th>\n",
       "      <th>Netgen\\nNovember</th>\n",
       "      <th>Netgen\\nDecember</th>\n",
       "      <th>Net Generation\\n(Megawatthours)</th>\n",
       "    </tr>\n",
       "    <tr>\n",
       "      <th>Plant Name</th>\n",
       "      <th></th>\n",
       "      <th></th>\n",
       "      <th></th>\n",
       "      <th></th>\n",
       "      <th></th>\n",
       "      <th></th>\n",
       "      <th></th>\n",
       "      <th></th>\n",
       "      <th></th>\n",
       "      <th></th>\n",
       "      <th></th>\n",
       "      <th></th>\n",
       "      <th></th>\n",
       "      <th></th>\n",
       "      <th></th>\n",
       "      <th></th>\n",
       "      <th></th>\n",
       "    </tr>\n",
       "  </thead>\n",
       "  <tbody>\n",
       "    <tr>\n",
       "      <th>Pilgrim Nuclear Power Station</th>\n",
       "      <td>1</td>\n",
       "      <td>670.0</td>\n",
       "      <td>MA</td>\n",
       "      <td>NUC</td>\n",
       "      <td>450438</td>\n",
       "      <td>455294</td>\n",
       "      <td>492267</td>\n",
       "      <td>476826</td>\n",
       "      <td>302379</td>\n",
       "      <td>.</td>\n",
       "      <td>.</td>\n",
       "      <td>.</td>\n",
       "      <td>.</td>\n",
       "      <td>.</td>\n",
       "      <td>.</td>\n",
       "      <td>.</td>\n",
       "      <td>2177204.0</td>\n",
       "    </tr>\n",
       "    <tr>\n",
       "      <th>Three Mile Island</th>\n",
       "      <td>1</td>\n",
       "      <td>980.8</td>\n",
       "      <td>PA</td>\n",
       "      <td>NUC</td>\n",
       "      <td>632206</td>\n",
       "      <td>570764</td>\n",
       "      <td>629016</td>\n",
       "      <td>604853</td>\n",
       "      <td>617709</td>\n",
       "      <td>594819</td>\n",
       "      <td>608513</td>\n",
       "      <td>605781</td>\n",
       "      <td>350535</td>\n",
       "      <td>0</td>\n",
       "      <td>.</td>\n",
       "      <td>.</td>\n",
       "      <td>5214196.0</td>\n",
       "    </tr>\n",
       "  </tbody>\n",
       "</table>\n",
       "</div>"
      ],
      "text/plain": [
       "                               # of Units  Nameplate Capacity (MW)  \\\n",
       "Plant Name                                                           \n",
       "Pilgrim Nuclear Power Station           1                    670.0   \n",
       "Three Mile Island                       1                    980.8   \n",
       "\n",
       "                              Plant State AER\\nFuel Type Code  \\\n",
       "Plant Name                                                      \n",
       "Pilgrim Nuclear Power Station          MA                 NUC   \n",
       "Three Mile Island                      PA                 NUC   \n",
       "\n",
       "                               Netgen\\nJanuary  Netgen\\nFebruary  \\\n",
       "Plant Name                                                         \n",
       "Pilgrim Nuclear Power Station           450438            455294   \n",
       "Three Mile Island                       632206            570764   \n",
       "\n",
       "                               Netgen\\nMarch  Netgen\\nApril  Netgen\\nMay  \\\n",
       "Plant Name                                                                 \n",
       "Pilgrim Nuclear Power Station         492267         476826       302379   \n",
       "Three Mile Island                     629016         604853       617709   \n",
       "\n",
       "                              Netgen\\nJune Netgen\\nJuly Netgen\\nAugust  \\\n",
       "Plant Name                                                               \n",
       "Pilgrim Nuclear Power Station            .            .              .   \n",
       "Three Mile Island                   594819       608513         605781   \n",
       "\n",
       "                              Netgen\\nSeptember Netgen\\nOctober  \\\n",
       "Plant Name                                                        \n",
       "Pilgrim Nuclear Power Station                 .               .   \n",
       "Three Mile Island                        350535               0   \n",
       "\n",
       "                              Netgen\\nNovember Netgen\\nDecember  \\\n",
       "Plant Name                                                        \n",
       "Pilgrim Nuclear Power Station                .                .   \n",
       "Three Mile Island                            .                .   \n",
       "\n",
       "                               Net Generation\\n(Megawatthours)  \n",
       "Plant Name                                                      \n",
       "Pilgrim Nuclear Power Station                        2177204.0  \n",
       "Three Mile Island                                    5214196.0  "
      ]
     },
     "execution_count": 109,
     "metadata": {},
     "output_type": "execute_result"
    }
   ],
   "source": [
    "nuclear_performance[nuclear_performance.index.isin(shutdown)]"
   ]
  },
  {
   "cell_type": "markdown",
   "metadata": {},
   "source": [
    "Pilgrim had 5 months of operation in 2019 and TMI had 9."
   ]
  },
  {
   "cell_type": "code",
   "execution_count": 110,
   "metadata": {},
   "outputs": [],
   "source": [
    "nuclear_monthly = ['Netgen\\nJanuary', 'Netgen\\nFebruary','Netgen\\nMarch', 'Netgen\\nApril', 'Netgen\\nMay', \\\n",
    "                   'Netgen\\nJune','Netgen\\nJuly', 'Netgen\\nAugust', 'Netgen\\nSeptember','Netgen\\nOctober', \\\n",
    "                   'Netgen\\nNovember', 'Netgen\\nDecember']"
   ]
  },
  {
   "cell_type": "code",
   "execution_count": 111,
   "metadata": {},
   "outputs": [
    {
     "name": "stdout",
     "output_type": "stream",
     "text": [
      "<class 'pandas.core.frame.DataFrame'>\n",
      "Index: 59 entries, Arkansas Nuclear One to Wolf Creek Generating Station\n",
      "Data columns (total 17 columns):\n",
      " #   Column                          Non-Null Count  Dtype  \n",
      "---  ------                          --------------  -----  \n",
      " 0   # of Units                      59 non-null     int64  \n",
      " 1   Nameplate Capacity (MW)         59 non-null     float64\n",
      " 2   Plant State                     59 non-null     object \n",
      " 3   AER\n",
      "Fuel Type Code              59 non-null     object \n",
      " 4   Netgen\n",
      "January                  59 non-null     int64  \n",
      " 5   Netgen\n",
      "February                 59 non-null     int64  \n",
      " 6   Netgen\n",
      "March                    59 non-null     int64  \n",
      " 7   Netgen\n",
      "April                    59 non-null     int64  \n",
      " 8   Netgen\n",
      "May                      59 non-null     int64  \n",
      " 9   Netgen\n",
      "June                     59 non-null     object \n",
      " 10  Netgen\n",
      "July                     59 non-null     object \n",
      " 11  Netgen\n",
      "August                   59 non-null     object \n",
      " 12  Netgen\n",
      "September                59 non-null     object \n",
      " 13  Netgen\n",
      "October                  59 non-null     object \n",
      " 14  Netgen\n",
      "November                 59 non-null     object \n",
      " 15  Netgen\n",
      "December                 59 non-null     object \n",
      " 16  Net Generation\n",
      "(Megawatthours)  59 non-null     float64\n",
      "dtypes: float64(2), int64(6), object(9)\n",
      "memory usage: 10.8+ KB\n"
     ]
    }
   ],
   "source": [
    "nuclear_performance.info()"
   ]
  },
  {
   "cell_type": "code",
   "execution_count": 112,
   "metadata": {},
   "outputs": [],
   "source": [
    "for i in nuclear_monthly:\n",
    "    nuclear_performance[i] = pd.to_numeric(nuclear_performance[i],errors=\"coerce\")"
   ]
  },
  {
   "cell_type": "code",
   "execution_count": 113,
   "metadata": {},
   "outputs": [
    {
     "name": "stdout",
     "output_type": "stream",
     "text": [
      "<class 'pandas.core.frame.DataFrame'>\n",
      "Index: 59 entries, Arkansas Nuclear One to Wolf Creek Generating Station\n",
      "Data columns (total 17 columns):\n",
      " #   Column                          Non-Null Count  Dtype  \n",
      "---  ------                          --------------  -----  \n",
      " 0   # of Units                      59 non-null     int64  \n",
      " 1   Nameplate Capacity (MW)         59 non-null     float64\n",
      " 2   Plant State                     59 non-null     object \n",
      " 3   AER\n",
      "Fuel Type Code              59 non-null     object \n",
      " 4   Netgen\n",
      "January                  59 non-null     int64  \n",
      " 5   Netgen\n",
      "February                 59 non-null     int64  \n",
      " 6   Netgen\n",
      "March                    59 non-null     int64  \n",
      " 7   Netgen\n",
      "April                    59 non-null     int64  \n",
      " 8   Netgen\n",
      "May                      59 non-null     int64  \n",
      " 9   Netgen\n",
      "June                     58 non-null     float64\n",
      " 10  Netgen\n",
      "July                     58 non-null     float64\n",
      " 11  Netgen\n",
      "August                   58 non-null     float64\n",
      " 12  Netgen\n",
      "September                58 non-null     float64\n",
      " 13  Netgen\n",
      "October                  58 non-null     float64\n",
      " 14  Netgen\n",
      "November                 57 non-null     float64\n",
      " 15  Netgen\n",
      "December                 57 non-null     float64\n",
      " 16  Net Generation\n",
      "(Megawatthours)  59 non-null     float64\n",
      "dtypes: float64(9), int64(6), object(2)\n",
      "memory usage: 10.8+ KB\n"
     ]
    }
   ],
   "source": [
    "nuclear_performance.info()"
   ]
  },
  {
   "cell_type": "code",
   "execution_count": 114,
   "metadata": {},
   "outputs": [
    {
     "data": {
      "text/plain": [
       "0.0"
      ]
     },
     "execution_count": 114,
     "metadata": {},
     "output_type": "execute_result"
    }
   ],
   "source": [
    "nuclear_performance.at['Three Mile Island', 'Netgen\\nOctober']"
   ]
  },
  {
   "cell_type": "code",
   "execution_count": 115,
   "metadata": {},
   "outputs": [],
   "source": [
    "nuclear_performance.at['Three Mile Island', 'Netgen\\nOctober'] = np.nan"
   ]
  },
  {
   "cell_type": "code",
   "execution_count": 116,
   "metadata": {},
   "outputs": [],
   "source": [
    "nuclear_performance['Active Months'] = 12 - nuclear_performance[nuclear_monthly].isnull().astype(int).values.sum(axis=1)"
   ]
  },
  {
   "cell_type": "code",
   "execution_count": 117,
   "metadata": {},
   "outputs": [
    {
     "data": {
      "text/plain": [
       "12    57\n",
       "9      1\n",
       "5      1\n",
       "Name: Active Months, dtype: int64"
      ]
     },
     "execution_count": 117,
     "metadata": {},
     "output_type": "execute_result"
    }
   ],
   "source": [
    "nuclear_performance['Active Months'].value_counts()"
   ]
  },
  {
   "cell_type": "code",
   "execution_count": 118,
   "metadata": {},
   "outputs": [],
   "source": [
    "nuclear_performance['cap_fact'] =  nuclear_performance['Net Generation\\n(Megawatthours)']/\\\n",
    "            (nuclear_performance['Nameplate Capacity (MW)']*24*365*(nuclear_performance['Active Months']/12))"
   ]
  },
  {
   "cell_type": "code",
   "execution_count": 119,
   "metadata": {},
   "outputs": [
    {
     "data": {
      "text/plain": [
       "count    59.000000\n",
       "mean      0.889592\n",
       "std       0.066969\n",
       "min       0.707581\n",
       "25%       0.841692\n",
       "50%       0.892812\n",
       "75%       0.943396\n",
       "max       1.002482\n",
       "Name: cap_fact, dtype: float64"
      ]
     },
     "execution_count": 119,
     "metadata": {},
     "output_type": "execute_result"
    }
   ],
   "source": [
    "nuclear_performance['cap_fact'].describe()"
   ]
  },
  {
   "cell_type": "code",
   "execution_count": 120,
   "metadata": {},
   "outputs": [
    {
     "data": {
      "text/plain": [
       "Plant Name\n",
       "Seabrook                              1.002482\n",
       "Cooper Nuclear Station                0.990714\n",
       "Turkey Point                          0.986094\n",
       "Limerick                              0.969873\n",
       "Vogtle                                0.968071\n",
       "Davis Besse                           0.967020\n",
       "Palisades                             0.965379\n",
       "Browns Ferry                          0.964468\n",
       "Beaver Valley                         0.955402\n",
       "Surry                                 0.954525\n",
       "James A Fitzpatrick                   0.950554\n",
       "Nine Mile Point Nuclear Station       0.950025\n",
       "LaSalle Generating Station            0.948135\n",
       "H B Robinson                          0.947034\n",
       "Braidwood Generation Station          0.943658\n",
       "TalenEnergy Susquehanna               0.943134\n",
       "Byron Generating Station              0.937453\n",
       "Calvert Cliffs Nuclear Power Plant    0.937171\n",
       "Oconee                                0.936833\n",
       "R E Ginna Nuclear Power Plant         0.928430\n",
       "Catawba                               0.928020\n",
       "Fermi                                 0.927336\n",
       "South Texas Project                   0.926918\n",
       "Edwin I Hatch                         0.922688\n",
       "McGuire                               0.916210\n",
       "V C Summer                            0.914532\n",
       "Harris                                0.913649\n",
       "Joseph M Farley                       0.908471\n",
       "Comanche Peak                         0.906886\n",
       "North Anna                            0.892812\n",
       "Point Beach Nuclear Plant             0.890367\n",
       "Pilgrim Nuclear Power Station         0.890290\n",
       "Peach Bottom                          0.884794\n",
       "Millstone                             0.883169\n",
       "Prairie Island                        0.879595\n",
       "Duane Arnold Energy Center            0.879595\n",
       "Quad Cities Generating Station        0.875766\n",
       "Grand Gulf                            0.874597\n",
       "PSEG Salem Generating Station         0.873745\n",
       "Palo Verde                            0.865611\n",
       "Dresden Generating Station            0.852897\n",
       "Callaway                              0.848900\n",
       "Sequoyah                              0.844806\n",
       "Columbia Generating Station           0.843465\n",
       "Arkansas Nuclear One                  0.839920\n",
       "Clinton Power Station                 0.838719\n",
       "Brunswick Nuclear                     0.838656\n",
       "Wolf Creek Generating Station         0.832750\n",
       "Monticello Nuclear Facility           0.827346\n",
       "Indian Point                          0.824666\n",
       "Three Mile Island                     0.809173\n",
       "Donald C Cook                         0.807116\n",
       "Perry                                 0.798382\n",
       "Diablo Canyon                         0.794388\n",
       "Watts Bar Nuclear Plant               0.793567\n",
       "St Lucie                              0.790928\n",
       "PSEG Hope Creek Generating Station    0.771850\n",
       "Waterford 3                           0.719336\n",
       "River Bend                            0.707581\n",
       "Name: cap_fact, dtype: float64"
      ]
     },
     "execution_count": 120,
     "metadata": {},
     "output_type": "execute_result"
    }
   ],
   "source": [
    "nuclear_performance['cap_fact'].sort_values(ascending=False)"
   ]
  },
  {
   "cell_type": "code",
   "execution_count": 121,
   "metadata": {},
   "outputs": [
    {
     "data": {
      "image/png": "[encoded data removed]",
      "text/plain": [
       "<Figure size 720x432 with 1 Axes>"
      ]
     },
     "metadata": {
      "needs_background": "light"
     },
     "output_type": "display_data"
    }
   ],
   "source": [
    "bins1 = [x for x in np.arange(0,1.04,0.04)]\n",
    "plt.figure(figsize=(10,6))\n",
    "plt.axvline(x=nuclear_performance['cap_fact'].mean(),color='black', linewidth=1.0, linestyle='--' )\n",
    "plt.title(\"Annual Capacity Factors for Individual U.S. Nuclear Power Stations CY2019\",fontsize=14)\n",
    "plt.hist(nuclear_performance['cap_fact'], bins=bins1, color=\"dodgerblue\")\n",
    "plt.xlabel(\"Capacity Factor\",fontsize=12)\n",
    "plt.ylabel(\"Number of Stations\",fontsize=12)\n",
    "plt.text(0.67,14,\"Average = 0.890\",fontsize=12)\n",
    "plt.show()"
   ]
  },
  {
   "cell_type": "code",
   "execution_count": 122,
   "metadata": {},
   "outputs": [],
   "source": [
    "one_unit_cf = nuclear_performance[nuclear_performance['# of Units'] ==1]\n",
    "multi_unit_cf = nuclear_performance[nuclear_performance['# of Units'] >1]"
   ]
  },
  {
   "cell_type": "code",
   "execution_count": 123,
   "metadata": {},
   "outputs": [
    {
     "data": {
      "image/png": "[encoded data removed]",
      "text/plain": [
       "<Figure size 720x432 with 1 Axes>"
      ]
     },
     "metadata": {
      "needs_background": "light"
     },
     "output_type": "display_data"
    }
   ],
   "source": [
    "plt.figure(figsize=(10,6))\n",
    "#plt.ylim(0,1)\n",
    "#plt.axhline(y=nuclear_performance['cap_fact'].mean(),color='black', linewidth=1.0, linestyle='--' )\n",
    "plt.title(\"Capacity Factors vs. Station Rating for U.S. Nuclear Power Stations CY2019\",fontsize=14)\n",
    "#plt.scatter(nuclear_performance['Nameplate Capacity (MW)'], nuclear_performance['cap_fact'], color=\"dodgerblue\")\n",
    "plt.scatter(one_unit_cf['Nameplate Capacity (MW)'], one_unit_cf['cap_fact'], color=\"lime\", marker = \"^\",label=\"single unit station\")\n",
    "plt.scatter(multi_unit_cf['Nameplate Capacity (MW)'], multi_unit_cf['cap_fact'], color=\"magenta\", label=\"multi unit station\")\n",
    "plt.xlabel(\"Station Nameplate Rating (MW)\",fontsize=12)\n",
    "plt.ylabel(\"Capacity Factor\",fontsize=12)\n",
    "#plt.text(3200,0.9,\"Average = 0.890\",fontsize=12)\n",
    "plt.legend(loc=\"lower right\")\n",
    "plt.show()"
   ]
  },
  {
   "cell_type": "code",
   "execution_count": 124,
   "metadata": {},
   "outputs": [
    {
     "data": {
      "text/plain": [
       "0.06345861483143041"
      ]
     },
     "execution_count": 124,
     "metadata": {},
     "output_type": "execute_result"
    }
   ],
   "source": [
    "nuclear_performance['cap_fact'].corr(nuclear_performance['Nameplate Capacity (MW)'])"
   ]
  },
  {
   "cell_type": "markdown",
   "metadata": {},
   "source": [
    "There is no apparent correlation between capacity factor and plant size for U.S. nuclear plants."
   ]
  },
  {
   "cell_type": "code",
   "execution_count": 125,
   "metadata": {},
   "outputs": [
    {
     "data": {
      "text/html": [
       "<div>\n",
       "<style scoped>\n",
       "    .dataframe tbody tr th:only-of-type {\n",
       "        vertical-align: middle;\n",
       "    }\n",
       "\n",
       "    .dataframe tbody tr th {\n",
       "        vertical-align: top;\n",
       "    }\n",
       "\n",
       "    .dataframe thead th {\n",
       "        text-align: right;\n",
       "    }\n",
       "</style>\n",
       "<table border=\"1\" class=\"dataframe\">\n",
       "  <thead>\n",
       "    <tr style=\"text-align: right;\">\n",
       "      <th></th>\n",
       "      <th>Plant Id</th>\n",
       "      <th>Plant Name</th>\n",
       "      <th>Plant State</th>\n",
       "      <th>Reported\\nFuel Type Code</th>\n",
       "      <th>AER\\nFuel Type Code</th>\n",
       "      <th>Netgen\\nJanuary</th>\n",
       "      <th>Netgen\\nFebruary</th>\n",
       "      <th>Netgen\\nMarch</th>\n",
       "      <th>Netgen\\nApril</th>\n",
       "      <th>Netgen\\nMay</th>\n",
       "      <th>Netgen\\nJune</th>\n",
       "      <th>Netgen\\nJuly</th>\n",
       "      <th>Netgen\\nAugust</th>\n",
       "      <th>Netgen\\nSeptember</th>\n",
       "      <th>Netgen\\nOctober</th>\n",
       "      <th>Netgen\\nNovember</th>\n",
       "      <th>Netgen\\nDecember</th>\n",
       "      <th>Net Generation\\n(Megawatthours)</th>\n",
       "      <th>YEAR</th>\n",
       "    </tr>\n",
       "  </thead>\n",
       "  <tbody>\n",
       "    <tr>\n",
       "      <th>0</th>\n",
       "      <td>1</td>\n",
       "      <td>Sand Point</td>\n",
       "      <td>AK</td>\n",
       "      <td>DFO</td>\n",
       "      <td>DFO</td>\n",
       "      <td>195.676</td>\n",
       "      <td>217.498</td>\n",
       "      <td>215.544</td>\n",
       "      <td>198.082</td>\n",
       "      <td>215.578</td>\n",
       "      <td>185.236</td>\n",
       "      <td>210.989</td>\n",
       "      <td>233.607</td>\n",
       "      <td>277.39</td>\n",
       "      <td>291.533</td>\n",
       "      <td>221.449</td>\n",
       "      <td>295.418</td>\n",
       "      <td>2758.0</td>\n",
       "      <td>2019</td>\n",
       "    </tr>\n",
       "    <tr>\n",
       "      <th>1</th>\n",
       "      <td>1</td>\n",
       "      <td>Sand Point</td>\n",
       "      <td>AK</td>\n",
       "      <td>WND</td>\n",
       "      <td>WND</td>\n",
       "      <td>88.072</td>\n",
       "      <td>80.613</td>\n",
       "      <td>90.25</td>\n",
       "      <td>100.908</td>\n",
       "      <td>89.021</td>\n",
       "      <td>76.538</td>\n",
       "      <td>75.28</td>\n",
       "      <td>68.051</td>\n",
       "      <td>83.408</td>\n",
       "      <td>94.562</td>\n",
       "      <td>85.813</td>\n",
       "      <td>89.484</td>\n",
       "      <td>1022.0</td>\n",
       "      <td>2019</td>\n",
       "    </tr>\n",
       "    <tr>\n",
       "      <th>2</th>\n",
       "      <td>2</td>\n",
       "      <td>Bankhead Dam</td>\n",
       "      <td>AL</td>\n",
       "      <td>WAT</td>\n",
       "      <td>HYC</td>\n",
       "      <td>-23.567</td>\n",
       "      <td>-22.044</td>\n",
       "      <td>-25.812</td>\n",
       "      <td>-26.452</td>\n",
       "      <td>-31.6</td>\n",
       "      <td>-27.586</td>\n",
       "      <td>-23.829</td>\n",
       "      <td>-22.872</td>\n",
       "      <td>-18.33</td>\n",
       "      <td>-18.28</td>\n",
       "      <td>-21.282</td>\n",
       "      <td>-22.346</td>\n",
       "      <td>-284.0</td>\n",
       "      <td>2019</td>\n",
       "    </tr>\n",
       "    <tr>\n",
       "      <th>3</th>\n",
       "      <td>3</td>\n",
       "      <td>Barry</td>\n",
       "      <td>AL</td>\n",
       "      <td>NG</td>\n",
       "      <td>NG</td>\n",
       "      <td>249734</td>\n",
       "      <td>239279</td>\n",
       "      <td>260061</td>\n",
       "      <td>166618</td>\n",
       "      <td>241896</td>\n",
       "      <td>252882</td>\n",
       "      <td>253399</td>\n",
       "      <td>267202</td>\n",
       "      <td>255971</td>\n",
       "      <td>255736</td>\n",
       "      <td>250232</td>\n",
       "      <td>131877</td>\n",
       "      <td>2824887.0</td>\n",
       "      <td>2019</td>\n",
       "    </tr>\n",
       "    <tr>\n",
       "      <th>4</th>\n",
       "      <td>3</td>\n",
       "      <td>Barry</td>\n",
       "      <td>AL</td>\n",
       "      <td>NG</td>\n",
       "      <td>NG</td>\n",
       "      <td>469654</td>\n",
       "      <td>449491</td>\n",
       "      <td>487355</td>\n",
       "      <td>313253</td>\n",
       "      <td>460403</td>\n",
       "      <td>475069</td>\n",
       "      <td>476259</td>\n",
       "      <td>500818</td>\n",
       "      <td>476004</td>\n",
       "      <td>472701</td>\n",
       "      <td>471065</td>\n",
       "      <td>254319</td>\n",
       "      <td>5306391.0</td>\n",
       "      <td>2019</td>\n",
       "    </tr>\n",
       "  </tbody>\n",
       "</table>\n",
       "</div>"
      ],
      "text/plain": [
       "   Plant Id    Plant Name Plant State Reported\\nFuel Type Code  \\\n",
       "0         1    Sand Point          AK                      DFO   \n",
       "1         1    Sand Point          AK                      WND   \n",
       "2         2  Bankhead Dam          AL                      WAT   \n",
       "3         3         Barry          AL                       NG   \n",
       "4         3         Barry          AL                       NG   \n",
       "\n",
       "  AER\\nFuel Type Code Netgen\\nJanuary Netgen\\nFebruary Netgen\\nMarch  \\\n",
       "0                 DFO         195.676          217.498       215.544   \n",
       "1                 WND          88.072           80.613         90.25   \n",
       "2                 HYC         -23.567          -22.044       -25.812   \n",
       "3                  NG          249734           239279        260061   \n",
       "4                  NG          469654           449491        487355   \n",
       "\n",
       "  Netgen\\nApril Netgen\\nMay Netgen\\nJune Netgen\\nJuly Netgen\\nAugust  \\\n",
       "0       198.082     215.578      185.236      210.989        233.607   \n",
       "1       100.908      89.021       76.538        75.28         68.051   \n",
       "2       -26.452       -31.6      -27.586      -23.829        -22.872   \n",
       "3        166618      241896       252882       253399         267202   \n",
       "4        313253      460403       475069       476259         500818   \n",
       "\n",
       "  Netgen\\nSeptember Netgen\\nOctober Netgen\\nNovember Netgen\\nDecember  \\\n",
       "0            277.39         291.533          221.449          295.418   \n",
       "1            83.408          94.562           85.813           89.484   \n",
       "2            -18.33          -18.28          -21.282          -22.346   \n",
       "3            255971          255736           250232           131877   \n",
       "4            476004          472701           471065           254319   \n",
       "\n",
       "   Net Generation\\n(Megawatthours)  YEAR  \n",
       "0                           2758.0  2019  \n",
       "1                           1022.0  2019  \n",
       "2                           -284.0  2019  \n",
       "3                        2824887.0  2019  \n",
       "4                        5306391.0  2019  "
      ]
     },
     "execution_count": 125,
     "metadata": {},
     "output_type": "execute_result"
    }
   ],
   "source": [
    "prod_2019.head()"
   ]
  },
  {
   "cell_type": "code",
   "execution_count": 126,
   "metadata": {},
   "outputs": [
    {
     "data": {
      "text/plain": [
       "1585716792.698"
      ]
     },
     "execution_count": 126,
     "metadata": {},
     "output_type": "execute_result"
    }
   ],
   "source": [
    "prod_2019[prod_2019['AER\\nFuel Type Code']=='NG']['Net Generation\\n(Megawatthours)'].sum()"
   ]
  },
  {
   "cell_type": "code",
   "execution_count": 127,
   "metadata": {},
   "outputs": [
    {
     "data": {
      "text/plain": [
       "809409262.0"
      ]
     },
     "execution_count": 127,
     "metadata": {},
     "output_type": "execute_result"
    }
   ],
   "source": [
    "nuclear_total = prod_2019[prod_2019['AER\\nFuel Type Code']=='NUC']['Net Generation\\n(Megawatthours)'].sum()\n",
    "nuclear_total"
   ]
  },
  {
   "cell_type": "code",
   "execution_count": 128,
   "metadata": {},
   "outputs": [
    {
     "data": {
      "text/plain": [
       "4126882142.1049995"
      ]
     },
     "execution_count": 128,
     "metadata": {},
     "output_type": "execute_result"
    }
   ],
   "source": [
    "prod_total= prod_2019['Net Generation\\n(Megawatthours)'].sum()\n",
    "prod_total"
   ]
  },
  {
   "cell_type": "code",
   "execution_count": 129,
   "metadata": {},
   "outputs": [
    {
     "data": {
      "text/plain": [
       "AER\\nFuel Type Code\n",
       "NG     0.384241\n",
       "COL    0.232148\n",
       "NUC    0.196131\n",
       "WND    0.071460\n",
       "HYC    0.069756\n",
       "SUN    0.017431\n",
       "WWW    0.009340\n",
       "MLG    0.004013\n",
       "GEO    0.003749\n",
       "OTH    0.003231\n",
       "OOG    0.003051\n",
       "WOC    0.001674\n",
       "PC     0.001652\n",
       "RFO    0.001336\n",
       "DFO    0.001192\n",
       "ORW    0.000582\n",
       "WOO    0.000288\n",
       "HPS   -0.001275\n",
       "Name: Net Generation\\n(Megawatthours), dtype: float64"
      ]
     },
     "execution_count": 129,
     "metadata": {},
     "output_type": "execute_result"
    }
   ],
   "source": [
    "prod_2019.groupby('AER\\nFuel Type Code')['Net Generation\\n(Megawatthours)'].sum().sort_values(ascending=False)/prod_total"
   ]
  },
  {
   "cell_type": "code",
   "execution_count": 130,
   "metadata": {},
   "outputs": [
    {
     "data": {
      "text/plain": [
       "Plant Id\n",
       "56407    2.146889e+07\n",
       "710      1.907183e+07\n",
       "7710     1.246264e+07\n",
       "6043     1.171403e+07\n",
       "7302     1.145978e+07\n",
       "55380    1.126750e+07\n",
       "628      1.072252e+07\n",
       "55480    1.052672e+07\n",
       "6042     1.032148e+07\n",
       "60357    1.016307e+07\n",
       "Name: Net Generation\\n(Megawatthours), dtype: float64"
      ]
     },
     "execution_count": 130,
     "metadata": {},
     "output_type": "execute_result"
    }
   ],
   "source": [
    "gas_plants_prod['Net Generation\\n(Megawatthours)'].nlargest(n=10)"
   ]
  },
  {
   "cell_type": "code",
   "execution_count": 168,
   "metadata": {},
   "outputs": [
    {
     "data": {
      "text/plain": [
       "128"
      ]
     },
     "execution_count": 168,
     "metadata": {},
     "output_type": "execute_result"
    }
   ],
   "source": [
    "prod_fraction = []\n",
    "num_plants = 1\n",
    "total=0\n",
    "\n",
    "while total < nuclear_total:\n",
    "    total = gas_plants_prod['Net Generation\\n(Megawatthours)'].nlargest(n=num_plants).sum()\n",
    "    prod_fraction.append(total/nuclear_total)\n",
    "    num_plants+=1\n",
    "    \n",
    "    \n",
    "#plant_IDs = gas_plants_prod['Net Generation\\n(Megawatthours)'].nlargest(n=num_plants).index.tolist()\n",
    "len(prod_fraction)"
   ]
  },
  {
   "cell_type": "code",
   "execution_count": 132,
   "metadata": {},
   "outputs": [
    {
     "data": {
      "text/plain": [
       "2454"
      ]
     },
     "execution_count": 132,
     "metadata": {},
     "output_type": "execute_result"
    }
   ],
   "source": [
    "gas_plants_prod.shape[0]"
   ]
  },
  {
   "cell_type": "code",
   "execution_count": 162,
   "metadata": {},
   "outputs": [
    {
     "data": {
      "text/plain": [
       "1585716792.698"
      ]
     },
     "execution_count": 162,
     "metadata": {},
     "output_type": "execute_result"
    }
   ],
   "source": [
    "ng_total = prod_2019[prod_2019['AER\\nFuel Type Code']=='NG']['Net Generation\\n(Megawatthours)'].sum()\n",
    "ng_total"
   ]
  },
  {
   "cell_type": "markdown",
   "metadata": {},
   "source": [
    "Total nuclear electricity production is 51% of natural gas production"
   ]
  },
  {
   "cell_type": "code",
   "execution_count": 163,
   "metadata": {},
   "outputs": [
    {
     "data": {
      "text/plain": [
       "0.51043746634154"
      ]
     },
     "execution_count": 163,
     "metadata": {},
     "output_type": "execute_result"
    }
   ],
   "source": [
    "nuclear_total/ng_total"
   ]
  },
  {
   "cell_type": "code",
   "execution_count": 133,
   "metadata": {},
   "outputs": [],
   "source": [
    "num_plants = 1\n",
    "total=0\n",
    "prod_fraction =[]\n",
    "\n",
    "while num_plants < gas_plants_prod.shape[0]:\n",
    "    total = gas_plants_prod['Net Generation\\n(Megawatthours)'].nlargest(n=num_plants).sum()\n",
    "    prod_fraction.append(total/ng_total)\n",
    "    num_plants+=1"
   ]
  },
  {
   "cell_type": "code",
   "execution_count": 134,
   "metadata": {},
   "outputs": [
    {
     "data": {
      "text/plain": [
       "(0.2753024366735967,\n",
       " 0.43862178555326925,\n",
       " 0.6675711330993053,\n",
       " 0.8914405890152007)"
      ]
     },
     "execution_count": 134,
     "metadata": {},
     "output_type": "execute_result"
    }
   ],
   "source": [
    "prod_fraction[50], prod_fraction[100], prod_fraction[200], prod_fraction[400]"
   ]
  },
  {
   "cell_type": "code",
   "execution_count": 167,
   "metadata": {},
   "outputs": [
    {
     "data": {
      "image/png": "[encoded data removed]",
      "text/plain": [
       "<Figure size 720x432 with 1 Axes>"
      ]
     },
     "metadata": {
      "needs_background": "light"
     },
     "output_type": "display_data"
    }
   ],
   "source": [
    "plt.figure(figsize=(10,6))\n",
    "plt.plot(prod_fraction)\n",
    "plt.xlim(0,gas_plants_prod.shape[0])\n",
    "plt.xticks((0,200,400,800,1600,2500))\n",
    "plt.axhline(y=(nuclear_total/ng_total),color='black', linewidth=1.0, linestyle='--' )\n",
    "plt.axvline(x=128,color='black', linewidth=1.0, linestyle='--' )\n",
    "plt.ylim(0,1.05)\n",
    "plt.grid(axis='both')\n",
    "plt.xlabel(\"# of Natural Gas Plants\",fontsize=12)\n",
    "plt.ylabel(\"Fraction of Total NG Production\",fontsize=12)\n",
    "plt.show()"
   ]
  },
  {
   "cell_type": "code",
   "execution_count": 136,
   "metadata": {},
   "outputs": [
    {
     "data": {
      "text/plain": [
       "(128, 16)"
      ]
     },
     "execution_count": 136,
     "metadata": {},
     "output_type": "execute_result"
    }
   ],
   "source": [
    "gas_n128_prod = gas_plants_prod[gas_plants_prod.index.isin(gas_plants_prod['Net Generation\\n(Megawatthours)'].nlargest(n=128).index.tolist())]\n",
    "gas_n128_prod.shape"
   ]
  },
  {
   "cell_type": "code",
   "execution_count": 137,
   "metadata": {},
   "outputs": [
    {
     "data": {
      "text/plain": [
       "Index(['Plant Name', 'Plant State', 'AER\\nFuel Type Code', 'Netgen\\nJanuary',\n",
       "       'Netgen\\nFebruary', 'Netgen\\nMarch', 'Netgen\\nApril', 'Netgen\\nMay',\n",
       "       'Netgen\\nJune', 'Netgen\\nJuly', 'Netgen\\nAugust', 'Netgen\\nSeptember',\n",
       "       'Netgen\\nOctober', 'Netgen\\nNovember', 'Netgen\\nDecember',\n",
       "       'Net Generation\\n(Megawatthours)'],\n",
       "      dtype='object')"
      ]
     },
     "execution_count": 137,
     "metadata": {},
     "output_type": "execute_result"
    }
   ],
   "source": [
    "gas_n128_prod.columns"
   ]
  },
  {
   "cell_type": "code",
   "execution_count": 138,
   "metadata": {},
   "outputs": [
    {
     "data": {
      "text/plain": [
       "(128, 30)"
      ]
     },
     "execution_count": 138,
     "metadata": {},
     "output_type": "execute_result"
    }
   ],
   "source": [
    "all_gas_performance = pd.merge(gas_plants, gas_n128_prod, how='inner', left_index=True, right_index=True)\n",
    "all_gas_performance.shape"
   ]
  },
  {
   "cell_type": "code",
   "execution_count": 139,
   "metadata": {},
   "outputs": [
    {
     "data": {
      "text/plain": [
       "Index(['Plant Name_x', 'State', 'total units', 'Combined Cycle Units',\n",
       "       'Gas Turbine Units', 'Gas Engine Units', 'Gas Steam Turbine Units',\n",
       "       'Combined Cycle MW', 'Gas Turbine MW', 'Gas Engine MW',\n",
       "       'Gas Steam Turbine MW', 'Nameplate Capacity (MW)', 'Operating Year',\n",
       "       'Operating Month', 'Plant Name_y', 'Plant State', 'AER\\nFuel Type Code',\n",
       "       'Netgen\\nJanuary', 'Netgen\\nFebruary', 'Netgen\\nMarch', 'Netgen\\nApril',\n",
       "       'Netgen\\nMay', 'Netgen\\nJune', 'Netgen\\nJuly', 'Netgen\\nAugust',\n",
       "       'Netgen\\nSeptember', 'Netgen\\nOctober', 'Netgen\\nNovember',\n",
       "       'Netgen\\nDecember', 'Net Generation\\n(Megawatthours)'],\n",
       "      dtype='object')"
      ]
     },
     "execution_count": 139,
     "metadata": {},
     "output_type": "execute_result"
    }
   ],
   "source": [
    "all_gas_performance.columns"
   ]
  },
  {
   "cell_type": "code",
   "execution_count": 140,
   "metadata": {},
   "outputs": [],
   "source": [
    "all_gas_performance['cap_fact'] = all_gas_performance['Net Generation\\n(Megawatthours)']/\\\n",
    "                                (all_gas_performance['Nameplate Capacity (MW)']*24*365)"
   ]
  },
  {
   "cell_type": "code",
   "execution_count": 141,
   "metadata": {},
   "outputs": [
    {
     "data": {
      "text/plain": [
       "count    128.000000\n",
       "mean       0.611930\n",
       "std        0.131828\n",
       "min        0.329626\n",
       "25%        0.520131\n",
       "50%        0.606133\n",
       "75%        0.712018\n",
       "max        0.962151\n",
       "Name: cap_fact, dtype: float64"
      ]
     },
     "execution_count": 141,
     "metadata": {},
     "output_type": "execute_result"
    }
   ],
   "source": [
    "all_gas_performance['cap_fact'].describe()"
   ]
  },
  {
   "cell_type": "code",
   "execution_count": 142,
   "metadata": {},
   "outputs": [
    {
     "data": {
      "image/png": "[encoded data removed]",
      "text/plain": [
       "<Figure size 720x432 with 1 Axes>"
      ]
     },
     "metadata": {
      "needs_background": "light"
     },
     "output_type": "display_data"
    }
   ],
   "source": [
    "plt.figure(figsize=(10,6))\n",
    "#plt.ylim(0,1)\n",
    "#plt.axhline(y=nuclear_performance['cap_fact'].mean(),color='black', linewidth=1.0, linestyle='--' )\n",
    "plt.title(\"Capacity Factors vs. Station Capacity for Large U.S. Gas Power Stations CY2019\",fontsize=14)\n",
    "#plt.scatter(nuclear_performance['Nameplate Capacity (MW)'], nuclear_performance['cap_fact'], color=\"dodgerblue\")\n",
    "#plt.scatter(one_unit_cf['Nameplate Capacity (MW)'], one_unit_cf['cap_fact'], color=\"dodgerblue\", label=\"single unit station\")\n",
    "plt.scatter(all_gas_performance['Nameplate Capacity (MW)'], all_gas_performance['cap_fact'], color=\"dodgerblue\", label=\"Large NG\")\n",
    "plt.legend()\n",
    "plt.show()"
   ]
  },
  {
   "cell_type": "code",
   "execution_count": 158,
   "metadata": {},
   "outputs": [
    {
     "data": {
      "image/png": "[encoded data removed]",
      "text/plain": [
       "<Figure size 720x432 with 1 Axes>"
      ]
     },
     "metadata": {
      "needs_background": "light"
     },
     "output_type": "display_data"
    }
   ],
   "source": [
    "plt.figure(figsize=(10,6))\n",
    "#plt.ylim(0,1)\n",
    "#plt.axhline(y=nuclear_performance['cap_fact'].mean(),color='black', linewidth=1.0, linestyle='--' )\n",
    "plt.title(\"Capacity Factors vs. Station Rating for Large U.S. Gas & Nuclear Power Stations CY2019\",fontsize=14)\n",
    "#plt.scatter(nuclear_performance['Nameplate Capacity (MW)'], nuclear_performance['cap_fact'], color=\"dodgerblue\")\n",
    "#plt.scatter(one_unit_cf['Nameplate Capacity (MW)'], one_unit_cf['cap_fact'], color=\"dodgerblue\", label=\"single unit station\")\n",
    "plt.scatter(all_gas_performance['Nameplate Capacity (MW)'], all_gas_performance['cap_fact'], color=\"dodgerblue\", label=\"Large NG\",alpha=0.7)\n",
    "plt.scatter(nuclear_performance['Nameplate Capacity (MW)'], nuclear_performance['cap_fact'], color=\"magenta\", label=\"Nuclear\",marker='^',alpha=0.7)\n",
    "plt.xlabel('Station Rating (MW)')\n",
    "plt.legend()\n",
    "plt.show()"
   ]
  },
  {
   "cell_type": "code",
   "execution_count": 152,
   "metadata": {},
   "outputs": [
    {
     "data": {
      "image/png": "[encoded data removed]",
      "text/plain": [
       "<Figure size 720x432 with 1 Axes>"
      ]
     },
     "metadata": {
      "needs_background": "light"
     },
     "output_type": "display_data"
    }
   ],
   "source": [
    "bins1 = [x for x in np.arange(0,1.04,0.04)]\n",
    "plt.figure(figsize=(10,6))\n",
    "plt.yticks(range(0,24,3))\n",
    "plt.axvline(x=nuclear_performance['cap_fact'].mean(),color='black', linewidth=1.0, linestyle='--' )\n",
    "plt.axvline(x=all_gas_performance['cap_fact'].mean(),color='black', linewidth=1.0, linestyle='--' )\n",
    "plt.title(\"Annual Capacity Factors for U.S. Nuclear and Large NG Power Stations CY2019\",fontsize=14)\n",
    "plt.hist(nuclear_performance['cap_fact'], bins=bins1, color=\"magenta\", label='All nuclear',alpha=0.7)\n",
    "plt.hist(all_gas_performance['cap_fact'], bins=bins1, color=\"dodgerblue\", label='128 largest NG',alpha=0.6)\n",
    "plt.xlabel(\"Capacity Factor\",fontsize=12)\n",
    "plt.ylabel(\"Number of Stations\",fontsize=12)\n",
    "plt.text(0.90,19.5,\"   Nuclear \\nAve = 0.890\",fontsize=11)\n",
    "plt.text(0.62,19.5,\"       NG \\nAve = 0.612\",fontsize=11)\n",
    "plt.legend()\n",
    "plt.show()"
   ]
  },
  {
   "cell_type": "code",
   "execution_count": 145,
   "metadata": {},
   "outputs": [],
   "source": [
    "for i in range(0,12):\n",
    "    nuclear_performance[month_cf[i]] = nuclear_performance[monthly_gen[i]]/(days[i]*24*nuclear_performance['Nameplate Capacity (MW)'])"
   ]
  },
  {
   "cell_type": "code",
   "execution_count": 146,
   "metadata": {},
   "outputs": [
    {
     "name": "stdout",
     "output_type": "stream",
     "text": [
      "Jan_cf: 0.9500343740929659\n",
      "Feb_cf: 0.9235805205632873\n",
      "Mar_cf: 0.8389041447795174\n",
      "Apr_cf: 0.8069436558948662\n",
      "May_cf: 0.8652502814080447\n",
      "Jun_cf: 0.9164874714390537\n",
      "Jul_cf: 0.9306697629028039\n",
      "Aug_cf: 0.9269584709849057\n",
      "Sep_cf: 0.8799731104593854\n",
      "Oct_cf: 0.7996261645947439\n",
      "Nov_cf: 0.854156703236186\n",
      "Dec_cf: 0.9419486171401293\n"
     ]
    }
   ],
   "source": [
    "nuc_monthly_cp=[]\n",
    "for i in range(0,12):\n",
    "    monthly_cp= nuclear_performance[monthly_gen[i]].sum()/(24*days[i]*nuclear_performance['Nameplate Capacity (MW)'].sum())\n",
    "    nuc_monthly_cp.append(monthly_cp)\n",
    "    print(month_cf[i] + \": \" +str(monthly_cp))"
   ]
  },
  {
   "cell_type": "code",
   "execution_count": 147,
   "metadata": {},
   "outputs": [],
   "source": [
    "for i in range(0,12):\n",
    "    all_gas_performance[month_cf[i]] = all_gas_performance[monthly_gen[i]]/(days[i]*24*all_gas_performance['Nameplate Capacity (MW)'])"
   ]
  },
  {
   "cell_type": "code",
   "execution_count": 148,
   "metadata": {},
   "outputs": [
    {
     "name": "stdout",
     "output_type": "stream",
     "text": [
      "Jan_cf: 0.5619433643151152\n",
      "Feb_cf: 0.5831289955870586\n",
      "Mar_cf: 0.5340706486986789\n",
      "Apr_cf: 0.4771985589152753\n",
      "May_cf: 0.5492293339569496\n",
      "Jun_cf: 0.6357205981600303\n",
      "Jul_cf: 0.695872832638702\n",
      "Aug_cf: 0.7003924887652117\n",
      "Sep_cf: 0.6417417557305681\n",
      "Oct_cf: 0.5573930924181972\n",
      "Nov_cf: 0.5383314248666696\n",
      "Dec_cf: 0.5942031308012263\n"
     ]
    }
   ],
   "source": [
    "gas_monthly_cp=[]\n",
    "for i in range(0,12):\n",
    "    monthly_cp= all_gas_performance[monthly_gen[i]].sum()/(24*days[i]*all_gas_performance['Nameplate Capacity (MW)'].sum())\n",
    "    gas_monthly_cp.append(monthly_cp)\n",
    "    print(month_cf[i] + \": \" +str(monthly_cp))"
   ]
  },
  {
   "cell_type": "code",
   "execution_count": 149,
   "metadata": {},
   "outputs": [
    {
     "data": {
      "text/plain": [
       "([0.9500343740929659,\n",
       "  0.9235805205632873,\n",
       "  0.8389041447795174,\n",
       "  0.8069436558948662,\n",
       "  0.8652502814080447,\n",
       "  0.9164874714390537,\n",
       "  0.9306697629028039,\n",
       "  0.9269584709849057,\n",
       "  0.8799731104593854,\n",
       "  0.7996261645947439,\n",
       "  0.854156703236186,\n",
       "  0.9419486171401293],\n",
       " [0.5619433643151152,\n",
       "  0.5831289955870586,\n",
       "  0.5340706486986789,\n",
       "  0.4771985589152753,\n",
       "  0.5492293339569496,\n",
       "  0.6357205981600303,\n",
       "  0.695872832638702,\n",
       "  0.7003924887652117,\n",
       "  0.6417417557305681,\n",
       "  0.5573930924181972,\n",
       "  0.5383314248666696,\n",
       "  0.5942031308012263])"
      ]
     },
     "execution_count": 149,
     "metadata": {},
     "output_type": "execute_result"
    }
   ],
   "source": [
    "nuc_monthly_cp, gas_monthly_cp"
   ]
  },
  {
   "cell_type": "code",
   "execution_count": 150,
   "metadata": {},
   "outputs": [],
   "source": [
    "monthly_delta = np.array(nuc_monthly_cp)-np.array(gas_monthly_cp)"
   ]
  },
  {
   "cell_type": "code",
   "execution_count": 161,
   "metadata": {},
   "outputs": [
    {
     "data": {
      "image/png": "[encoded data removed]",
      "text/plain": [
       "<Figure size 720x432 with 1 Axes>"
      ]
     },
     "metadata": {
      "needs_background": "light"
     },
     "output_type": "display_data"
    }
   ],
   "source": [
    "month_list = ['Jan','Feb','Mar','Apr','May','June','July','Aug','Sept','Oct','Nov','Dec']\n",
    "plt.figure(figsize=(10,6))\n",
    "plt.title(\"Monthly Capacity Factor\",fontsize=14)\n",
    "plt.ylim(0,1)\n",
    "plt.ylabel('Capacity Factor', fontsize=12)\n",
    "plt.xlim(0,11)\n",
    "plt.grid(axis='both')\n",
    "plt.axhline(y=nuclear_performance['cap_fact'].mean(),color='black', linewidth=1.0, linestyle='--' )\n",
    "plt.axhline(y=all_gas_performance['cap_fact'].mean(),color='black', linewidth=1.0, linestyle='--' )\n",
    "plt.axhline(y=monthly_delta.mean(),color='black', linewidth=1.0, linestyle='--' , label='Average')\n",
    "plt.plot(range(0,12,1), nuc_monthly_cp, label='Nuclear',color='magenta')\n",
    "plt.plot(month_list, gas_monthly_cp, label=\"Large NG\", color='dodgerblue')\n",
    "plt.plot(month_list, monthly_delta, label=\"difference\",color='lime')\n",
    "plt.legend()\n",
    "plt.show()"
   ]
  },
  {
   "cell_type": "code",
   "execution_count": null,
   "metadata": {},
   "outputs": [],
   "source": []
  }
 ],
 "metadata": {
  "kernelspec": {
   "display_name": "Python 3",
   "language": "python",
   "name": "python3"
  },
  "language_info": {
   "codemirror_mode": {
    "name": "ipython",
    "version": 3
   },
   "file_extension": ".py",
   "mimetype": "text/x-python",
   "name": "python",
   "nbconvert_exporter": "python",
   "pygments_lexer": "ipython3",
   "version": "3.8.3"
  }
 },
 "nbformat": 4,
 "nbformat_minor": 4
}
