{
 "cells": [
  {
   "cell_type": "code",
   "execution_count": 6,
   "metadata": {
    "collapsed": true
   },
   "outputs": [],
   "source": [
    "import pandas as pd\n",
    "import numpy as np\n",
    "from decimal import Decimal\n",
    "from pandas import ExcelWriter\n",
    "from pandas import ExcelFile\n",
    "import datetime\n",
    "import matplotlib.pyplot as plt\n",
    "import matplotlib.style as style"
   ]
  },
  {
   "cell_type": "markdown",
   "metadata": {},
   "source": [
    "Annual production data is from United States Energy Information Administration (EIA.gov) form 923 (Annual production data)\n",
    "download at:\n",
    "https://www.eia.gov/electricity/data/eia923/"
   ]
  },
  {
   "cell_type": "code",
   "execution_count": 7,
   "metadata": {},
   "outputs": [],
   "source": [
    "production_2019 = pd.read_excel(\"EIA923_Schedules_2_3_4_5_M_12_2019_21FEB2020.xlsx\",skiprows=5)\n",
    "production_2018 = pd.read_excel(\"EIA923_Schedules_2_3_4_5_M_12_2018_Final_Revision.xlsx\",skiprows=5)\n",
    "production_2017 = pd.read_excel(\"EIA923_Schedules_2_3_4_5_M_12_2017_Final_Revision.xlsx\",skiprows=5)\n",
    "production_2016 = pd.read_excel(\"EIA923_Schedules_2_3_4_5_M_12_2016_Final_Revision.xlsx\",skiprows=5)\n",
    "production_2012 = pd.read_excel(\"EIA923_Schedules_2_3_4_5_M_12_2012_Final_Revision.xlsx\",skiprows=5)"
   ]
  },
  {
   "cell_type": "code",
   "execution_count": 8,
   "metadata": {},
   "outputs": [
    {
     "data": {
      "text/plain": [
       "((6384, 97), (13962, 97), (13379, 97), (12865, 97), (11004, 97))"
      ]
     },
     "execution_count": 8,
     "metadata": {},
     "output_type": "execute_result"
    }
   ],
   "source": [
    "production_2019.shape, production_2018.shape, production_2017.shape, production_2016.shape, production_2012.shape\n"
   ]
  },
  {
   "cell_type": "code",
   "execution_count": 9,
   "metadata": {
    "collapsed": true
   },
   "outputs": [],
   "source": [
    "prod_columns =['Plant Id','Plant Name', 'Operator Name','Plant State','Reported\\nPrime Mover',\\\n",
    "       'Reported\\nFuel Type Code', 'AER\\nFuel Type Code','Netgen\\nJanuary', 'Netgen\\nFebruary', 'Netgen\\nMarch', \\\n",
    "        'Netgen\\nApril','Netgen\\nMay', 'Netgen\\nJune', 'Netgen\\nJuly', 'Netgen\\nAugust','Netgen\\nSeptember', \\\n",
    "        'Netgen\\nOctober', 'Netgen\\nNovember','Netgen\\nDecember','Net Generation\\n(Megawatthours)','YEAR']"
   ]
  },
  {
   "cell_type": "code",
   "execution_count": 28,
   "metadata": {
    "collapsed": true
   },
   "outputs": [],
   "source": [
    "prod_2019_sum = production_2019[prod_columns].copy()\n",
    "prod_2018_sum = production_2018[prod_columns].copy()\n",
    "prod_2017_sum = production_2017[prod_columns].copy()\n",
    "prod_2016_sum = production_2016[prod_columns].copy()\n",
    "prod_2012_sum = production_2012[prod_columns].copy()"
   ]
  },
  {
   "cell_type": "markdown",
   "metadata": {},
   "source": [
    "Let's filter the data down just to nuclear power sources."
   ]
  },
  {
   "cell_type": "code",
   "execution_count": 29,
   "metadata": {},
   "outputs": [],
   "source": [
    "nuc_2019_prod = prod_2019_sum[prod_2019_sum['Reported\\nFuel Type Code'] == 'NUC']\n",
    "nuc_2018_prod = prod_2018_sum[prod_2018_sum['Reported\\nFuel Type Code'] == 'NUC']\n",
    "nuc_2017_prod = prod_2017_sum[prod_2017_sum['Reported\\nFuel Type Code'] == 'NUC']\n",
    "nuc_2016_prod = prod_2016_sum[prod_2016_sum['Reported\\nFuel Type Code'] == 'NUC']\n",
    "nuc_2012_prod = prod_2012_sum[prod_2012_sum['Reported\\nFuel Type Code'] == 'NUC']"
   ]
  },
  {
   "cell_type": "code",
   "execution_count": 30,
   "metadata": {},
   "outputs": [
    {
     "data": {
      "text/plain": [
       "('2019: 8.09E+8 MW-hr',\n",
       " '2018: 8.07E+8 MW-hr',\n",
       " '2017: 8.05E+8 MW-hr',\n",
       " '2016: 8.06E+8 MW-hr',\n",
       " '2012: 7.69E+8 MW-hr')"
      ]
     },
     "execution_count": 30,
     "metadata": {},
     "output_type": "execute_result"
    }
   ],
   "source": [
    "prod_total_19 = nuc_2019_prod['Net Generation\\n(Megawatthours)'].sum()\n",
    "prod_total_18 = nuc_2018_prod['Net Generation\\n(Megawatthours)'].sum()\n",
    "prod_total_17 = nuc_2017_prod['Net Generation\\n(Megawatthours)'].sum()\n",
    "prod_total_16 = nuc_2016_prod['Net Generation\\n(Megawatthours)'].sum()\n",
    "prod_total_12 = nuc_2012_prod['Net Generation\\n(Megawatthours)'].sum()\n",
    "\n",
    "from decimal import Decimal\n",
    "\"2019: {:.2E} MW-hr\".format(Decimal(str(prod_total_19))), \\\n",
    "\"2018: {:.2E} MW-hr\".format(Decimal(str(prod_total_18))), \\\n",
    "\"2017: {:.2E} MW-hr\".format(Decimal(str(prod_total_17))), \\\n",
    "\"2016: {:.2E} MW-hr\".format(Decimal(str(prod_total_16))), \\\n",
    "\"2012: {:.2E} MW-hr\".format(Decimal(str(prod_total_12))), \\"
   ]
  },
  {
   "cell_type": "markdown",
   "metadata": {},
   "source": [
    "Electricity generation from nuclear has been very consistent over recent years.  Actually increasing slightly since 2012."
   ]
  },
  {
   "cell_type": "code",
   "execution_count": 47,
   "metadata": {},
   "outputs": [
    {
     "data": {
      "text/plain": [
       "(98, 21)"
      ]
     },
     "execution_count": 47,
     "metadata": {},
     "output_type": "execute_result"
    }
   ],
   "source": [
    "nuc_2019_prod.shape"
   ]
  },
  {
   "cell_type": "code",
   "execution_count": 48,
   "metadata": {},
   "outputs": [
    {
     "data": {
      "text/plain": [
       "(104, 21)"
      ]
     },
     "execution_count": 48,
     "metadata": {},
     "output_type": "execute_result"
    }
   ],
   "source": [
    "nuc_2012_prod.shape"
   ]
  },
  {
   "cell_type": "code",
   "execution_count": 46,
   "metadata": {},
   "outputs": [],
   "source": [
    "Plant_list_2019 = nuc_2019_prod['Plant Name'].values.tolist()\n",
    "Plant_list_2012 = nuc_2012_prod['Plant Name'].values.tolist()"
   ]
  },
  {
   "cell_type": "code",
   "execution_count": 50,
   "metadata": {
    "scrolled": true
   },
   "outputs": [
    {
     "data": {
      "text/plain": [
       "{'Crystal River',\n",
       " 'Fort Calhoun',\n",
       " 'Kewaunee',\n",
       " 'Oyster Creek',\n",
       " 'San Onofre Nuclear Generating Station',\n",
       " 'Vermont Yankee'}"
      ]
     },
     "execution_count": 50,
     "metadata": {},
     "output_type": "execute_result"
    }
   ],
   "source": [
    "set(Plant_list_2019).symmetric_difference(set(Plant_list_2012))"
   ]
  },
  {
   "cell_type": "markdown",
   "metadata": {
    "collapsed": true
   },
   "source": [
    "As shown above, six plants have shutdown since 2012.  Two more plants actually shutdown during calendar 2019, Pilgrim and Three Mile Island (TMI).  But the overall electricity production from nuclear has still managed to increase during this period.  How was the industry able to increase output with less operating plants?"
   ]
  },
  {
   "cell_type": "markdown",
   "metadata": {},
   "source": [
    "Let's look at plant nameplate capacity data available from the Energy Information Administation\n",
    "https://www.eia.gov/electricity/data/eia860/ for several of these years."
   ]
  },
  {
   "cell_type": "code",
   "execution_count": 56,
   "metadata": {
    "collapsed": true
   },
   "outputs": [],
   "source": [
    "nameplate_2018 = pd.read_excel(\"3_1_Generator_Y2018.xlsx\", skiprows=1)\n",
    "nameplate_2017 = pd.read_excel(\"3_1_Generator_Y2017.xlsx\", skiprows=1)\n",
    "nameplate_2012 = pd.read_excel(\"GeneratorY2012.xlsx\", skiprows=1)"
   ]
  },
  {
   "cell_type": "code",
   "execution_count": 91,
   "metadata": {
    "collapsed": true
   },
   "outputs": [],
   "source": [
    "nuc_MW_18 = nameplate_2018[nameplate_2018['Energy Source 1'] == 'NUC'].copy()\n",
    "nuc_MW_17 = nameplate_2017[nameplate_2017['Energy Source 1'] == 'NUC'].copy()\n",
    "nuc_MW_12 = nameplate_2012[nameplate_2012['Energy Source 1'] == 'NUC'].copy()"
   ]
  },
  {
   "cell_type": "code",
   "execution_count": 93,
   "metadata": {},
   "outputs": [
    {
     "data": {
      "text/plain": [
       "('2018: 1.043E+5 MW', '2017: 1.048E+5 MW', '2012: 1.079E+5 MW')"
      ]
     },
     "execution_count": 93,
     "metadata": {},
     "output_type": "execute_result"
    }
   ],
   "source": [
    "name_total_18 = nuc_MW_18['Nameplate Capacity (MW)'].sum()\n",
    "name_total_17 = nuc_MW_17['Nameplate Capacity (MW)'].sum()\n",
    "name_total_12 = nuc_MW_12['Nameplate Capacity (MW)'].sum()\n",
    "\n",
    "from decimal import Decimal\n",
    "\"2018: {:.3E} MW\".format(Decimal(str(name_total_18))), \\\n",
    "\"2017: {:.3E} MW\".format(Decimal(str(name_total_17))), \\\n",
    "\"2012: {:.3E} MW\".format(Decimal(str(name_total_12))), \\"
   ]
  },
  {
   "cell_type": "markdown",
   "metadata": {},
   "source": [
    "Based on this data, the overall Nameplate capacity (power producing capability) decreased, but not very much considering six plants permanently shut down.  Let's investigate further to make sure everything is correct."
   ]
  },
  {
   "cell_type": "code",
   "execution_count": 72,
   "metadata": {},
   "outputs": [],
   "source": [
    "Nameplate_dict_18 = nuc_MW_18.groupby('Plant Name')['Nameplate Capacity (MW)'].sum().to_dict()\n",
    "Nameplate_dict_12 = nuc_MW_12.groupby('Plant Name')['Nameplate Capacity (MW)'].sum().to_dict()"
   ]
  },
  {
   "cell_type": "code",
   "execution_count": 77,
   "metadata": {},
   "outputs": [
    {
     "name": "stdout",
     "output_type": "stream",
     "text": [
      "Watts Bar Nuclear Plant 1269.9\n",
      "Three Mile Island 5.2\n",
      "Turkey Point -117.2\n",
      "Palo Verde 0.300000000001\n",
      "Peach Bottom 557.0\n",
      "James A Fitzpatrick 1.3\n"
     ]
    },
    {
     "data": {
      "text/plain": [
       "['PPL Susquehanna',\n",
       " 'Cooper',\n",
       " 'San Onofre Nuclear Generating Station',\n",
       " 'Vermont Yankee',\n",
       " 'Oyster Creek',\n",
       " 'Brunswick',\n",
       " 'Crystal River',\n",
       " 'Kewaunee',\n",
       " 'Monticello',\n",
       " 'Fort Calhoun',\n",
       " 'TalenEnergy Susquehanna',\n",
       " 'Cooper Nuclear Station',\n",
       " 'Brunswick Nuclear',\n",
       " 'Monticello Nuclear Facility']"
      ]
     },
     "execution_count": 77,
     "metadata": {},
     "output_type": "execute_result"
    }
   ],
   "source": [
    "uprates_dict = {}\n",
    "diff_list = []\n",
    "for key in Nameplate_dict_12:\n",
    "    if key in Nameplate_dict_18:\n",
    "        diff = Nameplate_dict_18[key] - Nameplate_dict_12[key]\n",
    "        if diff != 0:\n",
    "            uprates_dict[key] = diff\n",
    "    else:\n",
    "        diff_list.append(key)\n",
    "        \n",
    "for key in Nameplate_dict_18:\n",
    "    if key not in Nameplate_dict_12:\n",
    "        diff_list.append(key)\n",
    "\n",
    "for key in uprates_dict:\n",
    "    print(key, uprates_dict[key])\n",
    "    \n",
    "diff_list"
   ]
  },
  {
   "cell_type": "markdown",
   "metadata": {},
   "source": [
    "There appear to be a couple of explanations for the small decrease.  Notice Watts Bar nameplate increased by 1269.9 MW.  This is because a second unit came online at Watts Bar in 2016 (https://en.wikipedia.org/wiki/Watts_Bar_Nuclear_Plant).  This was the first new nuclear plant in over 20 years.  Also notice power increases at several plants due to power uprates.  Information on power uprates is available at https://www.nrc.gov/reactors/operating/licensing/power-uprates/status-power-apps.html"
   ]
  },
  {
   "cell_type": "markdown",
   "metadata": {},
   "source": [
    "We see the shutdown plants when we look at differences between the nameplate ratings for 2012 and 2018, and also that several plants reported under different names for each year, e.g. 'TalenEnergy Susquehanna' vs. 'PPL Susquehanna'.  Let's fix these name discrepancies and make sure we didn't miss anything."
   ]
  },
  {
   "cell_type": "code",
   "execution_count": 78,
   "metadata": {},
   "outputs": [
    {
     "data": {
      "text/plain": [
       "{'Brunswick': 'Brunswick Nuclear',\n",
       " 'Brunswick Nuclear': 'Brunswick Nuclear',\n",
       " 'Cooper': 'Cooper Nuclear Station',\n",
       " 'Cooper Nuclear Station': 'Cooper Nuclear Station',\n",
       " 'Monticello': 'Monticello Nuclear Facility',\n",
       " 'Monticello Nuclear Facility': 'Monticello Nuclear Facility',\n",
       " 'PPL Susquehanna': 'Susquehanna',\n",
       " 'TalenEnergy Susquehanna': 'Susquehanna'}"
      ]
     },
     "execution_count": 78,
     "metadata": {},
     "output_type": "execute_result"
    }
   ],
   "source": [
    "name_fix = dict.fromkeys(['Monticello Nuclear Facility','Monticello'], 'Monticello Nuclear Facility')\n",
    "\n",
    "name_fix.update(dict.fromkeys(['Brunswick','Brunswick Nuclear'], 'Brunswick Nuclear'))\n",
    "name_fix.update(dict.fromkeys(['Cooper','Cooper Nuclear Station'], 'Cooper Nuclear Station'))\n",
    "name_fix.update(dict.fromkeys(['TalenEnergy Susquehanna','PPL Susquehanna'], 'Susquehanna'))\n",
    "name_fix"
   ]
  },
  {
   "cell_type": "code",
   "execution_count": 83,
   "metadata": {},
   "outputs": [],
   "source": [
    "nuc_MW_12['Plant Name'].replace(to_replace = name_fix, inplace=True)\n",
    "nuc_MW_18['Plant Name'].replace(to_replace = name_fix, inplace=True)"
   ]
  },
  {
   "cell_type": "code",
   "execution_count": 84,
   "metadata": {
    "collapsed": true
   },
   "outputs": [],
   "source": [
    "Nameplate_dict_18 = nuc_MW_18.groupby('Plant Name')['Nameplate Capacity (MW)'].sum().to_dict()\n",
    "Nameplate_dict_12 = nuc_MW_12.groupby('Plant Name')['Nameplate Capacity (MW)'].sum().to_dict()"
   ]
  },
  {
   "cell_type": "code",
   "execution_count": 88,
   "metadata": {},
   "outputs": [
    {
     "data": {
      "text/plain": [
       "(66, 60)"
      ]
     },
     "execution_count": 88,
     "metadata": {},
     "output_type": "execute_result"
    }
   ],
   "source": [
    "len(Nameplate_dict_12), len(Nameplate_dict_18)"
   ]
  },
  {
   "cell_type": "code",
   "execution_count": 85,
   "metadata": {},
   "outputs": [
    {
     "name": "stdout",
     "output_type": "stream",
     "text": [
      "Peach Bottom 557.0\n",
      "Three Mile Island 5.2\n",
      "Turkey Point -117.2\n",
      "Palo Verde 0.300000000001\n",
      "Watts Bar Nuclear Plant 1269.9\n",
      "Susquehanna -64.0\n",
      "James A Fitzpatrick 1.3\n"
     ]
    },
    {
     "data": {
      "text/plain": [
       "['San Onofre Nuclear Generating Station',\n",
       " 'Vermont Yankee',\n",
       " 'Oyster Creek',\n",
       " 'Crystal River',\n",
       " 'Kewaunee',\n",
       " 'Fort Calhoun']"
      ]
     },
     "execution_count": 85,
     "metadata": {},
     "output_type": "execute_result"
    }
   ],
   "source": [
    "uprates_dict = {}\n",
    "diff_list = []\n",
    "for key in Nameplate_dict_12:\n",
    "    if key in Nameplate_dict_18:\n",
    "        diff = Nameplate_dict_18[key] - Nameplate_dict_12[key]\n",
    "        if diff != 0:\n",
    "            uprates_dict[key] = diff\n",
    "    else:\n",
    "        diff_list.append(key)\n",
    "        \n",
    "for key in Nameplate_dict_18:\n",
    "    if key not in Nameplate_dict_12:\n",
    "        diff_list.append(key)\n",
    "\n",
    "for key in uprates_dict:\n",
    "    print(key, uprates_dict[key])\n",
    "    \n",
    "diff_list"
   ]
  },
  {
   "cell_type": "markdown",
   "metadata": {},
   "source": [
    "Cleaning up the name discrepancies clarifies the differences.  We have a list of plant uprates and a list of shutdown plants.  Everything makes sense."
   ]
  },
  {
   "cell_type": "code",
   "execution_count": 94,
   "metadata": {},
   "outputs": [
    {
     "name": "stdout",
     "output_type": "stream",
     "text": [
      "San Onofre Nuclear Generating Station 2254.0\n",
      "Vermont Yankee 563.4\n",
      "Oyster Creek 550.0\n",
      "Crystal River 890.4\n",
      "Kewaunee 560.1\n",
      "Fort Calhoun 502.0\n"
     ]
    },
    {
     "data": {
      "text/plain": [
       "5319.9000000000005"
      ]
     },
     "execution_count": 94,
     "metadata": {},
     "output_type": "execute_result"
    }
   ],
   "source": [
    "shutdown_nameplate = 0\n",
    "for i in diff_list:\n",
    "    shutdown_nameplate += Nameplate_dict_12[i]\n",
    "    print(i, Nameplate_dict_12[i])\n",
    "    \n",
    "shutdown_nameplate"
   ]
  },
  {
   "cell_type": "markdown",
   "metadata": {},
   "source": [
    "This list above shows the nameplate capacity of the shutdown plants.  A total loss of 5319 MW of generating capacity, but this was partially offest by a new unit at Watts Bar and a major uprate at Peach Bottom."
   ]
  },
  {
   "cell_type": "markdown",
   "metadata": {},
   "source": [
    "Finally, let's look at capacity factor, this the ratio of actual power a plant produces compared to it's nameplate.  A capacity factor of 1.0 would indicate a plant was able to operate 24 hrs a day, 365 days per year with no downtime."
   ]
  },
  {
   "cell_type": "code",
   "execution_count": 96,
   "metadata": {},
   "outputs": [
    {
     "data": {
      "text/plain": [
       "0.8835979135398567"
      ]
     },
     "execution_count": 96,
     "metadata": {},
     "output_type": "execute_result"
    }
   ],
   "source": [
    "prod_total_18/(24*365*name_total_18)"
   ]
  },
  {
   "cell_type": "code",
   "execution_count": 97,
   "metadata": {},
   "outputs": [
    {
     "data": {
      "text/plain": [
       "0.8768691979544897"
      ]
     },
     "execution_count": 97,
     "metadata": {},
     "output_type": "execute_result"
    }
   ],
   "source": [
    "prod_total_17/(24*365*name_total_17)"
   ]
  },
  {
   "cell_type": "code",
   "execution_count": 98,
   "metadata": {},
   "outputs": [
    {
     "data": {
      "text/plain": [
       "0.8136479034241941"
      ]
     },
     "execution_count": 98,
     "metadata": {},
     "output_type": "execute_result"
    }
   ],
   "source": [
    "prod_total_12/(24*365*name_total_12)"
   ]
  },
  {
   "cell_type": "markdown",
   "metadata": {},
   "source": [
    "So the loss of operating capacity was offset by improved capacity factors.  There has been almost a 10% improvement since 2012. It should be noted that 2012 total capacity (name_total_12) includes Crystal River, however Crystal River did not operate at all between 2010 and 2013 (it was officially inactivated in 2013), so the capacity factor reported for 2012 is slightly lower than reality (it isn't objectively fair to count an effecitvely inactivated plant agains the industry metric for plant performance).  Likewise the capacity factor calculated for 2018 was slightly higher than reality, because Oyster Creek (which shutdown in September 2018) did not report its nameplate capacity in EIA-860.  The 2017 capaciy factor is accurate as there were no inactivations in 2017.  Let's clean up these minor errors and get more accurate values for capacity factor.\n"
   ]
  },
  {
   "cell_type": "code",
   "execution_count": 105,
   "metadata": {},
   "outputs": [
    {
     "data": {
      "text/plain": [
       "False"
      ]
     },
     "execution_count": 105,
     "metadata": {},
     "output_type": "execute_result"
    }
   ],
   "source": [
    "check18 = nuc_MW_18['Plant Name'].tolist()\n",
    "'Oyster Creek' in check18"
   ]
  },
  {
   "cell_type": "code",
   "execution_count": 106,
   "metadata": {},
   "outputs": [
    {
     "data": {
      "text/plain": [
       "True"
      ]
     },
     "execution_count": 106,
     "metadata": {},
     "output_type": "execute_result"
    }
   ],
   "source": [
    "check12 = nuc_MW_12['Plant Name'].tolist()\n",
    "'Crystal River' in check12"
   ]
  },
  {
   "cell_type": "code",
   "execution_count": 109,
   "metadata": {},
   "outputs": [
    {
     "data": {
      "text/plain": [
       "(0.8789616043890736, 0.8768691979544897, 0.8204156852364124)"
      ]
     },
     "execution_count": 109,
     "metadata": {},
     "output_type": "execute_result"
    }
   ],
   "source": [
    "prod_total_18/(24*365*(name_total_18+ 550)), prod_total_17/(24*365*name_total_17), prod_total_12/(24*365*(name_total_12-890.4))"
   ]
  },
  {
   "cell_type": "markdown",
   "metadata": {},
   "source": [
    "These are the corrected values.  Still an impressive improvement in capacity factor between 2012 and 2018."
   ]
  },
  {
   "cell_type": "code",
   "execution_count": null,
   "metadata": {
    "collapsed": true
   },
   "outputs": [],
   "source": []
  }
 ],
 "metadata": {
  "anaconda-cloud": {},
  "kernelspec": {
   "display_name": "Python [default]",
   "language": "python",
   "name": "python3"
  },
  "language_info": {
   "codemirror_mode": {
    "name": "ipython",
    "version": 3
   },
   "file_extension": ".py",
   "mimetype": "text/x-python",
   "name": "python",
   "nbconvert_exporter": "python",
   "pygments_lexer": "ipython3",
   "version": "3.5.2"
  }
 },
 "nbformat": 4,
 "nbformat_minor": 1
}
