{
 "cells": [
  {
   "cell_type": "code",
   "execution_count": 1,
   "metadata": {
    "collapsed": true
   },
   "outputs": [],
   "source": [
    "import pandas as pd\n",
    "import numpy as np\n",
    "from decimal import Decimal\n",
    "from pandas import ExcelWriter\n",
    "from pandas import ExcelFile\n",
    "import datetime\n",
    "import matplotlib.pyplot as plt\n",
    "import matplotlib.style as style"
   ]
  },
  {
   "cell_type": "markdown",
   "metadata": {},
   "source": [
    "2019 Annual data for plant nameplate is not available until at least June 2020, therefore 2018 is most recent annual data available for capacity factor evaluations.  Generator information (Plant nameplate capacities) is taken from EIA Form 860 (Generator information) (available at https://www.eia.gov/electricity/data/eia860/) and production data is from EIA form 923 (available at https://www.eia.gov/electricity/data/eia923/)."
   ]
  },
  {
   "cell_type": "code",
   "execution_count": 2,
   "metadata": {
    "collapsed": true
   },
   "outputs": [],
   "source": [
    "nameplate_2018 = pd.read_excel(\"3_1_Generator_Y2018.xlsx\", skiprows=1)\n",
    "production_2018 = pd.read_excel(\"EIA923_Schedules_2_3_4_5_M_12_2018_Final_Revision.xlsx\",skiprows=5)\n",
    "#production_2018.head()\n",
    "#nameplate_2018.head()"
   ]
  },
  {
   "cell_type": "code",
   "execution_count": 3,
   "metadata": {},
   "outputs": [
    {
     "data": {
      "text/plain": [
       "(13962, 97)"
      ]
     },
     "execution_count": 3,
     "metadata": {},
     "output_type": "execute_result"
    }
   ],
   "source": [
    "production_2018.shape"
   ]
  },
  {
   "cell_type": "code",
   "execution_count": 4,
   "metadata": {},
   "outputs": [
    {
     "data": {
      "text/plain": [
       "(22119, 73)"
      ]
     },
     "execution_count": 4,
     "metadata": {},
     "output_type": "execute_result"
    }
   ],
   "source": [
    "nameplate_2018.shape"
   ]
  },
  {
   "cell_type": "code",
   "execution_count": 5,
   "metadata": {
    "collapsed": true
   },
   "outputs": [],
   "source": [
    "name_columns = ['Utility ID', 'Utility Name', 'Plant Code', 'Plant Name', 'Operating Year',\\\n",
    "            'State','County','Technology','Prime Mover','Energy Source 1','Nameplate Capacity (MW)']"
   ]
  },
  {
   "cell_type": "code",
   "execution_count": 6,
   "metadata": {
    "collapsed": true
   },
   "outputs": [],
   "source": [
    "prod_columns =['Plant Id','Plant Name', 'Operator Name','Plant State','Reported\\nPrime Mover',\\\n",
    "       'Reported\\nFuel Type Code', 'AER\\nFuel Type Code','Netgen\\nJanuary', 'Netgen\\nFebruary', 'Netgen\\nMarch', \\\n",
    "        'Netgen\\nApril','Netgen\\nMay', 'Netgen\\nJune', 'Netgen\\nJuly', 'Netgen\\nAugust','Netgen\\nSeptember', \\\n",
    "        'Netgen\\nOctober', 'Netgen\\nNovember','Netgen\\nDecember','Net Generation\\n(Megawatthours)','YEAR']"
   ]
  },
  {
   "cell_type": "code",
   "execution_count": 7,
   "metadata": {
    "collapsed": true
   },
   "outputs": [],
   "source": [
    "nameplate_2018_sum = nameplate_2018[name_columns].copy()\n",
    "prod_2018_sum = production_2018[prod_columns].copy()"
   ]
  },
  {
   "cell_type": "code",
   "execution_count": 8,
   "metadata": {
    "collapsed": true
   },
   "outputs": [],
   "source": [
    "monthly = ['Netgen\\nJanuary', 'Netgen\\nFebruary', 'Netgen\\nMarch', 'Netgen\\nApril','Netgen\\nMay', 'Netgen\\nJune', \\\n",
    "           'Netgen\\nJuly', 'Netgen\\nAugust','Netgen\\nSeptember','Netgen\\nOctober', 'Netgen\\nNovember','Netgen\\nDecember']"
   ]
  },
  {
   "cell_type": "code",
   "execution_count": 9,
   "metadata": {
    "collapsed": true
   },
   "outputs": [],
   "source": [
    "for i in monthly:\n",
    "    prod_2018_sum[i] = pd.to_numeric(prod_2018_sum[i], errors = 'coerce')"
   ]
  },
  {
   "cell_type": "markdown",
   "metadata": {},
   "source": [
    "Overall 2018 Electricity Production in US (MW-hrs)"
   ]
  },
  {
   "cell_type": "code",
   "execution_count": 10,
   "metadata": {},
   "outputs": [
    {
     "data": {
      "text/plain": [
       "'2018: 4.17E+9 MW-hr'"
      ]
     },
     "execution_count": 10,
     "metadata": {},
     "output_type": "execute_result"
    }
   ],
   "source": [
    "prod_total_18 = prod_2018_sum['Net Generation\\n(Megawatthours)'].sum()\n",
    "\"2018: {:.2E} MW-hr\".format(Decimal(str(prod_total_18)))"
   ]
  },
  {
   "cell_type": "code",
   "execution_count": 11,
   "metadata": {},
   "outputs": [
    {
     "data": {
      "text/plain": [
       "NG     3291\n",
       "SUN    2780\n",
       "DFO    2355\n",
       "WAT    1480\n",
       "WND    1117\n",
       "BIT     414\n",
       "LFG     389\n",
       "SUB     252\n",
       "WDS     241\n",
       "RFO     221\n",
       "OBG     143\n",
       "MWH     123\n",
       "OG      119\n",
       "NUC      99\n",
       "BLQ      94\n",
       "KER      80\n",
       "GEO      72\n",
       "MSB      69\n",
       "MSN      69\n",
       "JF       63\n",
       "RC       59\n",
       "PC       54\n",
       "TDF      50\n",
       "WO       47\n",
       "PG       41\n",
       "WH       37\n",
       "WC       29\n",
       "LIG      26\n",
       "OBS      25\n",
       "OTH      24\n",
       "SLW      23\n",
       "AB       22\n",
       "OBL      18\n",
       "PUR      13\n",
       "BFG      12\n",
       "SGC       4\n",
       "WDL       3\n",
       "SC        3\n",
       "SGP       1\n",
       "Name: Reported\\nFuel Type Code, dtype: int64"
      ]
     },
     "execution_count": 11,
     "metadata": {},
     "output_type": "execute_result"
    }
   ],
   "source": [
    "prod_2018_sum['Reported\\nFuel Type Code'].value_counts()"
   ]
  },
  {
   "cell_type": "markdown",
   "metadata": {},
   "source": [
    "There were 99 Nuclear (NUC) units and 2780 Solar (SUN) plant units operating in 2018. Note that a given plant may be comprised of multiple units, this analysis will be based on aggregating individual unit data to plant level information.  This is more appropriate to understand the number of standalone power stations and performance at a given plant location.  What was overall 2018 production for nuclear and solar?"
   ]
  },
  {
   "cell_type": "code",
   "execution_count": 12,
   "metadata": {},
   "outputs": [
    {
     "data": {
      "text/plain": [
       "'2018 Solar: 6.38E+7 MW-hr'"
      ]
     },
     "execution_count": 12,
     "metadata": {},
     "output_type": "execute_result"
    }
   ],
   "source": [
    "sun = prod_2018_sum[prod_2018_sum['Reported\\nFuel Type Code'] == 'SUN']['Net Generation\\n(Megawatthours)'].sum()\n",
    "\"2018 Solar: {:.2E} MW-hr\".format(Decimal(str(sun)))"
   ]
  },
  {
   "cell_type": "code",
   "execution_count": 13,
   "metadata": {},
   "outputs": [
    {
     "data": {
      "text/plain": [
       "'2018 Nuclear: 8.07E+8 MW-hr'"
      ]
     },
     "execution_count": 13,
     "metadata": {},
     "output_type": "execute_result"
    }
   ],
   "source": [
    "nuc = prod_2018_sum[prod_2018_sum['Reported\\nFuel Type Code'] == 'NUC']['Net Generation\\n(Megawatthours)'].sum()\n",
    "\"2018 Nuclear: {:.2E} MW-hr\".format(Decimal(str(nuc)))"
   ]
  },
  {
   "cell_type": "markdown",
   "metadata": {},
   "source": [
    "What about capacity factor?  Capacity factor is the ratio of power produced compared to the operating (nameplate) capacity\n",
    "of a plant. Let's take a look at the aggregrate values (values based on total aggregate production as compared to total reported aggregate nameplate capacity)."
   ]
  },
  {
   "cell_type": "code",
   "execution_count": 14,
   "metadata": {},
   "outputs": [
    {
     "data": {
      "text/plain": [
       "'2018 Nuclear: 1.04E+5 MW'"
      ]
     },
     "execution_count": 14,
     "metadata": {},
     "output_type": "execute_result"
    }
   ],
   "source": [
    "nuc_nameplate = nameplate_2018_sum[nameplate_2018_sum['Energy Source 1'] == 'NUC']['Nameplate Capacity (MW)'].sum()\n",
    "\"2018 Nuclear: {:.2E} MW\".format(Decimal(str(nuc_nameplate)))"
   ]
  },
  {
   "cell_type": "code",
   "execution_count": 15,
   "metadata": {},
   "outputs": [
    {
     "data": {
      "text/plain": [
       "'2018 Solar: 3.22E+4 MW'"
      ]
     },
     "execution_count": 15,
     "metadata": {},
     "output_type": "execute_result"
    }
   ],
   "source": [
    "solar_nameplate = nameplate_2018_sum[nameplate_2018_sum['Energy Source 1'] == 'SUN']['Nameplate Capacity (MW)'].sum()\n",
    "\"2018 Solar: {:.2E} MW\".format(Decimal(str(solar_nameplate)))"
   ]
  },
  {
   "cell_type": "code",
   "execution_count": 16,
   "metadata": {},
   "outputs": [
    {
     "data": {
      "text/plain": [
       "'2018 Solar Capacity Factor: 0.22600153838901937'"
      ]
     },
     "execution_count": 16,
     "metadata": {},
     "output_type": "execute_result"
    }
   ],
   "source": [
    "\"2018 Solar Capacity Factor: {}\".format(sun/(solar_nameplate*24*365))"
   ]
  },
  {
   "cell_type": "code",
   "execution_count": 17,
   "metadata": {},
   "outputs": [
    {
     "data": {
      "text/plain": [
       "'2018 Nuclear Capacity Factor: 0.8835979135398567'"
      ]
     },
     "execution_count": 17,
     "metadata": {},
     "output_type": "execute_result"
    }
   ],
   "source": [
    "\"2018 Nuclear Capacity Factor: {}\".format(nuc/(nuc_nameplate*24*365))"
   ]
  },
  {
   "cell_type": "markdown",
   "metadata": {},
   "source": [
    "Let's take a closer look, down to the state and plant level to understand more about what this mean."
   ]
  },
  {
   "cell_type": "code",
   "execution_count": 18,
   "metadata": {},
   "outputs": [
    {
     "data": {
      "text/plain": [
       "4174397655.6009965"
      ]
     },
     "execution_count": 18,
     "metadata": {},
     "output_type": "execute_result"
    }
   ],
   "source": [
    "prod_2018_sum['Net Generation\\n(Megawatthours)'].sum()"
   ]
  },
  {
   "cell_type": "code",
   "execution_count": 19,
   "metadata": {
    "collapsed": true
   },
   "outputs": [],
   "source": [
    "nuc_prod = prod_2018_sum[prod_2018_sum['Reported\\nFuel Type Code'] == 'NUC'].copy()\n",
    "nuc_nameplate = nameplate_2018_sum[nameplate_2018_sum['Energy Source 1'] == 'NUC'].copy()"
   ]
  },
  {
   "cell_type": "markdown",
   "metadata": {},
   "source": [
    "Indian Point individual units are named as unique plants, this is a correction so that the two Indian Point units can be properly grouped as a single unit (station), \"Indian Point\"."
   ]
  },
  {
   "cell_type": "code",
   "execution_count": 20,
   "metadata": {
    "collapsed": true
   },
   "outputs": [],
   "source": [
    "name_fix = dict.fromkeys(['Indian Point 2', 'Indian Point 3'], \"Indian Point\")"
   ]
  },
  {
   "cell_type": "code",
   "execution_count": 21,
   "metadata": {
    "collapsed": true
   },
   "outputs": [],
   "source": [
    "nuc_prod['Plant Name'].replace(to_replace = name_fix, inplace = True)\n",
    "nuc_nameplate['Plant Name'].replace(to_replace = name_fix, inplace = True)"
   ]
  },
  {
   "cell_type": "code",
   "execution_count": 22,
   "metadata": {
    "collapsed": true
   },
   "outputs": [],
   "source": [
    "sun_prod = prod_2018_sum[prod_2018_sum['Reported\\nFuel Type Code'] == 'SUN'].copy()\n",
    "sun_nameplate = nameplate_2018_sum[nameplate_2018_sum['Energy Source 1'] == 'SUN'].copy()"
   ]
  },
  {
   "cell_type": "code",
   "execution_count": 23,
   "metadata": {
    "collapsed": true
   },
   "outputs": [],
   "source": [
    "nuc_name_merge = nuc_nameplate.groupby('Plant Name').agg({'Utility ID':'first', 'Utility Name':'first', \\\n",
    "    'Plant Code':'first','Operating Year':'first', 'State':'first', 'County':'first', 'Technology':'first',\\\n",
    "    'Energy Source 1':'first','Nameplate Capacity (MW)':np.sum})\n",
    "\n",
    "nuc_prod_merge = nuc_prod.groupby('Plant Name').agg({'Plant Id':'first', 'Reported\\nFuel Type Code':'first', \\\n",
    "      'Netgen\\nJanuary':np.sum, 'Netgen\\nFebruary':np.sum, 'Netgen\\nMarch':np.sum, 'Netgen\\nApril':np.sum,\\\n",
    "      'Netgen\\nMay':np.sum, 'Netgen\\nJune':np.sum,'Netgen\\nJuly':np.sum, 'Netgen\\nAugust':np.sum,'Netgen\\nSeptember':np.sum,\\\n",
    "        'Netgen\\nOctober':np.sum, 'Netgen\\nNovember':np.sum,'Netgen\\nDecember':np.sum, 'Net Generation\\n(Megawatthours)':np.sum,\\\n",
    "        'YEAR':'first'})"
   ]
  },
  {
   "cell_type": "markdown",
   "metadata": {},
   "source": [
    "Merge data from 923 (production) and 860 (Generator data) to create a table which has production and nameplate capacity for each plant in the same table.  This will allow calculation of capacity factors at the individual plant level."
   ]
  },
  {
   "cell_type": "code",
   "execution_count": 24,
   "metadata": {
    "collapsed": true
   },
   "outputs": [],
   "source": [
    "nuc_name_merge = nuc_name_merge.reset_index(level = 'Plant Name')\n",
    "nuc_prod_merge = nuc_prod_merge.reset_index(level = 'Plant Name')"
   ]
  },
  {
   "cell_type": "code",
   "execution_count": 25,
   "metadata": {},
   "outputs": [
    {
     "data": {
      "text/plain": [
       "((60, 17), (59, 10))"
      ]
     },
     "execution_count": 25,
     "metadata": {},
     "output_type": "execute_result"
    }
   ],
   "source": [
    "nuc_prod_merge.shape, nuc_name_merge.shape"
   ]
  },
  {
   "cell_type": "code",
   "execution_count": 26,
   "metadata": {},
   "outputs": [
    {
     "data": {
      "text/plain": [
       "(60, 26)"
      ]
     },
     "execution_count": 26,
     "metadata": {},
     "output_type": "execute_result"
    }
   ],
   "source": [
    "nuc_2018 = pd.merge(nuc_prod_merge, nuc_name_merge, left_on = ['Plant Name'],right_on = ['Plant Name'], how ='left')\n",
    "nuc_2018.shape"
   ]
  },
  {
   "cell_type": "code",
   "execution_count": 27,
   "metadata": {},
   "outputs": [
    {
     "data": {
      "text/plain": [
       "(807084477.0, 807084477.0)"
      ]
     },
     "execution_count": 27,
     "metadata": {},
     "output_type": "execute_result"
    }
   ],
   "source": [
    "nuc_check = nuc_2018['Net Generation\\n(Megawatthours)'].sum()\n",
    "nuc, nuc_check"
   ]
  },
  {
   "cell_type": "markdown",
   "metadata": {},
   "source": [
    "Oyster Creek was permanently inactivated on 9/17/2018 and the nameplate capacity was not reported on 2018 form EIA-860. Plant nameplate capacity of 550 MW from 2017 EIA-860 is appended to this data to allow determination of capacity factor for 2018 operation prior to shutdown. "
   ]
  },
  {
   "cell_type": "code",
   "execution_count": 28,
   "metadata": {},
   "outputs": [
    {
     "data": {
      "text/plain": [
       "1"
      ]
     },
     "execution_count": 28,
     "metadata": {},
     "output_type": "execute_result"
    }
   ],
   "source": [
    "nuc_2018['Nameplate Capacity (MW)'].isnull().sum()"
   ]
  },
  {
   "cell_type": "code",
   "execution_count": 29,
   "metadata": {
    "collapsed": true
   },
   "outputs": [],
   "source": [
    "nuc_2018['Nameplate Capacity (MW)'].fillna(value=550, inplace=True)"
   ]
  },
  {
   "cell_type": "code",
   "execution_count": 30,
   "metadata": {},
   "outputs": [
    {
     "data": {
      "text/plain": [
       "0"
      ]
     },
     "execution_count": 30,
     "metadata": {},
     "output_type": "execute_result"
    }
   ],
   "source": [
    "nuc_2018['Nameplate Capacity (MW)'].isnull().sum()"
   ]
  },
  {
   "cell_type": "code",
   "execution_count": 31,
   "metadata": {
    "collapsed": true
   },
   "outputs": [],
   "source": [
    "monthly = ['Netgen\\nDecember', 'Netgen\\nFebruary', 'Netgen\\nMarch', 'Netgen\\nSeptember', 'Netgen\\nNovember', 'Netgen\\nJuly', \\\n",
    "           'Netgen\\nOctober','Netgen\\nJanuary', 'Netgen\\nAugust', 'Netgen\\nApril', 'Netgen\\nMay','Netgen\\nJune']"
   ]
  },
  {
   "cell_type": "code",
   "execution_count": 32,
   "metadata": {
    "collapsed": true
   },
   "outputs": [],
   "source": [
    "nuc_2018['Active Months'] = 12 - nuc_2018[monthly].isnull().astype(int).values.sum(axis=1) "
   ]
  },
  {
   "cell_type": "markdown",
   "metadata": {},
   "source": [
    "Effectively all of the nuclear plants were operating for all 12 months.  This is expected, as there were no new construction plants and only one plant (Oyster Creek) which shutdown during the year (did not operate in months following shutdown)."
   ]
  },
  {
   "cell_type": "code",
   "execution_count": 33,
   "metadata": {},
   "outputs": [
    {
     "data": {
      "text/plain": [
       "12    59\n",
       "10     1\n",
       "Name: Active Months, dtype: int64"
      ]
     },
     "execution_count": 33,
     "metadata": {},
     "output_type": "execute_result"
    }
   ],
   "source": [
    "nuc_2018['Active Months'].value_counts()"
   ]
  },
  {
   "cell_type": "code",
   "execution_count": 34,
   "metadata": {
    "collapsed": true
   },
   "outputs": [],
   "source": [
    "nuc_2018['Capacity_norm'] = 24*365*nuc_2018['Nameplate Capacity (MW)']*(nuc_2018['Active Months']/12)"
   ]
  },
  {
   "cell_type": "code",
   "execution_count": 35,
   "metadata": {
    "collapsed": true
   },
   "outputs": [],
   "source": [
    "nuc_2018['Capacity_factor'] = nuc_2018['Net Generation\\n(Megawatthours)']/nuc_2018['Capacity_norm']"
   ]
  },
  {
   "cell_type": "markdown",
   "metadata": {},
   "source": [
    "This is almost identical to the aggregate value of .8835 calcuated at the beginning.  The small difference is because the nameplate capacity for Oyster Creek was not included in the original aggregate values, which results in a slightly higher aggregate capacity factor.  "
   ]
  },
  {
   "cell_type": "code",
   "execution_count": 36,
   "metadata": {},
   "outputs": [
    {
     "data": {
      "text/plain": [
       "0.8797309408615502"
      ]
     },
     "execution_count": 36,
     "metadata": {},
     "output_type": "execute_result"
    }
   ],
   "source": [
    "nuc_2018['Net Generation\\n(Megawatthours)'].sum()/nuc_2018['Capacity_norm'].sum()"
   ]
  },
  {
   "cell_type": "markdown",
   "metadata": {},
   "source": [
    "Let's look at statistics for capacity factor for each individual plant, to understand how much variation there is across the fleet.  Notice that the mean capacity factor for the fleet is slightly lower than the aggregate.  This is because the aggregate is a weighted average for all generation, where when taking the mean of individual plant values, all plants are weighted equally, even though there is a large variation in output for the smallest to largest stations.  However, again, there is minimal difference in the calculated average value for individual plants and the fleet as a whole.  This indicates very consistent performance."
   ]
  },
  {
   "cell_type": "code",
   "execution_count": 37,
   "metadata": {},
   "outputs": [
    {
     "data": {
      "text/plain": [
       "count    60.000000\n",
       "mean      0.873374\n",
       "std       0.075370\n",
       "min       0.548537\n",
       "25%       0.830159\n",
       "50%       0.885622\n",
       "75%       0.923968\n",
       "max       0.984266\n",
       "Name: Capacity_factor, dtype: float64"
      ]
     },
     "execution_count": 37,
     "metadata": {},
     "output_type": "execute_result"
    }
   ],
   "source": [
    "nuc_2018['Capacity_factor'].describe()"
   ]
  },
  {
   "cell_type": "code",
   "execution_count": 38,
   "metadata": {
    "collapsed": true
   },
   "outputs": [],
   "source": [
    "sun_name_merge = sun_nameplate.groupby('Plant Name').agg({'Utility ID':'first', 'Utility Name':'first', \\\n",
    "    'Plant Code':'first','Operating Year':'first', 'State':'first', 'County':'first', 'Technology':'first',\\\n",
    "    'Energy Source 1':'first','Nameplate Capacity (MW)':np.sum})\n",
    "\n",
    "sun_prod_merge = sun_prod.groupby('Plant Name').agg({'Plant Id':'first', 'Reported\\nFuel Type Code':'first', \\\n",
    "      'Netgen\\nJanuary':np.sum, 'Netgen\\nFebruary':np.sum, 'Netgen\\nMarch':np.sum, 'Netgen\\nApril':np.sum,\\\n",
    "      'Netgen\\nMay':np.sum, 'Netgen\\nJune':np.sum,'Netgen\\nJuly':np.sum, 'Netgen\\nAugust':np.sum,'Netgen\\nSeptember':np.sum,\\\n",
    "        'Netgen\\nOctober':np.sum, 'Netgen\\nNovember':np.sum,'Netgen\\nDecember':np.sum, 'Net Generation\\n(Megawatthours)':np.sum,\\\n",
    "        'YEAR':'first'})"
   ]
  },
  {
   "cell_type": "markdown",
   "metadata": {},
   "source": [
    "Merge solar data as performed for nuclear above, to allow determination of capacity factor at the plant level."
   ]
  },
  {
   "cell_type": "code",
   "execution_count": 39,
   "metadata": {
    "collapsed": true
   },
   "outputs": [],
   "source": [
    "sun_name_merge = sun_name_merge.reset_index(level = 'Plant Name')\n",
    "sun_prod_merge = sun_prod_merge.reset_index(level = 'Plant Name')"
   ]
  },
  {
   "cell_type": "code",
   "execution_count": 40,
   "metadata": {},
   "outputs": [
    {
     "data": {
      "text/plain": [
       "((2769, 10), (2759, 17))"
      ]
     },
     "execution_count": 40,
     "metadata": {},
     "output_type": "execute_result"
    }
   ],
   "source": [
    "sun_name_merge.shape, sun_prod_merge.shape"
   ]
  },
  {
   "cell_type": "code",
   "execution_count": 41,
   "metadata": {},
   "outputs": [
    {
     "data": {
      "text/plain": [
       "(2759, 26)"
      ]
     },
     "execution_count": 41,
     "metadata": {},
     "output_type": "execute_result"
    }
   ],
   "source": [
    "sun_2018 = pd.merge(sun_prod_merge, sun_name_merge, left_on = ['Plant Name'],right_on = ['Plant Name'], how ='left')\n",
    "sun_2018.shape"
   ]
  },
  {
   "cell_type": "code",
   "execution_count": 42,
   "metadata": {},
   "outputs": [
    {
     "data": {
      "text/plain": [
       "(63825323.16999999, 63825323.16999998)"
      ]
     },
     "execution_count": 42,
     "metadata": {},
     "output_type": "execute_result"
    }
   ],
   "source": [
    "sun_check = sun_2018['Net Generation\\n(Megawatthours)'].sum()\n",
    "sun, sun_check"
   ]
  },
  {
   "cell_type": "code",
   "execution_count": 43,
   "metadata": {
    "collapsed": true
   },
   "outputs": [],
   "source": [
    "sun_2018['Active Months'] = 12 - sun_2018[monthly].isnull().astype(int).values.sum(axis=1) "
   ]
  },
  {
   "cell_type": "code",
   "execution_count": 44,
   "metadata": {},
   "outputs": [
    {
     "data": {
      "text/plain": [
       "12    2384\n",
       "1      113\n",
       "10      35\n",
       "3       31\n",
       "6       31\n",
       "4       28\n",
       "2       28\n",
       "7       25\n",
       "5       24\n",
       "8       24\n",
       "11      19\n",
       "9       17\n",
       "Name: Active Months, dtype: int64"
      ]
     },
     "execution_count": 44,
     "metadata": {},
     "output_type": "execute_result"
    }
   ],
   "source": [
    "sun_2018['Active Months'].value_counts() "
   ]
  },
  {
   "cell_type": "code",
   "execution_count": 45,
   "metadata": {},
   "outputs": [
    {
     "data": {
      "text/plain": [
       "375"
      ]
     },
     "execution_count": 45,
     "metadata": {},
     "output_type": "execute_result"
    }
   ],
   "source": [
    "sun_2018[sun_2018['Active Months'] != 12]['Active Months'].value_counts().sum() "
   ]
  },
  {
   "cell_type": "markdown",
   "metadata": {},
   "source": [
    "Although approximately 85% of the solar plants operated for all 12 months, there were a significant number of plants which did not have 12 months of production.  However, looking at 'Operating Year' (year in which plant was put into service), there were 385 new plants which came on-line in 2018.  This is consistent with a total of 375 plants which had output for less than 12 months. Based on plants coming on-line at various times in 2018, it is expected that only a handful of new plants would have generation for all 12 months in 2018.  Because there was a non-trivial number of new plants which only operated for part of the year, it is important to weight the capacity versus months in service instead of assuming every plant operated for the full year."
   ]
  },
  {
   "cell_type": "code",
   "execution_count": 46,
   "metadata": {},
   "outputs": [
    {
     "data": {
      "text/plain": [
       "2017.0    468\n",
       "2016.0    446\n",
       "2018.0    385\n",
       "2015.0    349\n",
       "2014.0    298\n",
       "2013.0    232\n",
       "2012.0    211\n",
       "2011.0    159\n",
       "2010.0     59\n",
       "2009.0     30\n",
       "2008.0     19\n",
       "2007.0     12\n",
       "2006.0      3\n",
       "2005.0      3\n",
       "1988.0      2\n",
       "2001.0      2\n",
       "1986.0      2\n",
       "2002.0      1\n",
       "1987.0      1\n",
       "1989.0      1\n",
       "1990.0      1\n",
       "Name: Operating Year, dtype: int64"
      ]
     },
     "execution_count": 46,
     "metadata": {},
     "output_type": "execute_result"
    }
   ],
   "source": [
    "sun_2018['Operating Year'].value_counts()"
   ]
  },
  {
   "cell_type": "markdown",
   "metadata": {},
   "source": [
    "A significant amount of new solar capacity was added in 2018, but less than in 2016 and 2017."
   ]
  },
  {
   "cell_type": "code",
   "execution_count": 47,
   "metadata": {},
   "outputs": [
    {
     "data": {
      "text/plain": [
       "Operating Year\n",
       "2016.0    7834.2\n",
       "2017.0    5133.8\n",
       "2018.0    4201.9\n",
       "2013.0    3972.8\n",
       "2015.0    3466.6\n",
       "2014.0    3321.9\n",
       "2012.0    1614.8\n",
       "2011.0     884.1\n",
       "2010.0     238.9\n",
       "2007.0     106.6\n",
       "2009.0      98.4\n",
       "1990.0      92.0\n",
       "1989.0      92.0\n",
       "1988.0      70.0\n",
       "1986.0      68.4\n",
       "2008.0      38.5\n",
       "1987.0      34.2\n",
       "2001.0      13.6\n",
       "2006.0       7.6\n",
       "2005.0       2.3\n",
       "2002.0       2.1\n",
       "Name: Nameplate Capacity (MW), dtype: float64"
      ]
     },
     "execution_count": 47,
     "metadata": {},
     "output_type": "execute_result"
    }
   ],
   "source": [
    "sun_2018.groupby('Operating Year')['Nameplate Capacity (MW)'].sum().sort_values(ascending=False)"
   ]
  },
  {
   "cell_type": "code",
   "execution_count": 48,
   "metadata": {},
   "outputs": [
    {
     "data": {
      "text/plain": [
       "75"
      ]
     },
     "execution_count": 48,
     "metadata": {},
     "output_type": "execute_result"
    }
   ],
   "source": [
    "sun_2018['Nameplate Capacity (MW)'].isnull().sum()"
   ]
  },
  {
   "cell_type": "markdown",
   "metadata": {},
   "source": [
    "There are 75 plants with reported production in 2018 for which nameplate capacity was not reported.  Including 75 plants with reported production, but no reported nameplate capacity will distort capacity factor evaluations. Let's removed these plants from the evaluation. "
   ]
  },
  {
   "cell_type": "code",
   "execution_count": 49,
   "metadata": {},
   "outputs": [
    {
     "data": {
      "text/plain": [
       "(2759, 27)"
      ]
     },
     "execution_count": 49,
     "metadata": {},
     "output_type": "execute_result"
    }
   ],
   "source": [
    "sun_2018.shape"
   ]
  },
  {
   "cell_type": "code",
   "execution_count": 50,
   "metadata": {},
   "outputs": [
    {
     "data": {
      "text/plain": [
       "(2684, 27)"
      ]
     },
     "execution_count": 50,
     "metadata": {},
     "output_type": "execute_result"
    }
   ],
   "source": [
    "sun_2018 = sun_2018[sun_2018['Nameplate Capacity (MW)']>0]\n",
    "sun_2018.shape"
   ]
  },
  {
   "cell_type": "code",
   "execution_count": 51,
   "metadata": {},
   "outputs": [
    {
     "name": "stdout",
     "output_type": "stream",
     "text": [
      "<class 'pandas.core.frame.DataFrame'>\n",
      "Int64Index: 2684 entries, 0 to 2758\n",
      "Data columns (total 27 columns):\n",
      "Plant Name                        2684 non-null object\n",
      "YEAR                              2684 non-null int64\n",
      "Netgen\n",
      "November                   2575 non-null float64\n",
      "Netgen\n",
      "January                    2329 non-null float64\n",
      "Reported\n",
      "Fuel Type Code           2684 non-null object\n",
      "Plant Id                          2684 non-null int64\n",
      "Netgen\n",
      "April                      2397 non-null float64\n",
      "Netgen\n",
      "December                   2682 non-null float64\n",
      "Netgen\n",
      "March                      2380 non-null float64\n",
      "Netgen\n",
      "September                  2518 non-null float64\n",
      "Net Generation\n",
      "(Megawatthours)    2684 non-null float64\n",
      "Netgen\n",
      "October                    2549 non-null float64\n",
      "Netgen\n",
      "August                     2493 non-null float64\n",
      "Netgen\n",
      "February                   2348 non-null float64\n",
      "Netgen\n",
      "July                       2470 non-null float64\n",
      "Netgen\n",
      "June                       2441 non-null float64\n",
      "Netgen\n",
      "May                        2417 non-null float64\n",
      "Nameplate Capacity (MW)           2684 non-null float64\n",
      "Technology                        2684 non-null object\n",
      "Operating Year                    2684 non-null float64\n",
      "Utility ID                        2684 non-null float64\n",
      "State                             2684 non-null object\n",
      "Utility Name                      2684 non-null object\n",
      "County                            2684 non-null object\n",
      "Plant Code                        2684 non-null float64\n",
      "Energy Source 1                   2684 non-null object\n",
      "Active Months                     2684 non-null int32\n",
      "dtypes: float64(17), int32(1), int64(2), object(7)\n",
      "memory usage: 576.6+ KB\n"
     ]
    }
   ],
   "source": [
    "sun_2018.info()"
   ]
  },
  {
   "cell_type": "markdown",
   "metadata": {},
   "source": [
    "We now have a table which has non-null values for nameplate capacity and net generation for each plant."
   ]
  },
  {
   "cell_type": "code",
   "execution_count": 52,
   "metadata": {
    "collapsed": true
   },
   "outputs": [],
   "source": [
    "sun_2018['Capacity_norm'] = 24*365*sun_2018['Nameplate Capacity (MW)']*(sun_2018['Active Months']/12)"
   ]
  },
  {
   "cell_type": "code",
   "execution_count": 53,
   "metadata": {
    "collapsed": true
   },
   "outputs": [],
   "source": [
    "sun_2018['Capacity_factor'] = sun_2018['Net Generation\\n(Megawatthours)']/sun_2018['Capacity_norm']"
   ]
  },
  {
   "cell_type": "code",
   "execution_count": 54,
   "metadata": {},
   "outputs": [
    {
     "data": {
      "text/plain": [
       "0.2449890732933267"
      ]
     },
     "execution_count": 54,
     "metadata": {},
     "output_type": "execute_result"
    }
   ],
   "source": [
    "sun_2018['Net Generation\\n(Megawatthours)'].sum()/sun_2018['Capacity_norm'].sum()"
   ]
  },
  {
   "cell_type": "markdown",
   "metadata": {},
   "source": [
    "The mean values calculated for solar capacity factor at the plant level are considerably lower than the aggregate capacity factors of 0.226 and 0.254. However, the plant level averages are not weighted (the smallest and largest capacity plants count equally), so the plant level values do not fairly represent the industry as a whole. "
   ]
  },
  {
   "cell_type": "code",
   "execution_count": 55,
   "metadata": {},
   "outputs": [
    {
     "data": {
      "text/plain": [
       "count    2684.000000\n",
       "mean        0.189537\n",
       "std         0.096331\n",
       "min         0.000000\n",
       "25%         0.151624\n",
       "50%         0.188537\n",
       "75%         0.223405\n",
       "max         3.017979\n",
       "Name: Capacity_factor, dtype: float64"
      ]
     },
     "execution_count": 55,
     "metadata": {},
     "output_type": "execute_result"
    }
   ],
   "source": [
    "sun_2018['Capacity_factor'].describe()"
   ]
  },
  {
   "cell_type": "markdown",
   "metadata": {},
   "source": [
    "One challenge to trying to understand variations in capacity factor among plants is the much larger variation in the size of solar plants, as compared to nuclear.  The largest and smallest size solar plants vary by three orders of magnitude, whereas the size of all nuclear plants is within one order (factor of 8).  Likewise, the size of the typical solar plant is heavily left skewed, with the majority of plants being small (less than ~3 MW)"
   ]
  },
  {
   "cell_type": "code",
   "execution_count": 56,
   "metadata": {},
   "outputs": [
    {
     "data": {
      "text/plain": [
       "(0.10000000000000001, 3.3, 585.90000000000009)"
      ]
     },
     "execution_count": 56,
     "metadata": {},
     "output_type": "execute_result"
    }
   ],
   "source": [
    "sun_2018['Nameplate Capacity (MW)'].min(), sun_2018['Nameplate Capacity (MW)'].median(), sun_2018['Nameplate Capacity (MW)'].max()"
   ]
  },
  {
   "cell_type": "code",
   "execution_count": 57,
   "metadata": {},
   "outputs": [
    {
     "data": {
      "text/plain": [
       "(550.0, 1802.5500000000002, 4209.6000000000004)"
      ]
     },
     "execution_count": 57,
     "metadata": {},
     "output_type": "execute_result"
    }
   ],
   "source": [
    "nuc_2018['Nameplate Capacity (MW)'].min(), nuc_2018['Nameplate Capacity (MW)'].median(), nuc_2018['Nameplate Capacity (MW)'].max()"
   ]
  },
  {
   "cell_type": "markdown",
   "metadata": {},
   "source": [
    "Aggregating data by state, and then taking a weighted average at the state level may provide results that are slightly more realistic.  It removes the extreme outliers (including values greater than one) and does slightly increase the mean capacity factor (so it is closer to the industry aggregate), but the mean value is still almost 20% less than the overall industry mean."
   ]
  },
  {
   "cell_type": "code",
   "execution_count": 58,
   "metadata": {},
   "outputs": [
    {
     "data": {
      "text/plain": [
       "count    46.000000\n",
       "mean      0.197034\n",
       "std       0.056558\n",
       "min       0.012269\n",
       "25%       0.160775\n",
       "50%       0.194256\n",
       "75%       0.232059\n",
       "max       0.296113\n",
       "dtype: float64"
      ]
     },
     "execution_count": 58,
     "metadata": {},
     "output_type": "execute_result"
    }
   ],
   "source": [
    "sun_state_cap = sun_2018.groupby('State')['Net Generation\\n(Megawatthours)'].sum()/sun_2018.groupby('State')['Capacity_norm'].sum()\n",
    "sun_state_cap.describe()"
   ]
  },
  {
   "cell_type": "markdown",
   "metadata": {},
   "source": [
    "One challenge is that the state of CA alone contributes almost half of the overall industry capacity.  And the next most significant state contributes more than 75% less capacity.  However, it may still be appropriate to consider capacity factors at the state level, because that is where the power is produced.  California may be an advantageous location to produce solar power, but it may be much less efficient in other states.  "
   ]
  },
  {
   "cell_type": "code",
   "execution_count": 59,
   "metadata": {},
   "outputs": [
    {
     "data": {
      "text/plain": [
       "State\n",
       "CA    0.433349\n",
       "NC    0.097129\n",
       "AZ    0.076526\n",
       "NV    0.071877\n",
       "TX    0.042300\n",
       "FL    0.037552\n",
       "UT    0.035743\n",
       "GA    0.032040\n",
       "NM    0.021631\n",
       "CO    0.016949\n",
       "MN    0.016619\n",
       "MA    0.015023\n",
       "NJ    0.014966\n",
       "VA    0.012265\n",
       "OR    0.009138\n",
       "ID    0.008936\n",
       "SC    0.008075\n",
       "MD    0.006309\n",
       "AL    0.005521\n",
       "MS    0.005238\n",
       "NY    0.004741\n",
       "IN    0.004670\n",
       "AR    0.003270\n",
       "TN    0.002694\n",
       "HI    0.002302\n",
       "OH    0.001914\n",
       "MI    0.001864\n",
       "CT    0.001553\n",
       "VT    0.001512\n",
       "MO    0.001466\n",
       "PA    0.001004\n",
       "OK    0.000991\n",
       "IL    0.000860\n",
       "DE    0.000787\n",
       "KY    0.000634\n",
       "WI    0.000575\n",
       "MT    0.000484\n",
       "RI    0.000464\n",
       "NE    0.000436\n",
       "ME    0.000193\n",
       "IA    0.000184\n",
       "KS    0.000124\n",
       "WA    0.000027\n",
       "SD    0.000027\n",
       "LA    0.000024\n",
       "WY    0.000013\n",
       "Name: Net Generation\\n(Megawatthours), dtype: float64"
      ]
     },
     "execution_count": 59,
     "metadata": {},
     "output_type": "execute_result"
    }
   ],
   "source": [
    "(sun_2018.groupby('State')['Net Generation\\n(Megawatthours)'].sum()/sun_2018['Net Generation\\n(Megawatthours)'].sum()).sort_values(ascending=False)"
   ]
  },
  {
   "cell_type": "markdown",
   "metadata": {},
   "source": [
    "As seen below, AZ, NV and CA have state level capacity factors of 0.29, 0.28 and 0.27 respectively and as shown above, these three states account for almost 60% of the total solar production.  So this explains why the industry wide mean capacity factor is 0.245, even though the average of all the individual plants is slightly less than 0.200.  However the takeaway is that outside of the Southwester united states, solar capacity factors are much lower elsewhere.  Meaning solar energy is a much less economically solution in these other regions.  Likewise, because electricty generation is regional, using national level capacity factors to evaluate the economics of projects in a particular region is potentially highly misleading."
   ]
  },
  {
   "cell_type": "code",
   "execution_count": 60,
   "metadata": {},
   "outputs": [
    {
     "data": {
      "text/plain": [
       "State\n",
       "UT    0.296113\n",
       "AZ    0.287692\n",
       "NM    0.280273\n",
       "NV    0.280076\n",
       "CA    0.272967\n",
       "ID    0.264443\n",
       "CO    0.257384\n",
       "TX    0.245395\n",
       "ME    0.245263\n",
       "OR    0.241180\n",
       "OK    0.237133\n",
       "AR    0.232207\n",
       "MS    0.231618\n",
       "MT    0.229041\n",
       "FL    0.226189\n",
       "AL    0.223526\n",
       "GA    0.223239\n",
       "HI    0.221044\n",
       "KS    0.220519\n",
       "CT    0.216768\n",
       "SC    0.205042\n",
       "VA    0.198689\n",
       "NC    0.197644\n",
       "SD    0.190868\n",
       "WI    0.189059\n",
       "MO    0.186472\n",
       "MN    0.183254\n",
       "TN    0.180829\n",
       "DE    0.177686\n",
       "NE    0.176688\n",
       "IL    0.173910\n",
       "OH    0.171890\n",
       "KY    0.171172\n",
       "IN    0.167140\n",
       "NY    0.158653\n",
       "MA    0.157974\n",
       "LA    0.157534\n",
       "RI    0.157477\n",
       "MI    0.152416\n",
       "NJ    0.151934\n",
       "VT    0.148653\n",
       "MD    0.143156\n",
       "IA    0.142148\n",
       "PA    0.126620\n",
       "WA    0.052295\n",
       "WY    0.012269\n",
       "dtype: float64"
      ]
     },
     "execution_count": 60,
     "metadata": {},
     "output_type": "execute_result"
    }
   ],
   "source": [
    "sun_state_cap.sort_values(ascending = False)"
   ]
  },
  {
   "cell_type": "markdown",
   "metadata": {},
   "source": [
    "Let's revisit the nuclear plant capacity factors to get the most direct comparison the solar plants. "
   ]
  },
  {
   "cell_type": "code",
   "execution_count": 61,
   "metadata": {},
   "outputs": [
    {
     "data": {
      "text/plain": [
       "count    30.000000\n",
       "mean      0.867947\n",
       "std       0.080048\n",
       "min       0.548537\n",
       "25%       0.832669\n",
       "50%       0.890575\n",
       "75%       0.911925\n",
       "max       0.984266\n",
       "dtype: float64"
      ]
     },
     "execution_count": 61,
     "metadata": {},
     "output_type": "execute_result"
    }
   ],
   "source": [
    "nuc_state_cap = nuc_2018.groupby('State')['Net Generation\\n(Megawatthours)'].sum()/nuc_2018.groupby('State')['Capacity_norm'].sum()\n",
    "nuc_state_cap.describe()"
   ]
  },
  {
   "cell_type": "markdown",
   "metadata": {},
   "source": [
    "The average value is pretty similar to the values calculated at the plant level.  A number of states only have a single nuclear plant, so this is not surprising.  As can be seen below, the total industry capacity is much less concentrated (at a state level than solar).  The three states with the larges production, acount for less than 30% as compared to almost 60% in the solar industry."
   ]
  },
  {
   "cell_type": "code",
   "execution_count": 62,
   "metadata": {},
   "outputs": [
    {
     "data": {
      "text/plain": [
       "State\n",
       "IL    0.121551\n",
       "PA    0.103430\n",
       "SC    0.065317\n",
       "NY    0.053178\n",
       "NC    0.052135\n",
       "TX    0.051030\n",
       "AL    0.048896\n",
       "TN    0.044824\n",
       "GA    0.042576\n",
       "AZ    0.038530\n",
       "MI    0.037764\n",
       "FL    0.036319\n",
       "VA    0.036244\n",
       "NJ    0.035240\n",
       "OH    0.022693\n",
       "CA    0.022567\n",
       "LA    0.021253\n",
       "CT    0.020917\n",
       "MD    0.018570\n",
       "MN    0.018091\n",
       "AR    0.015761\n",
       "MO    0.013202\n",
       "WI    0.012550\n",
       "NH    0.012467\n",
       "WA    0.012029\n",
       "KS    0.011360\n",
       "MS    0.008573\n",
       "NE    0.006978\n",
       "IA    0.006066\n",
       "MA    0.005503\n",
       "Name: Net Generation\\n(Megawatthours), dtype: float64"
      ]
     },
     "execution_count": 62,
     "metadata": {},
     "output_type": "execute_result"
    }
   ],
   "source": [
    "(nuc_2018.groupby('State')['Net Generation\\n(Megawatthours)'].sum()/nuc_2018['Net Generation\\n(Megawatthours)'].sum()).sort_values(ascending=False)"
   ]
  },
  {
   "cell_type": "code",
   "execution_count": 63,
   "metadata": {},
   "outputs": [
    {
     "data": {
      "text/plain": [
       "State\n",
       "CA    26960351.00\n",
       "NC     6042775.15\n",
       "AZ     4761007.03\n",
       "NV     4471766.18\n",
       "TX     2631650.00\n",
       "FL     2336270.98\n",
       "UT     2223706.00\n",
       "GA     1993346.00\n",
       "NM     1345731.48\n",
       "CO     1054461.23\n",
       "MN     1033936.84\n",
       "MA      934632.39\n",
       "NJ      931070.27\n",
       "VA      763072.00\n",
       "OR      568538.00\n",
       "ID      555964.00\n",
       "SC      502388.48\n",
       "MD      392495.00\n",
       "AL      343498.00\n",
       "MS      325853.00\n",
       "NY      294939.00\n",
       "IN      290522.48\n",
       "AR      203413.00\n",
       "TN      167594.00\n",
       "HI      143209.12\n",
       "OH      119055.06\n",
       "MI      115981.00\n",
       "CT       96606.00\n",
       "VT       94095.00\n",
       "MO       91230.55\n",
       "PA       62475.30\n",
       "OK       61626.00\n",
       "IL       53473.00\n",
       "DE       48978.71\n",
       "KY       39436.00\n",
       "WI       35772.91\n",
       "MT       30096.00\n",
       "RI       28866.00\n",
       "NE       27112.00\n",
       "ME       12031.63\n",
       "IA       11456.00\n",
       "KS        7727.00\n",
       "WA        1695.00\n",
       "SD        1672.00\n",
       "LA        1518.00\n",
       "WY         824.00\n",
       "Name: Net Generation\\n(Megawatthours), dtype: float64"
      ]
     },
     "execution_count": 63,
     "metadata": {},
     "output_type": "execute_result"
    }
   ],
   "source": [
    "sun_2018.groupby('State')['Net Generation\\n(Megawatthours)'].sum().sort_values(ascending=False)"
   ]
  },
  {
   "cell_type": "code",
   "execution_count": 64,
   "metadata": {},
   "outputs": [
    {
     "data": {
      "text/plain": [
       "State\n",
       "MO    0.984266\n",
       "GA    0.970528\n",
       "MD    0.935611\n",
       "OH    0.934708\n",
       "NH    0.924795\n",
       "WA    0.923558\n",
       "TX    0.914951\n",
       "VA    0.913756\n",
       "PA    0.906431\n",
       "IL    0.902031\n",
       "WI    0.899139\n",
       "CA    0.895036\n",
       "NJ    0.894257\n",
       "CT    0.890985\n",
       "MN    0.890775\n",
       "NC    0.890375\n",
       "FL    0.881217\n",
       "LA    0.875814\n",
       "SC    0.875313\n",
       "NY    0.858134\n",
       "AL    0.854753\n",
       "AZ    0.843290\n",
       "TN    0.829129\n",
       "KS    0.825596\n",
       "IA    0.822422\n",
       "MI    0.806496\n",
       "NE    0.802670\n",
       "AR    0.787072\n",
       "MA    0.756758\n",
       "MS    0.548537\n",
       "dtype: float64"
      ]
     },
     "execution_count": 64,
     "metadata": {},
     "output_type": "execute_result"
    }
   ],
   "source": [
    "nuc_state_cap.sort_values(ascending = False)"
   ]
  },
  {
   "cell_type": "code",
   "execution_count": 79,
   "metadata": {},
   "outputs": [
    {
     "data": {
      "image/png": "[encoded data removed]",
      "text/plain": [
       "<matplotlib.figure.Figure at 0x2465b5afb00>"
      ]
     },
     "metadata": {},
     "output_type": "display_data"
    }
   ],
   "source": [
    "plt.style.use('ggplot')\n",
    "plt.figure(figsize=(9, 4), dpi=120)\n",
    "#bins = [x for x in range(0, 10,1)]\n",
    "bins = np.arange(0,1,.025)\n",
    "#plt.xlim(35,85)\n",
    "plt.xlim(0,1)\n",
    "plt.ylim(0,12)\n",
    "plt.xticks(np.arange(0,1.1,.1))\n",
    "plt.yticks(np.arange(0,12,3))\n",
    "#plt.hist(nuc_2018['Capacity_factor'], bins=12, color = 'green', alpha = 0.7, label = 'Nuclear Plants', ec='white')\n",
    "plt.hist(nuc_state_cap, bins=bins, color = 'blue', alpha = 0.7, label = 'Nuclear Plants', ec='white')\n",
    "plt.hist(sun_state_cap, bins=bins, color = 'gold', alpha = 0.7, label = 'Solar Plants', ec='white')\n",
    "plt.tick_params(right='off',top='off')\n",
    "plt.grid(b=False, axis='x')\n",
    "plt.title('Capacity Factor of Solar vs. Nuclear (U.S. 2018, by State)')\n",
    "plt.xlabel('Capacity Factor',color='black')\n",
    "plt.ylabel('# of States', color='black')\n",
    "plt.legend(loc='best',prop={'size': 10})\n",
    "plt.show()"
   ]
  },
  {
   "cell_type": "code",
   "execution_count": 66,
   "metadata": {
    "collapsed": true
   },
   "outputs": [],
   "source": [
    "production_2019 = pd.read_excel(\"EIA923_Schedules_2_3_4_5_M_12_2019_21FEB2020.xlsx\",skiprows=5)\n",
    "#production_2018 = pd.read_excel(\"EIA923_Schedules_2_3_4_5_M_12_2018_Final_Revision.xlsx\",skiprows=5)\n",
    "production_2017 = pd.read_excel(\"EIA923_Schedules_2_3_4_5_M_12_2017_Final_Revision.xlsx\",skiprows=5)"
   ]
  },
  {
   "cell_type": "code",
   "execution_count": 67,
   "metadata": {
    "collapsed": true
   },
   "outputs": [],
   "source": [
    "production_2016 = pd.read_excel(\"EIA923_Schedules_2_3_4_5_M_12_2016_Final_Revision.xlsx\",skiprows=5)\n",
    "production_2015 = pd.read_excel(\"EIA923_Schedules_2_3_4_5_M_12_2015_Final_Revision.xlsx\",skiprows=5)"
   ]
  },
  {
   "cell_type": "code",
   "execution_count": 68,
   "metadata": {
    "collapsed": true
   },
   "outputs": [],
   "source": [
    "prod_columns =['Plant Id','Plant Name', 'Operator Name','Plant State','Reported\\nPrime Mover',\\\n",
    "       'Reported\\nFuel Type Code', 'AER\\nFuel Type Code','Net Generation\\n(Megawatthours)','YEAR']"
   ]
  },
  {
   "cell_type": "code",
   "execution_count": 69,
   "metadata": {
    "collapsed": true
   },
   "outputs": [],
   "source": [
    "prod_2019_sum = production_2019[prod_columns].copy()\n",
    "prod_2018_sum = production_2018[prod_columns].copy()\n",
    "prod_2017_sum = production_2017[prod_columns].copy()\n",
    "prod_2016_sum = production_2016[prod_columns].copy()\n",
    "prod_2015_sum = production_2015[prod_columns].copy()"
   ]
  },
  {
   "cell_type": "code",
   "execution_count": 70,
   "metadata": {
    "collapsed": true
   },
   "outputs": [],
   "source": [
    "fuel_dict = {'NUC': 'Nuclear', 'WAT':'Hydro','GEO':'Geothermal','WND':'Wind','SUN':'Solar'}\n",
    "fuel_dict.update(dict.fromkeys(['SUB','BIT','RC','WC','LIG', 'ANT','SC','SGC'],'Coal'))\n",
    "fuel_dict.update(dict.fromkeys(['NG','PG'],'Natural Gas')) \n",
    "fuel_dict.update(dict.fromkeys(['WDS','BLQ','WDL'],'Wood'))\n",
    "fuel_dict.update(dict.fromkeys(['OBG','OBS','OBL','AB','MSB'],'Biomass'))\n",
    "fuel_dict.update(dict.fromkeys(['RFO','DFO','JF','SGP','KER','PC'],'Petroleum'))\n",
    "fuel_dict.update(dict.fromkeys(['MSN','LFG','TDF', 'WO','SLW'],'Waste'))\n",
    "fuel_dict.update(dict.fromkeys(['WH', 'OTH','PUR','OG', 'BFG'],'Other'))"
   ]
  },
  {
   "cell_type": "code",
   "execution_count": 71,
   "metadata": {
    "collapsed": true
   },
   "outputs": [],
   "source": [
    "prod_2019_sum['Primary Fuel'] = prod_2019_sum['Reported\\nFuel Type Code'].map(fuel_dict)\n",
    "prod_2018_sum['Primary Fuel'] = prod_2018_sum['Reported\\nFuel Type Code'].map(fuel_dict)\n",
    "prod_2017_sum['Primary Fuel'] = prod_2017_sum['Reported\\nFuel Type Code'].map(fuel_dict)\n",
    "prod_2016_sum['Primary Fuel'] = prod_2016_sum['Reported\\nFuel Type Code'].map(fuel_dict)\n",
    "prod_2015_sum['Primary Fuel'] = prod_2015_sum['Reported\\nFuel Type Code'].map(fuel_dict)"
   ]
  },
  {
   "cell_type": "code",
   "execution_count": 72,
   "metadata": {
    "collapsed": true
   },
   "outputs": [],
   "source": [
    "fossil_dict = {'Nuclear': 'Nuclear','Solar':'Solar'}\n",
    "fossil_dict.update(dict.fromkeys(['Coal','Natural Gas','Petroleum'],'Fossil'))"
   ]
  },
  {
   "cell_type": "code",
   "execution_count": 73,
   "metadata": {
    "collapsed": true
   },
   "outputs": [],
   "source": [
    "prod_2019_sum['Fossil?'] = prod_2019_sum['Primary Fuel'].map(fossil_dict)\n",
    "prod_2018_sum['Fossil?'] = prod_2018_sum['Primary Fuel'].map(fossil_dict)\n",
    "prod_2017_sum['Fossil?'] = prod_2017_sum['Primary Fuel'].map(fossil_dict)\n",
    "prod_2016_sum['Fossil?'] = prod_2016_sum['Primary Fuel'].map(fossil_dict)\n",
    "prod_2015_sum['Fossil?'] = prod_2015_sum['Primary Fuel'].map(fossil_dict)"
   ]
  },
  {
   "cell_type": "code",
   "execution_count": 74,
   "metadata": {},
   "outputs": [
    {
     "data": {
      "text/html": [
       "<div>\n",
       "<style>\n",
       "    .dataframe thead tr:only-child th {\n",
       "        text-align: right;\n",
       "    }\n",
       "\n",
       "    .dataframe thead th {\n",
       "        text-align: left;\n",
       "    }\n",
       "\n",
       "    .dataframe tbody tr th {\n",
       "        vertical-align: top;\n",
       "    }\n",
       "</style>\n",
       "<table border=\"1\" class=\"dataframe\">\n",
       "  <thead>\n",
       "    <tr style=\"text-align: right;\">\n",
       "      <th></th>\n",
       "      <th>Plant Id</th>\n",
       "      <th>Plant Name</th>\n",
       "      <th>Operator Name</th>\n",
       "      <th>Plant State</th>\n",
       "      <th>Reported\n",
       "Prime Mover</th>\n",
       "      <th>Reported\n",
       "Fuel Type Code</th>\n",
       "      <th>AER\n",
       "Fuel Type Code</th>\n",
       "      <th>Net Generation\n",
       "(Megawatthours)</th>\n",
       "      <th>YEAR</th>\n",
       "      <th>Primary Fuel</th>\n",
       "      <th>Fossil?</th>\n",
       "    </tr>\n",
       "  </thead>\n",
       "  <tbody>\n",
       "    <tr>\n",
       "      <th>0</th>\n",
       "      <td>3</td>\n",
       "      <td>Barry</td>\n",
       "      <td>Alabama Power Co</td>\n",
       "      <td>AL</td>\n",
       "      <td>CA</td>\n",
       "      <td>NG</td>\n",
       "      <td>NG</td>\n",
       "      <td>2824887.00</td>\n",
       "      <td>2019</td>\n",
       "      <td>Natural Gas</td>\n",
       "      <td>Fossil</td>\n",
       "    </tr>\n",
       "    <tr>\n",
       "      <th>1</th>\n",
       "      <td>3</td>\n",
       "      <td>Barry</td>\n",
       "      <td>Alabama Power Co</td>\n",
       "      <td>AL</td>\n",
       "      <td>CT</td>\n",
       "      <td>NG</td>\n",
       "      <td>NG</td>\n",
       "      <td>5306391.00</td>\n",
       "      <td>2019</td>\n",
       "      <td>Natural Gas</td>\n",
       "      <td>Fossil</td>\n",
       "    </tr>\n",
       "    <tr>\n",
       "      <th>2</th>\n",
       "      <td>3</td>\n",
       "      <td>Barry</td>\n",
       "      <td>Alabama Power Co</td>\n",
       "      <td>AL</td>\n",
       "      <td>ST</td>\n",
       "      <td>BIT</td>\n",
       "      <td>COL</td>\n",
       "      <td>4174904.20</td>\n",
       "      <td>2019</td>\n",
       "      <td>Coal</td>\n",
       "      <td>Fossil</td>\n",
       "    </tr>\n",
       "    <tr>\n",
       "      <th>3</th>\n",
       "      <td>3</td>\n",
       "      <td>Barry</td>\n",
       "      <td>Alabama Power Co</td>\n",
       "      <td>AL</td>\n",
       "      <td>ST</td>\n",
       "      <td>NG</td>\n",
       "      <td>NG</td>\n",
       "      <td>164624.81</td>\n",
       "      <td>2019</td>\n",
       "      <td>Natural Gas</td>\n",
       "      <td>Fossil</td>\n",
       "    </tr>\n",
       "    <tr>\n",
       "      <th>4</th>\n",
       "      <td>3</td>\n",
       "      <td>Barry</td>\n",
       "      <td>Alabama Power Co</td>\n",
       "      <td>AL</td>\n",
       "      <td>ST</td>\n",
       "      <td>SUB</td>\n",
       "      <td>COL</td>\n",
       "      <td>0.00</td>\n",
       "      <td>2019</td>\n",
       "      <td>Coal</td>\n",
       "      <td>Fossil</td>\n",
       "    </tr>\n",
       "  </tbody>\n",
       "</table>\n",
       "</div>"
      ],
      "text/plain": [
       "   Plant Id Plant Name     Operator Name Plant State Reported\\nPrime Mover  \\\n",
       "0         3      Barry  Alabama Power Co          AL                    CA   \n",
       "1         3      Barry  Alabama Power Co          AL                    CT   \n",
       "2         3      Barry  Alabama Power Co          AL                    ST   \n",
       "3         3      Barry  Alabama Power Co          AL                    ST   \n",
       "4         3      Barry  Alabama Power Co          AL                    ST   \n",
       "\n",
       "  Reported\\nFuel Type Code AER\\nFuel Type Code  \\\n",
       "0                       NG                  NG   \n",
       "1                       NG                  NG   \n",
       "2                      BIT                 COL   \n",
       "3                       NG                  NG   \n",
       "4                      SUB                 COL   \n",
       "\n",
       "   Net Generation\\n(Megawatthours)  YEAR Primary Fuel Fossil?  \n",
       "0                       2824887.00  2019  Natural Gas  Fossil  \n",
       "1                       5306391.00  2019  Natural Gas  Fossil  \n",
       "2                       4174904.20  2019         Coal  Fossil  \n",
       "3                        164624.81  2019  Natural Gas  Fossil  \n",
       "4                             0.00  2019         Coal  Fossil  "
      ]
     },
     "execution_count": 74,
     "metadata": {},
     "output_type": "execute_result"
    }
   ],
   "source": [
    "prod_2019_sum.head()"
   ]
  },
  {
   "cell_type": "code",
   "execution_count": 75,
   "metadata": {},
   "outputs": [
    {
     "data": {
      "text/plain": [
       "Fossil?\n",
       "Fossil     2.713266e+09\n",
       "Nuclear    7.971779e+08\n",
       "Solar      2.489290e+07\n",
       "Name: Net Generation\\n(Megawatthours), dtype: float64"
      ]
     },
     "execution_count": 75,
     "metadata": {},
     "output_type": "execute_result"
    }
   ],
   "source": [
    "Prod_type_2019 = prod_2019_sum.groupby(['Fossil?'])['Net Generation\\n(Megawatthours)'].sum()\n",
    "Prod_type_2019 = Prod_type_2019.sort_values(ascending=False)\n",
    "Prod_type_2018 = prod_2018_sum.groupby(['Fossil?'])['Net Generation\\n(Megawatthours)'].sum()\n",
    "Prod_type_2018 = Prod_type_2018.sort_values(ascending=False)\n",
    "Prod_type_2017 = prod_2017_sum.groupby(['Fossil?'])['Net Generation\\n(Megawatthours)'].sum()\n",
    "Prod_type_2017 = Prod_type_2017.sort_values(ascending=False)\n",
    "Prod_type_2016 = prod_2016_sum.groupby(['Fossil?'])['Net Generation\\n(Megawatthours)'].sum()\n",
    "Prod_type_2016 = Prod_type_2016.sort_values(ascending=False)\n",
    "Prod_type_2015 = prod_2015_sum.groupby(['Fossil?'])['Net Generation\\n(Megawatthours)'].sum()\n",
    "Prod_type_2015 = Prod_type_2015.sort_values(ascending=False)\n",
    "Prod_type_2015"
   ]
  },
  {
   "cell_type": "code",
   "execution_count": 76,
   "metadata": {},
   "outputs": [
    {
     "data": {
      "text/plain": [
       "([2713265825.148005,\n",
       "  2640887626.5520058,\n",
       "  2522877640.4460068,\n",
       "  2639065599.3250012,\n",
       "  2565497070.3839998],\n",
       " [797177877.0, 805693948.0, 804949635.0, 807084477.0, 809409262.0],\n",
       " [24892903.602000006,\n",
       "  36054121.147000015,\n",
       "  53286174.327000022,\n",
       "  63825323.169999987,\n",
       "  72234173.688000023])"
      ]
     },
     "execution_count": 76,
     "metadata": {},
     "output_type": "execute_result"
    }
   ],
   "source": [
    "solar = []\n",
    "nuclear = []\n",
    "fossil = []\n",
    "\n",
    "data = [Prod_type_2015, Prod_type_2016, Prod_type_2017, Prod_type_2018, Prod_type_2019]\n",
    "for i in data:\n",
    "    fossil.append(i[0])\n",
    "    nuclear.append(i[1])\n",
    "    solar.append(i[2])\n",
    "    \n",
    "fossil, nuclear, solar      "
   ]
  },
  {
   "cell_type": "code",
   "execution_count": 77,
   "metadata": {
    "collapsed": true
   },
   "outputs": [],
   "source": [
    "#scaling for graphic\n",
    "fossil_p = []\n",
    "nuclear_p = []\n",
    "solar_p = []\n",
    "\n",
    "for i in fossil:\n",
    "    fossil_p.append(i/1000000000)\n",
    "\n",
    "for i in nuclear:\n",
    "    nuclear_p.append(i/1000000000)\n",
    "\n",
    "for i in solar:\n",
    "    solar_p.append(i/1000000000)"
   ]
  },
  {
   "cell_type": "code",
   "execution_count": 78,
   "metadata": {},
   "outputs": [
    {
     "data": {
      "image/png": "[encoded data removed]",
      "text/plain": [
       "<matplotlib.figure.Figure at 0x2465434b668>"
      ]
     },
     "metadata": {},
     "output_type": "display_data"
    }
   ],
   "source": [
    "dates = [2015, 2016, 2017, 2018, 2019]\n",
    "x = np.arange(len(dates))\n",
    "\n",
    "width = 0.24\n",
    "\n",
    "fig, ax = plt.subplots(figsize=(9, 4.0), dpi=120)\n",
    "fos = ax.bar(x - width, fossil_p, width, color = 'dimgray', label='fossil')\n",
    "nuc = ax.bar(x, nuclear_p, width, color = 'blue', label='nuclear')\n",
    "sol = ax.bar(x + width, solar_p, width, color = 'gold', label='solar')\n",
    "\n",
    "plt.title('U.S. Solar, Nuclear and Fossil Electricity Production Comparison')\n",
    "ax.set_ylabel('MW-hrs Production (billions)')\n",
    "plt.ylim(0,3.5)\n",
    "plt.yticks(np.arange(0,3.5,1))\n",
    "ax.set_xticks(x)\n",
    "ax.set_xticklabels(dates)\n",
    "plt.grid(b=False, axis='x')\n",
    "\n",
    "plt.legend()\n",
    "plt.show()"
   ]
  },
  {
   "cell_type": "code",
   "execution_count": null,
   "metadata": {
    "collapsed": true
   },
   "outputs": [],
   "source": []
  }
 ],
 "metadata": {
  "anaconda-cloud": {},
  "kernelspec": {
   "display_name": "Python [default]",
   "language": "python",
   "name": "python3"
  },
  "language_info": {
   "codemirror_mode": {
    "name": "ipython",
    "version": 3
   },
   "file_extension": ".py",
   "mimetype": "text/x-python",
   "name": "python",
   "nbconvert_exporter": "python",
   "pygments_lexer": "ipython3",
   "version": "3.5.2"
  }
 },
 "nbformat": 4,
 "nbformat_minor": 1
}
