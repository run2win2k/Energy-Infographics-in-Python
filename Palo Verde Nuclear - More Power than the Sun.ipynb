{
 "cells": [
  {
   "cell_type": "markdown",
   "metadata": {},
   "source": [
    "Disclaimer: This notebook is provided for self-education and data exploration and may be freely \n",
    "shared and distributed, provided that the original author is credited.  twitter@mallet_matt"
   ]
  },
  {
   "cell_type": "markdown",
   "metadata": {},
   "source": [
    "This notebook provides Python scripts to allow processing of annual EIA-923 data files, which provides annual utility scale electrical production data for the United States as published by the US Energy Information Administration."
   ]
  },
  {
   "cell_type": "code",
   "execution_count": 1,
   "metadata": {
    "collapsed": true
   },
   "outputs": [],
   "source": [
    "import pandas as pd\n",
    "import numpy as np\n",
    "from pandas import ExcelWriter\n",
    "from pandas import ExcelFile"
   ]
  },
  {
   "cell_type": "markdown",
   "metadata": {},
   "source": [
    "Data files for import may be accessed at https://www.eia.gov/electricity/data/eia923/.  Examples are provided to access data for 2010, 2014 and 2019 to look at 10 year trends.  Data for other years of interest may be processed similarly, by importing year specific EIA-923."
   ]
  },
  {
   "cell_type": "code",
   "execution_count": 2,
   "metadata": {
    "collapsed": true
   },
   "outputs": [],
   "source": [
    "production_2019 = pd.read_excel(\"EIA923_Schedules_2_3_4_5_M_12_2019_21FEB2020.xlsx\",skiprows=5)\n",
    "production_2014 = pd.read_excel(\"EIA923_Schedules_2_3_4_5_M_12_2014_Final_Revision.xlsx\",skiprows=5)\n",
    "production_2010 = pd.read_excel(\"EIA923 SCHEDULES 2_3_4_5 Final 2010.xlsx\",skiprows=7)"
   ]
  },
  {
   "cell_type": "markdown",
   "metadata": {},
   "source": [
    "Select relevant columns from full tables"
   ]
  },
  {
   "cell_type": "code",
   "execution_count": 3,
   "metadata": {
    "collapsed": true
   },
   "outputs": [],
   "source": [
    "nameplate_columns = ['Utility ID', 'Utility Name', 'Plant Code', 'Plant Name', 'Operating Year',\\\n",
    "            'State','County','Technology','Prime Mover','Energy Source 1','Nameplate Capacity (MW)']"
   ]
  },
  {
   "cell_type": "code",
   "execution_count": 4,
   "metadata": {
    "collapsed": true
   },
   "outputs": [],
   "source": [
    "prod_columns =['Plant Id','Plant Name', 'Operator Name','Plant State','Reported\\nPrime Mover',\\\n",
    "       'Reported\\nFuel Type Code', 'AER\\nFuel Type Code','Net Generation\\n(Megawatthours)','YEAR']"
   ]
  },
  {
   "cell_type": "markdown",
   "metadata": {},
   "source": [
    "Format for 2010 (and prior years) has slightly different format (column names) than EIA-923 from \n",
    "2011 to present."
   ]
  },
  {
   "cell_type": "code",
   "execution_count": 5,
   "metadata": {
    "collapsed": true
   },
   "outputs": [],
   "source": [
    "prod_2010_columns = ['Plant ID','Plant Name', 'Operator Name','State','Reported Prime Mover',\\\n",
    "       'Reported Fuel Type Code', 'AER Fuel Type Code','NET GENERATION (megawatthours)','Year']"
   ]
  },
  {
   "cell_type": "code",
   "execution_count": 6,
   "metadata": {
    "collapsed": true
   },
   "outputs": [],
   "source": [
    "production_2019_short = production_2019[prod_columns].copy()\n",
    "production_2014_short = production_2014[prod_columns].copy()\n",
    "production_2010_short = production_2010[prod_2010_columns].copy()"
   ]
  },
  {
   "cell_type": "markdown",
   "metadata": {},
   "source": [
    "Calculate total US Electricity Production (MW-hrs) for 2010, 2014 and 2019."
   ]
  },
  {
   "cell_type": "code",
   "execution_count": 7,
   "metadata": {},
   "outputs": [
    {
     "data": {
      "text/plain": [
       "('2019: 4.12E+9 MW-hr', '2014: 4.09E+9 MW-hr', '2010: 4.13E+9 MW-hr')"
      ]
     },
     "execution_count": 7,
     "metadata": {},
     "output_type": "execute_result"
    }
   ],
   "source": [
    "prod_total_19 = production_2019_short['Net Generation\\n(Megawatthours)'].sum()\n",
    "prod_total_14 = production_2014_short['Net Generation\\n(Megawatthours)'].sum()\n",
    "prod_total_10 = production_2010_short['NET GENERATION (megawatthours)'].sum()\n",
    "\n",
    "from decimal import Decimal\n",
    "\"2019: {:.2E} MW-hr\".format(Decimal(str(prod_total_19))), \\\n",
    "\"2014: {:.2E} MW-hr\".format(Decimal(str(prod_total_14))), \\\n",
    "\"2010: {:.2E} MW-hr\".format(Decimal(str(prod_total_10))), \\"
   ]
  },
  {
   "cell_type": "markdown",
   "metadata": {},
   "source": [
    "Note that utility scale electrical generation is basically flat over this 10 year period.  The \n",
    "data evaluated here is for utility scale (1 MW nameplate and greater) electrical production, which\n",
    "is reported and published in EIA-923.  There is not comparable, highly reliable data for homescale \n",
    "production (expected to be primarily solar).  It is expected that both increased energy efficiency\n",
    "measures (e.g. LED lighting) and home scale solar are the reason for lack of growth in utility \n",
    "scale output, because significant population growth would be expected to result in some net \n",
    "increase in demand.  The EIA provides estimates for small scale solar at:\n",
    "https://www.eia.gov/electricity/annual/html/epa_01_01.html\n",
    "Estimated small scale solar is significantly less than utility scale generation."
   ]
  },
  {
   "cell_type": "markdown",
   "metadata": {},
   "source": [
    "Reported Fuel type Codes taken from EIA923 File Layout"
   ]
  },
  {
   "cell_type": "code",
   "execution_count": 10,
   "metadata": {
    "collapsed": true
   },
   "outputs": [],
   "source": [
    "fuel_dict = {'NUC': 'Nuclear', 'WAT':'Hydro','GEO':'Geothermal','WND':'Wind','SUN':'Solar'}\n",
    "fuel_dict.update(dict.fromkeys(['SUB','BIT','RC','WC','LIG', 'ANT','SC','SGC'],'Coal'))\n",
    "fuel_dict.update(dict.fromkeys(['NG','PG'],'Natural Gas')) \n",
    "fuel_dict.update(dict.fromkeys(['WDS','BLQ','WDL'],'Wood'))\n",
    "fuel_dict.update(dict.fromkeys(['OBG','OBS','OBL','AB','MSB'],'Biomass'))\n",
    "fuel_dict.update(dict.fromkeys(['RFO','DFO','JF','SGP','KER','PC'],'Petroleum'))\n",
    "fuel_dict.update(dict.fromkeys(['MSN','LFG','TDF', 'WO','SLW'],'Waste'))\n",
    "fuel_dict.update(dict.fromkeys(['WH', 'OTH','PUR','OG', 'BFG'],'Other'))"
   ]
  },
  {
   "cell_type": "markdown",
   "metadata": {},
   "source": [
    "Based on looking at data from 2010-2019, it is notable that solar generation has increased\n",
    "from less than 0.1% of electrical production in 2010 to 1.7% in 2019.  Likewise, coal's share\n",
    "of electrical generation has dropped from 44% to 23%, while natural gas has increased its share\n",
    "from 24% to 38%.  Overall fossil production (coal and natural gas combined) has dropped from\n",
    "69% to 62% of electrical generation, with all of the lost market share going to wind and solar."
   ]
  },
  {
   "cell_type": "code",
   "execution_count": 13,
   "metadata": {},
   "outputs": [
    {
     "data": {
      "text/plain": [
       "Primary Fuel\n",
       "Natural Gas    1.581826e+09\n",
       "Coal           9.661483e+08\n",
       "Nuclear        8.094093e+08\n",
       "Wind           3.000710e+08\n",
       "Hydro          2.684466e+08\n",
       "Solar          7.223417e+07\n",
       "Wood           3.985077e+07\n",
       "Waste          1.949644e+07\n",
       "Other          1.868743e+07\n",
       "Petroleum      1.752268e+07\n",
       "Geothermal     1.601059e+07\n",
       "Biomass        8.421288e+06\n",
       "Name: Net Generation\\n(Megawatthours), dtype: float64"
      ]
     },
     "execution_count": 13,
     "metadata": {},
     "output_type": "execute_result"
    }
   ],
   "source": [
    "production_2019_short['Primary Fuel'] = production_2019_short['Reported\\nFuel Type Code'].map(fuel_dict)\n",
    "Prod_type_summary_19 = production_2019_short.groupby(['Primary Fuel'])['Net Generation\\n(Megawatthours)'].sum()\n",
    "Prod_type_summary_19.sort_values(ascending=False)"
   ]
  },
  {
   "cell_type": "markdown",
   "metadata": {},
   "source": [
    "Calculate % breakdown of US Electricity Production"
   ]
  },
  {
   "cell_type": "code",
   "execution_count": 14,
   "metadata": {},
   "outputs": [
    {
     "data": {
      "text/plain": [
       "Primary Fuel\n",
       "Natural Gas    0.384120\n",
       "Coal           0.234613\n",
       "Nuclear        0.196552\n",
       "Wind           0.072867\n",
       "Hydro          0.065188\n",
       "Solar          0.017541\n",
       "Wood           0.009677\n",
       "Waste          0.004734\n",
       "Other          0.004538\n",
       "Petroleum      0.004255\n",
       "Geothermal     0.003888\n",
       "Biomass        0.002045\n",
       "Name: Net Generation\\n(Megawatthours), dtype: float64"
      ]
     },
     "execution_count": 14,
     "metadata": {},
     "output_type": "execute_result"
    }
   ],
   "source": [
    "(Prod_type_summary_19/prod_total_19).sort_values(ascending=False)"
   ]
  },
  {
   "cell_type": "code",
   "execution_count": 63,
   "metadata": {},
   "outputs": [
    {
     "data": {
      "text/plain": [
       "Primary Fuel\n",
       "Coal           1.581710e+09\n",
       "Natural Gas    1.126623e+09\n",
       "Nuclear        7.971660e+08\n",
       "Hydro          2.531931e+08\n",
       "Wind           1.816553e+08\n",
       "Wood           4.233973e+07\n",
       "Petroleum      2.973544e+07\n",
       "Waste          1.991889e+07\n",
       "Solar          1.769103e+07\n",
       "Other          1.736642e+07\n",
       "Geothermal     1.587694e+07\n",
       "Biomass        1.029663e+07\n",
       "Name: Net Generation\\n(Megawatthours), dtype: float64"
      ]
     },
     "execution_count": 63,
     "metadata": {},
     "output_type": "execute_result"
    }
   ],
   "source": [
    "production_2014_short['Primary Fuel'] = production_2014_short['Reported\\nFuel Type Code'].map(fuel_dict)\n",
    "Prod_type_summary_14 = production_2014_short.groupby(['Primary Fuel'])['Net Generation\\n(Megawatthours)'].sum()\n",
    "Prod_type_summary_14.sort_values(ascending=False)"
   ]
  },
  {
   "cell_type": "code",
   "execution_count": 64,
   "metadata": {},
   "outputs": [
    {
     "data": {
      "text/plain": [
       "Primary Fuel\n",
       "Coal           0.386386\n",
       "Natural Gas    0.275215\n",
       "Nuclear        0.194734\n",
       "Hydro          0.061851\n",
       "Wind           0.044375\n",
       "Wood           0.010343\n",
       "Petroleum      0.007264\n",
       "Waste          0.004866\n",
       "Solar          0.004322\n",
       "Other          0.004242\n",
       "Geothermal     0.003878\n",
       "Biomass        0.002515\n",
       "Name: Net Generation\\n(Megawatthours), dtype: float64"
      ]
     },
     "execution_count": 64,
     "metadata": {},
     "output_type": "execute_result"
    }
   ],
   "source": [
    "(Prod_type_summary_14/prod_total_14).sort_values(ascending=False)"
   ]
  },
  {
   "cell_type": "code",
   "execution_count": 65,
   "metadata": {},
   "outputs": [
    {
     "data": {
      "text/plain": [
       "Primary Fuel\n",
       "Coal           1.847290e+09\n",
       "Natural Gas    9.877243e+08\n",
       "Nuclear        8.069683e+08\n",
       "Hydro          2.547019e+08\n",
       "Wind           9.465225e+07\n",
       "Wood           3.717216e+07\n",
       "Petroleum      3.656953e+07\n",
       "Other          1.690359e+07\n",
       "Waste          1.625023e+07\n",
       "Geothermal     1.521921e+07\n",
       "Biomass        1.039595e+07\n",
       "Solar          1.212182e+06\n",
       "Name: NET GENERATION (megawatthours), dtype: float64"
      ]
     },
     "execution_count": 65,
     "metadata": {},
     "output_type": "execute_result"
    }
   ],
   "source": [
    "production_2010_short['Primary Fuel'] = production_2010_short['Reported Fuel Type Code'].map(fuel_dict)\n",
    "Prod_type_summary_10 = production_2010_short.groupby(['Primary Fuel'])['NET GENERATION (megawatthours)'].sum()\n",
    "Prod_type_summary_10.sort_values(ascending=False)"
   ]
  },
  {
   "cell_type": "code",
   "execution_count": 66,
   "metadata": {},
   "outputs": [
    {
     "data": {
      "text/plain": [
       "Primary Fuel\n",
       "Coal           0.447821\n",
       "Natural Gas    0.239445\n",
       "Nuclear        0.195626\n",
       "Hydro          0.061745\n",
       "Wind           0.022946\n",
       "Wood           0.009011\n",
       "Petroleum      0.008865\n",
       "Other          0.004098\n",
       "Waste          0.003939\n",
       "Geothermal     0.003689\n",
       "Biomass        0.002520\n",
       "Solar          0.000294\n",
       "Name: NET GENERATION (megawatthours), dtype: float64"
      ]
     },
     "execution_count": 66,
     "metadata": {},
     "output_type": "execute_result"
    }
   ],
   "source": [
    "(Prod_type_summary_10/prod_total_10).sort_values(ascending=False)"
   ]
  },
  {
   "cell_type": "markdown",
   "metadata": {},
   "source": [
    "Get Palo Verde production data"
   ]
  },
  {
   "cell_type": "code",
   "execution_count": 8,
   "metadata": {},
   "outputs": [
    {
     "data": {
      "text/plain": [
       "Plant Name\n",
       "Palo Verde                            31920368.0\n",
       "Browns Ferry                          29519900.0\n",
       "Peach Bottom                          22294385.0\n",
       "South Texas Project                   21993297.0\n",
       "Oconee                                21884681.0\n",
       "TalenEnergy Susquehanna               20919007.0\n",
       "Braidwood Generation Station          20251140.0\n",
       "Byron Generating Station              20117981.0\n",
       "Vogtle                                19674300.0\n",
       "Catawba                               19593607.0\n",
       "McGuire                               19588255.0\n",
       "LaSalle Generating Station            19435255.0\n",
       "Limerick                              19345594.0\n",
       "Comanche Peak                         19304710.0\n",
       "Sequoyah                              18064619.0\n",
       "PSEG Salem Generating Station         17910378.0\n",
       "Watts Bar Nuclear Plant               17655786.0\n",
       "Millstone                             16733398.0\n",
       "Diablo Canyon                         16165384.0\n",
       "Donald C Cook                         16157848.0\n",
       "Nine Mile Point Nuclear Station       15821376.0\n",
       "Quad Cities Generating Station        15486108.0\n",
       "Beaver Valley                         15456470.0\n",
       "North Anna                            15324539.0\n",
       "Dresden Generating Station            15081715.0\n",
       "Calvert Cliffs Nuclear Power Plant    15012922.0\n",
       "St Lucie                              14965628.0\n",
       "Brunswick Nuclear                     14716756.0\n",
       "Surry                                 14172977.0\n",
       "Turkey Point                          14142438.0\n",
       "Joseph M Farley                       14136962.0\n",
       "Edwin I Hatch                         13916881.0\n",
       "Arkansas Nuclear One                  13574947.0\n",
       "Grand Gulf                            11032514.0\n",
       "Seabrook                              10906923.0\n",
       "Point Beach Nuclear Plant             10030305.0\n",
       "Fermi                                  9886260.0\n",
       "Wolf Creek Generating Station          9247734.0\n",
       "Callaway                               9189863.0\n",
       "Perry                                  9173102.0\n",
       "Prairie Island                         9139972.0\n",
       "Columbia Generating Station            8866499.0\n",
       "PSEG Hope Creek Generating Station     8726946.0\n",
       "Clinton Power Station                  8363289.0\n",
       "Indian Point 2                         8351945.0\n",
       "Indian Point 3                         8342898.0\n",
       "V C Summer                             8248436.0\n",
       "Davis Besse                            7837459.0\n",
       "Harris                                 7610594.0\n",
       "Waterford 3                            7560402.0\n",
       "James A Fitzpatrick                    7355106.0\n",
       "Cooper Nuclear Station                 6951600.0\n",
       "Palisades                              6865167.0\n",
       "River Bend                             6420933.0\n",
       "H B Robinson                           6376319.0\n",
       "Duane Arnold Energy Center             5235716.0\n",
       "Three Mile Island                      5214196.0\n",
       "R E Ginna Nuclear Power Plant          4993693.0\n",
       "Monticello Nuclear Facility            4964575.0\n",
       "Pilgrim Nuclear Power Station          2177204.0\n",
       "Name: Net Generation\\n(Megawatthours), dtype: float64"
      ]
     },
     "execution_count": 8,
     "metadata": {},
     "output_type": "execute_result"
    }
   ],
   "source": [
    "nuc = production_2019_short[production_2019_short['Reported\\nFuel Type Code'] == 'NUC']\n",
    "nuc = nuc.sort_values(by=['Net Generation\\n(Megawatthours)'], ascending = False)\n",
    "nuc.groupby('Plant Name')['Net Generation\\n(Megawatthours)'].sum().sort_values(ascending=False)"
   ]
  },
  {
   "cell_type": "code",
   "execution_count": null,
   "metadata": {
    "collapsed": true
   },
   "outputs": [],
   "source": []
  }
 ],
 "metadata": {
  "anaconda-cloud": {},
  "kernelspec": {
   "display_name": "Python [conda root]",
   "language": "python",
   "name": "conda-root-py"
  },
  "language_info": {
   "codemirror_mode": {
    "name": "ipython",
    "version": 3
   },
   "file_extension": ".py",
   "mimetype": "text/x-python",
   "name": "python",
   "nbconvert_exporter": "python",
   "pygments_lexer": "ipython3",
   "version": "3.5.2"
  }
 },
 "nbformat": 4,
 "nbformat_minor": 1
}
